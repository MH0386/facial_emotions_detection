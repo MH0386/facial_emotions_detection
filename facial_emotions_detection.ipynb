{
 "metadata": {
  "kernelspec": {
   "name": "python3",
   "display_name": "Python 3",
   "language": "python"
  },
  "language_info": {
   "name": "python",
   "version": "3.10.12",
   "mimetype": "text/x-python",
   "codemirror_mode": {
    "name": "ipython",
    "version": 3
   },
   "pygments_lexer": "ipython3",
   "nbconvert_exporter": "python",
   "file_extension": ".py"
  },
  "kaggle": {
   "accelerator": "gpu",
   "dataSources": [
    {
     "sourceId": 1351797,
     "sourceType": "datasetVersion",
     "datasetId": 786787
    },
    {
     "sourceId": 2887117,
     "sourceType": "datasetVersion",
     "datasetId": 1768625
    }
   ],
   "isInternetEnabled": true,
   "language": "python",
   "sourceType": "notebook",
   "isGpuEnabled": true
  }
 },
 "nbformat_minor": 4,
 "nbformat": 4,
 "cells": [
  {
   "cell_type": "code",
   "source": [
    "! pip install sklearn-genetic-opt xgboost"
   ],
   "metadata": {
    "execution": {
     "iopub.status.busy": "2023-12-26T12:21:24.318917Z",
     "iopub.execute_input": "2023-12-26T12:21:24.319727Z",
     "iopub.status.idle": "2023-12-26T12:21:37.459501Z",
     "shell.execute_reply.started": "2023-12-26T12:21:24.319691Z",
     "shell.execute_reply": "2023-12-26T12:21:37.458415Z"
    },
    "trusted": true,
    "ExecuteTime": {
     "end_time": "2023-12-26T21:31:47.853132Z",
     "start_time": "2023-12-26T21:31:44.801430100Z"
    }
   },
   "execution_count": 2,
   "outputs": [
    {
     "name": "stdout",
     "output_type": "stream",
     "text": [
      "/bin/bash: warning: setlocale: LC_ALL: cannot change locale (en_US.UTF-8)\r\n",
      "Requirement already satisfied: sklearn-genetic-opt in /home/mohamed/anaconda3/lib/python3.11/site-packages (0.10.1)\r\n",
      "Requirement already satisfied: xgboost in /home/mohamed/anaconda3/lib/python3.11/site-packages (2.0.3)\r\n",
      "Requirement already satisfied: scikit-learn>=1.1.0 in /home/mohamed/anaconda3/lib/python3.11/site-packages (from sklearn-genetic-opt) (1.2.2)\r\n",
      "Requirement already satisfied: numpy>=1.19.0 in /home/mohamed/anaconda3/lib/python3.11/site-packages (from sklearn-genetic-opt) (1.26.2)\r\n",
      "Requirement already satisfied: deap>=1.3.3 in /home/mohamed/anaconda3/lib/python3.11/site-packages (from sklearn-genetic-opt) (1.4.1)\r\n",
      "Requirement already satisfied: tqdm>=4.61.1 in /home/mohamed/anaconda3/lib/python3.11/site-packages (from sklearn-genetic-opt) (4.65.0)\r\n",
      "Requirement already satisfied: scipy in /home/mohamed/anaconda3/lib/python3.11/site-packages (from xgboost) (1.11.4)\r\n",
      "Requirement already satisfied: joblib>=1.1.1 in /home/mohamed/anaconda3/lib/python3.11/site-packages (from scikit-learn>=1.1.0->sklearn-genetic-opt) (1.2.0)\r\n",
      "Requirement already satisfied: threadpoolctl>=2.0.0 in /home/mohamed/anaconda3/lib/python3.11/site-packages (from scikit-learn>=1.1.0->sklearn-genetic-opt) (2.2.0)\r\n"
     ]
    }
   ]
  },
  {
   "cell_type": "code",
   "source": [
    "import os\n",
    "import warnings\n",
    "\n",
    "import matplotlib.pyplot as plt\n",
    "import numpy as np\n",
    "import pandas as pd\n",
    "import seaborn as sns\n",
    "import tensorflow as tf\n",
    "from keras.applications.xception import Xception\n",
    "from sklearn.metrics import accuracy_score, precision_score, recall_score, f1_score, classification_report, \\\n",
    "    confusion_matrix\n",
    "from sklearn.svm import SVC\n",
    "from sklearn_genetic import GASearchCV\n",
    "from sklearn_genetic.plots import plot_search_space\n",
    "from sklearn_genetic.space import Continuous, Categorical, Integer\n",
    "from tensorflow.keras.preprocessing.image import ImageDataGenerator\n",
    "from xgboost import XGBClassifier\n",
    "\n",
    "warnings.filterwarnings('ignore')"
   ],
   "metadata": {
    "collapsed": false,
    "execution": {
     "iopub.status.busy": "2023-12-26T12:21:37.461447Z",
     "iopub.execute_input": "2023-12-26T12:21:37.461752Z",
     "iopub.status.idle": "2023-12-26T12:21:49.801040Z",
     "shell.execute_reply.started": "2023-12-26T12:21:37.461722Z",
     "shell.execute_reply": "2023-12-26T12:21:49.800047Z"
    },
    "trusted": true,
    "ExecuteTime": {
     "end_time": "2023-12-26T21:31:52.067364300Z",
     "start_time": "2023-12-26T21:31:47.855132100Z"
    }
   },
   "execution_count": 3,
   "outputs": [
    {
     "name": "stderr",
     "output_type": "stream",
     "text": [
      "2023-12-26 23:31:48.644863: I tensorflow/core/util/port.cc:113] oneDNN custom operations are on. You may see slightly different numerical results due to floating-point round-off errors from different computation orders. To turn them off, set the environment variable `TF_ENABLE_ONEDNN_OPTS=0`.\n",
      "2023-12-26 23:31:49.081277: E external/local_xla/xla/stream_executor/cuda/cuda_dnn.cc:9261] Unable to register cuDNN factory: Attempting to register factory for plugin cuDNN when one has already been registered\n",
      "2023-12-26 23:31:49.081349: E external/local_xla/xla/stream_executor/cuda/cuda_fft.cc:607] Unable to register cuFFT factory: Attempting to register factory for plugin cuFFT when one has already been registered\n",
      "2023-12-26 23:31:49.113550: E external/local_xla/xla/stream_executor/cuda/cuda_blas.cc:1515] Unable to register cuBLAS factory: Attempting to register factory for plugin cuBLAS when one has already been registered\n",
      "2023-12-26 23:31:49.240747: I tensorflow/core/platform/cpu_feature_guard.cc:182] This TensorFlow binary is optimized to use available CPU instructions in performance-critical operations.\n",
      "To enable the following instructions: AVX2 AVX_VNNI FMA, in other operations, rebuild TensorFlow with the appropriate compiler flags.\n",
      "2023-12-26 23:31:50.798214: W tensorflow/compiler/tf2tensorrt/utils/py_utils.cc:38] TF-TRT Warning: Could not find TensorRT\n"
     ]
    }
   ]
  },
  {
   "cell_type": "code",
   "source": [
    "# Load images and labels\n",
    "path_local = \"../facial_emotion_dataset/\"\n",
    "path_kaggle = \"/kaggle/input/facial-emotion/\"\n",
    "\n",
    "general_path = path_local if os.path.exists(path_local) else path_kaggle\n",
    "path_train_images = os.path.join(general_path, \"train\")  # Path to training images\n",
    "path_test_images = os.path.join(general_path, \"test\")  # Path to test images"
   ],
   "metadata": {
    "collapsed": false,
    "execution": {
     "iopub.status.busy": "2023-12-26T12:21:49.802016Z",
     "iopub.execute_input": "2023-12-26T12:21:49.802474Z",
     "iopub.status.idle": "2023-12-26T12:21:49.810457Z",
     "shell.execute_reply.started": "2023-12-26T12:21:49.802448Z",
     "shell.execute_reply": "2023-12-26T12:21:49.809281Z"
    },
    "trusted": true,
    "ExecuteTime": {
     "end_time": "2023-12-26T21:31:52.082608300Z",
     "start_time": "2023-12-26T21:31:52.067364300Z"
    }
   },
   "execution_count": 4,
   "outputs": []
  },
  {
   "cell_type": "code",
   "source": [
    "def limit_data(data_dir):\n",
    "    a = []\n",
    "    for i in os.listdir(data_dir):\n",
    "        for k, j in enumerate(os.listdir(data_dir + '/' + i)):\n",
    "            a.append((f'{data_dir}/{i}/{j}', i))\n",
    "    return pd.DataFrame(a, columns=['filename', 'class'])"
   ],
   "metadata": {
    "execution": {
     "iopub.status.busy": "2023-12-26T12:21:49.814899Z",
     "iopub.execute_input": "2023-12-26T12:21:49.815214Z",
     "iopub.status.idle": "2023-12-26T12:21:49.828382Z",
     "shell.execute_reply.started": "2023-12-26T12:21:49.815188Z",
     "shell.execute_reply": "2023-12-26T12:21:49.827591Z"
    },
    "trusted": true,
    "ExecuteTime": {
     "end_time": "2023-12-26T21:31:52.084117400Z",
     "start_time": "2023-12-26T21:31:52.072877600Z"
    }
   },
   "execution_count": 5,
   "outputs": []
  },
  {
   "cell_type": "code",
   "outputs": [],
   "source": [
    "# Use the function to limit the data\n",
    "limited_train_data = limit_data(path_train_images)\n",
    "limited_test_data = limit_data(path_test_images)"
   ],
   "metadata": {
    "collapsed": false
   }
  },
  {
   "cell_type": "code",
   "source": [
    "# Data augmentation\n",
    "datagen = ImageDataGenerator(rescale=1. / 255)\n",
    "train_dataset = datagen.flow_from_dataframe(dataframe=limited_train_data)\n",
    "test_dataset = datagen.flow_from_dataframe(dataframe=limited_test_data)"
   ],
   "metadata": {
    "execution": {
     "iopub.status.busy": "2023-12-26T12:21:49.829389Z",
     "iopub.execute_input": "2023-12-26T12:21:49.829668Z",
     "iopub.status.idle": "2023-12-26T12:21:54.503920Z",
     "shell.execute_reply.started": "2023-12-26T12:21:49.829644Z",
     "shell.execute_reply": "2023-12-26T12:21:54.503040Z"
    },
    "trusted": true,
    "ExecuteTime": {
     "end_time": "2023-12-26T21:31:52.471251900Z",
     "start_time": "2023-12-26T21:31:52.076879400Z"
    }
   },
   "execution_count": 6,
   "outputs": [
    {
     "name": "stdout",
     "output_type": "stream",
     "text": [
      "Found 112 validated image filenames belonging to 8 classes.\n",
      "Found 40 validated image filenames belonging to 8 classes.\n"
     ]
    }
   ]
  },
  {
   "cell_type": "code",
   "source": [
    "train_dataset.image_shape"
   ],
   "metadata": {
    "execution": {
     "iopub.status.busy": "2023-12-26T12:21:54.505125Z",
     "iopub.execute_input": "2023-12-26T12:21:54.505441Z",
     "iopub.status.idle": "2023-12-26T12:21:54.512390Z",
     "shell.execute_reply.started": "2023-12-26T12:21:54.505415Z",
     "shell.execute_reply": "2023-12-26T12:21:54.511349Z"
    },
    "trusted": true,
    "ExecuteTime": {
     "end_time": "2023-12-26T21:31:52.472756700Z",
     "start_time": "2023-12-26T21:31:52.462251500Z"
    }
   },
   "execution_count": 7,
   "outputs": [
    {
     "data": {
      "text/plain": "(256, 256, 3)"
     },
     "execution_count": 7,
     "metadata": {},
     "output_type": "execute_result"
    }
   ]
  },
  {
   "cell_type": "code",
   "source": [
    "plt.imshow(train_dataset.next()[0][0])"
   ],
   "metadata": {
    "collapsed": false,
    "execution": {
     "iopub.status.busy": "2023-12-26T12:21:54.513860Z",
     "iopub.execute_input": "2023-12-26T12:21:54.514204Z",
     "iopub.status.idle": "2023-12-26T12:21:55.279745Z",
     "shell.execute_reply.started": "2023-12-26T12:21:54.514171Z",
     "shell.execute_reply": "2023-12-26T12:21:55.278812Z"
    },
    "trusted": true,
    "ExecuteTime": {
     "end_time": "2023-12-26T21:31:55.824417300Z",
     "start_time": "2023-12-26T21:31:52.467254400Z"
    }
   },
   "execution_count": 8,
   "outputs": [
    {
     "data": {
      "text/plain": "<matplotlib.image.AxesImage at 0x7ff40254e610>"
     },
     "execution_count": 8,
     "metadata": {},
     "output_type": "execute_result"
    },
    {
     "data": {
      "text/plain": "<Figure size 640x480 with 1 Axes>",
      "image/png": "[encoded data removed]"
     },
     "metadata": {},
     "output_type": "display_data"
    }
   ]
  },
  {
   "cell_type": "markdown",
   "source": [
    "# Now we will try to use exception Feature extraction architecture "
   ],
   "metadata": {}
  },
  {
   "cell_type": "code",
   "source": [
    "non_trainable_model = Xception(\n",
    "    weights='imagenet',\n",
    "    include_top=False,\n",
    "    input_shape=(train_dataset.image_shape[0], train_dataset.image_shape[1], train_dataset.image_shape[2])\n",
    ")"
   ],
   "metadata": {
    "execution": {
     "iopub.status.busy": "2023-12-26T12:21:55.280814Z",
     "iopub.execute_input": "2023-12-26T12:21:55.281090Z",
     "iopub.status.idle": "2023-12-26T12:22:03.532846Z",
     "shell.execute_reply.started": "2023-12-26T12:21:55.281066Z",
     "shell.execute_reply": "2023-12-26T12:22:03.531537Z"
    },
    "trusted": true,
    "ExecuteTime": {
     "end_time": "2023-12-26T21:36:28.708671800Z",
     "start_time": "2023-12-26T21:36:27.592388300Z"
    }
   },
   "execution_count": 16,
   "outputs": []
  },
  {
   "cell_type": "code",
   "source": [
    "for layer in non_trainable_model.layers:\n",
    "    layer.trainable = False"
   ],
   "metadata": {
    "execution": {
     "iopub.status.busy": "2023-12-26T12:22:03.534235Z",
     "iopub.execute_input": "2023-12-26T12:22:03.535204Z",
     "iopub.status.idle": "2023-12-26T12:22:03.545579Z",
     "shell.execute_reply.started": "2023-12-26T12:22:03.535165Z",
     "shell.execute_reply": "2023-12-26T12:22:03.544551Z"
    },
    "trusted": true,
    "ExecuteTime": {
     "end_time": "2023-12-26T21:36:28.710676400Z",
     "start_time": "2023-12-26T21:36:28.692676900Z"
    }
   },
   "execution_count": 17,
   "outputs": []
  },
  {
   "cell_type": "code",
   "source": [
    "x = non_trainable_model.output\n",
    "x = tf.keras.layers.Conv2D(filters=100, kernel_size=(3, 3), activation='relu')(x)\n",
    "x = tf.keras.layers.MaxPooling2D(pool_size=(2, 2))(x)\n",
    "flatten = tf.keras.layers.Flatten()(x)\n",
    "predictions = tf.keras.layers.Dense(8, activation='softmax')(flatten)"
   ],
   "metadata": {
    "execution": {
     "iopub.status.busy": "2023-12-26T12:22:03.551587Z",
     "iopub.execute_input": "2023-12-26T12:22:03.551863Z",
     "iopub.status.idle": "2023-12-26T12:22:03.603576Z",
     "shell.execute_reply.started": "2023-12-26T12:22:03.551840Z",
     "shell.execute_reply": "2023-12-26T12:22:03.602330Z"
    },
    "trusted": true,
    "ExecuteTime": {
     "end_time": "2023-12-26T21:36:28.750843700Z",
     "start_time": "2023-12-26T21:36:28.694684400Z"
    }
   },
   "execution_count": 18,
   "outputs": []
  },
  {
   "cell_type": "code",
   "outputs": [],
   "source": [
    "#x = tf.keras.layers.GlobalAveragePooling2D()(x)"
   ],
   "metadata": {
    "collapsed": false,
    "ExecuteTime": {
     "end_time": "2023-12-26T21:36:28.752348600Z",
     "start_time": "2023-12-26T21:36:28.723693700Z"
    }
   },
   "execution_count": 19
  },
  {
   "cell_type": "code",
   "source": [
    "model = tf.keras.Model(inputs=non_trainable_model.input, outputs=predictions)"
   ],
   "metadata": {
    "execution": {
     "iopub.status.busy": "2023-12-26T12:22:03.605745Z",
     "iopub.execute_input": "2023-12-26T12:22:03.606156Z",
     "iopub.status.idle": "2023-12-26T12:22:03.627429Z",
     "shell.execute_reply.started": "2023-12-26T12:22:03.606119Z",
     "shell.execute_reply": "2023-12-26T12:22:03.626456Z"
    },
    "trusted": true,
    "ExecuteTime": {
     "end_time": "2023-12-26T21:36:28.753353200Z",
     "start_time": "2023-12-26T21:36:28.727695100Z"
    }
   },
   "execution_count": 20,
   "outputs": []
  },
  {
   "cell_type": "code",
   "source": [
    "model.compile(optimizer='adam', loss='categorical_crossentropy', metrics=['accuracy'])"
   ],
   "metadata": {
    "execution": {
     "iopub.status.busy": "2023-12-26T12:22:03.628588Z",
     "iopub.execute_input": "2023-12-26T12:22:03.634931Z",
     "iopub.status.idle": "2023-12-26T12:22:03.666049Z",
     "shell.execute_reply.started": "2023-12-26T12:22:03.634895Z",
     "shell.execute_reply": "2023-12-26T12:22:03.664953Z"
    },
    "trusted": true,
    "ExecuteTime": {
     "end_time": "2023-12-26T21:36:28.754353Z",
     "start_time": "2023-12-26T21:36:28.743827800Z"
    }
   },
   "execution_count": 21,
   "outputs": []
  },
  {
   "cell_type": "code",
   "source": [
    "model.fit(train_dataset, epochs=30)"
   ],
   "metadata": {
    "execution": {
     "iopub.status.busy": "2023-12-26T12:22:03.670770Z",
     "iopub.execute_input": "2023-12-26T12:22:03.671403Z",
     "iopub.status.idle": "2023-12-26T12:22:52.727077Z",
     "shell.execute_reply.started": "2023-12-26T12:22:03.671375Z",
     "shell.execute_reply": "2023-12-26T12:22:52.726088Z"
    },
    "trusted": true,
    "ExecuteTime": {
     "end_time": "2023-12-26T21:41:23.795884200Z",
     "start_time": "2023-12-26T21:36:28.745826900Z"
    }
   },
   "execution_count": 22,
   "outputs": [
    {
     "name": "stdout",
     "output_type": "stream",
     "text": [
      "Epoch 1/30\n",
      "4/4 [==============================] - 12s 3s/step - loss: 2.8978 - accuracy: 0.1429\n",
      "Epoch 2/30\n",
      "4/4 [==============================] - 10s 2s/step - loss: 2.0169 - accuracy: 0.2054\n",
      "Epoch 3/30\n",
      "4/4 [==============================] - 10s 2s/step - loss: 1.9960 - accuracy: 0.2143\n",
      "Epoch 4/30\n",
      "4/4 [==============================] - 10s 2s/step - loss: 1.9504 - accuracy: 0.1964\n",
      "Epoch 5/30\n",
      "4/4 [==============================] - 10s 2s/step - loss: 1.8508 - accuracy: 0.2946\n",
      "Epoch 6/30\n",
      "4/4 [==============================] - 9s 2s/step - loss: 1.7631 - accuracy: 0.3214\n",
      "Epoch 7/30\n",
      "4/4 [==============================] - 10s 2s/step - loss: 1.6397 - accuracy: 0.4196\n",
      "Epoch 8/30\n",
      "4/4 [==============================] - 10s 2s/step - loss: 1.4746 - accuracy: 0.4643\n",
      "Epoch 9/30\n",
      "4/4 [==============================] - 9s 2s/step - loss: 1.3895 - accuracy: 0.5000\n",
      "Epoch 10/30\n",
      "4/4 [==============================] - 9s 2s/step - loss: 1.2800 - accuracy: 0.6071\n",
      "Epoch 11/30\n",
      "4/4 [==============================] - 10s 2s/step - loss: 1.1499 - accuracy: 0.6696\n",
      "Epoch 12/30\n",
      "4/4 [==============================] - 10s 2s/step - loss: 1.0320 - accuracy: 0.6786\n",
      "Epoch 13/30\n",
      "4/4 [==============================] - 10s 3s/step - loss: 0.8999 - accuracy: 0.7411\n",
      "Epoch 14/30\n",
      "4/4 [==============================] - 10s 2s/step - loss: 0.7756 - accuracy: 0.7857\n",
      "Epoch 15/30\n",
      "4/4 [==============================] - 9s 2s/step - loss: 0.6765 - accuracy: 0.8304\n",
      "Epoch 16/30\n",
      "4/4 [==============================] - 10s 3s/step - loss: 0.5638 - accuracy: 0.9018\n",
      "Epoch 17/30\n",
      "4/4 [==============================] - 10s 2s/step - loss: 0.4931 - accuracy: 0.9107\n",
      "Epoch 18/30\n",
      "4/4 [==============================] - 10s 3s/step - loss: 0.4140 - accuracy: 0.9196\n",
      "Epoch 19/30\n",
      "4/4 [==============================] - 10s 3s/step - loss: 0.3501 - accuracy: 0.9375\n",
      "Epoch 20/30\n",
      "4/4 [==============================] - 10s 2s/step - loss: 0.2969 - accuracy: 0.9554\n",
      "Epoch 21/30\n",
      "4/4 [==============================] - 10s 3s/step - loss: 0.2497 - accuracy: 0.9643\n",
      "Epoch 22/30\n",
      "4/4 [==============================] - 10s 2s/step - loss: 0.2142 - accuracy: 0.9732\n",
      "Epoch 23/30\n",
      "4/4 [==============================] - 10s 2s/step - loss: 0.1825 - accuracy: 0.9732\n",
      "Epoch 24/30\n",
      "4/4 [==============================] - 9s 2s/step - loss: 0.1599 - accuracy: 0.9643\n",
      "Epoch 25/30\n",
      "4/4 [==============================] - 10s 2s/step - loss: 0.1416 - accuracy: 0.9732\n",
      "Epoch 26/30\n",
      "4/4 [==============================] - 10s 2s/step - loss: 0.1268 - accuracy: 0.9732\n",
      "Epoch 27/30\n",
      "4/4 [==============================] - 10s 3s/step - loss: 0.1254 - accuracy: 0.9732\n",
      "Epoch 28/30\n",
      "4/4 [==============================] - 9s 2s/step - loss: 0.1105 - accuracy: 0.9821\n",
      "Epoch 29/30\n",
      "4/4 [==============================] - 10s 2s/step - loss: 0.0926 - accuracy: 0.9732\n",
      "Epoch 30/30\n",
      "4/4 [==============================] - 10s 2s/step - loss: 0.0805 - accuracy: 0.9911\n"
     ]
    },
    {
     "data": {
      "text/plain": "<keras.src.callbacks.History at 0x7ff20f5f0510>"
     },
     "execution_count": 22,
     "metadata": {},
     "output_type": "execute_result"
    }
   ]
  },
  {
   "cell_type": "code",
   "source": [
    "model2 = tf.keras.Model(inputs=non_trainable_model.input, outputs=flatten)"
   ],
   "metadata": {
    "execution": {
     "iopub.status.busy": "2023-12-26T12:22:52.728524Z",
     "iopub.execute_input": "2023-12-26T12:22:52.728863Z",
     "iopub.status.idle": "2023-12-26T12:22:52.745822Z",
     "shell.execute_reply.started": "2023-12-26T12:22:52.728835Z",
     "shell.execute_reply": "2023-12-26T12:22:52.745113Z"
    },
    "trusted": true,
    "ExecuteTime": {
     "end_time": "2023-12-26T21:41:23.796937600Z",
     "start_time": "2023-12-26T21:41:23.739705700Z"
    }
   },
   "execution_count": 23,
   "outputs": []
  },
  {
   "cell_type": "code",
   "source": [
    "#plot_model(non_trainable_model, to_file='Xception_base_model.png', show_shapes=True)"
   ],
   "metadata": {
    "execution": {
     "iopub.status.busy": "2023-12-26T12:22:52.747156Z",
     "iopub.execute_input": "2023-12-26T12:22:52.747774Z",
     "iopub.status.idle": "2023-12-26T12:22:52.751771Z",
     "shell.execute_reply.started": "2023-12-26T12:22:52.747740Z",
     "shell.execute_reply": "2023-12-26T12:22:52.750906Z"
    },
    "trusted": true,
    "ExecuteTime": {
     "end_time": "2023-12-26T21:41:23.798518600Z",
     "start_time": "2023-12-26T21:41:23.747220800Z"
    }
   },
   "execution_count": 24,
   "outputs": []
  },
  {
   "cell_type": "code",
   "source": [
    "train_data_flatten = model2.predict(train_dataset)\n",
    "test_data_flatten = model2.predict(test_dataset)"
   ],
   "metadata": {
    "execution": {
     "iopub.status.busy": "2023-12-26T12:22:52.752912Z",
     "iopub.execute_input": "2023-12-26T12:22:52.753210Z",
     "iopub.status.idle": "2023-12-26T12:23:05.079241Z",
     "shell.execute_reply.started": "2023-12-26T12:22:52.753185Z",
     "shell.execute_reply": "2023-12-26T12:23:05.078327Z"
    },
    "trusted": true,
    "ExecuteTime": {
     "end_time": "2023-12-26T21:41:45.206335Z",
     "start_time": "2023-12-26T21:41:23.754226800Z"
    }
   },
   "execution_count": 25,
   "outputs": [
    {
     "name": "stdout",
     "output_type": "stream",
     "text": [
      "4/4 [==============================] - 11s 2s/step\n",
      "2/2 [==============================] - 5s 3s/step\n"
     ]
    }
   ]
  },
  {
   "cell_type": "code",
   "source": [
    "y_train = np.array(train_dataset.classes)\n",
    "y_test = np.array(test_dataset.classes)"
   ],
   "metadata": {
    "execution": {
     "iopub.status.busy": "2023-12-26T12:23:05.080657Z",
     "iopub.execute_input": "2023-12-26T12:23:05.081447Z",
     "iopub.status.idle": "2023-12-26T12:23:05.086496Z",
     "shell.execute_reply.started": "2023-12-26T12:23:05.081407Z",
     "shell.execute_reply": "2023-12-26T12:23:05.085520Z"
    },
    "trusted": true,
    "ExecuteTime": {
     "end_time": "2023-12-26T21:41:45.208340600Z",
     "start_time": "2023-12-26T21:41:45.194801700Z"
    }
   },
   "execution_count": 26,
   "outputs": []
  },
  {
   "cell_type": "code",
   "source": [
    "train_dataset.next()[0].shape, y_train.shape, train_data_flatten.shape"
   ],
   "metadata": {
    "execution": {
     "iopub.status.busy": "2023-12-26T12:23:05.087886Z",
     "iopub.execute_input": "2023-12-26T12:23:05.088158Z",
     "iopub.status.idle": "2023-12-26T12:23:05.168558Z",
     "shell.execute_reply.started": "2023-12-26T12:23:05.088134Z",
     "shell.execute_reply": "2023-12-26T12:23:05.167672Z"
    },
    "trusted": true,
    "ExecuteTime": {
     "end_time": "2023-12-26T21:41:47.812203500Z",
     "start_time": "2023-12-26T21:41:45.249516600Z"
    }
   },
   "execution_count": 27,
   "outputs": [
    {
     "data": {
      "text/plain": "((32, 256, 256, 3), (112,), (112, 180))"
     },
     "execution_count": 27,
     "metadata": {},
     "output_type": "execute_result"
    }
   ]
  },
  {
   "cell_type": "code",
   "outputs": [
    {
     "data": {
      "text/plain": "array([1, 1, 1, 1, 1, 1, 1, 1, 1, 1, 1, 1, 1, 1, 0, 0, 0, 0, 0, 0, 0, 0,\n       0, 0, 0, 0, 0, 0, 2, 2, 2, 2, 2, 2, 2, 2, 2, 2, 2, 2, 2, 2, 3, 3,\n       3, 3, 3, 3, 3, 3, 3, 3, 3, 3, 3, 3, 4, 4, 4, 4, 4, 4, 4, 4, 4, 4,\n       4, 4, 4, 4, 5, 5, 5, 5, 5, 5, 5, 5, 5, 5, 5, 5, 5, 5, 6, 6, 6, 6,\n       6, 6, 6, 6, 6, 6, 6, 6, 6, 6, 7, 7, 7, 7, 7, 7, 7, 7, 7, 7, 7, 7,\n       7, 7])"
     },
     "execution_count": 28,
     "metadata": {},
     "output_type": "execute_result"
    }
   ],
   "source": [
    "y_train"
   ],
   "metadata": {
    "collapsed": false,
    "ExecuteTime": {
     "end_time": "2023-12-26T21:41:47.815259700Z",
     "start_time": "2023-12-26T21:41:47.793003700Z"
    }
   },
   "execution_count": 28
  },
  {
   "cell_type": "code",
   "outputs": [
    {
     "data": {
      "text/plain": "array([0, 1, 2, 3, 4, 5, 6, 7])"
     },
     "execution_count": 29,
     "metadata": {},
     "output_type": "execute_result"
    }
   ],
   "source": [
    "np.unique(y_train)"
   ],
   "metadata": {
    "collapsed": false,
    "ExecuteTime": {
     "end_time": "2023-12-26T21:41:47.817259800Z",
     "start_time": "2023-12-26T21:41:47.797056Z"
    }
   },
   "execution_count": 29
  },
  {
   "cell_type": "markdown",
   "source": [
    "# SVM"
   ],
   "metadata": {
    "collapsed": false
   }
  },
  {
   "cell_type": "code",
   "source": [
    "svm_model = SVC(kernel='poly', C=1, gamma='auto')"
   ],
   "metadata": {
    "execution": {
     "iopub.status.busy": "2023-12-26T12:23:05.169766Z",
     "iopub.execute_input": "2023-12-26T12:23:05.170069Z",
     "iopub.status.idle": "2023-12-26T12:23:05.174418Z",
     "shell.execute_reply.started": "2023-12-26T12:23:05.170042Z",
     "shell.execute_reply": "2023-12-26T12:23:05.173526Z"
    },
    "trusted": true,
    "ExecuteTime": {
     "end_time": "2023-12-26T21:41:47.820259900Z",
     "start_time": "2023-12-26T21:41:47.804057100Z"
    }
   },
   "execution_count": 30,
   "outputs": []
  },
  {
   "cell_type": "code",
   "source": [
    "svm_model.fit(train_data_flatten, y_train)"
   ],
   "metadata": {
    "execution": {
     "iopub.status.busy": "2023-12-26T12:23:05.176097Z",
     "iopub.execute_input": "2023-12-26T12:23:05.176460Z",
     "iopub.status.idle": "2023-12-26T12:23:08.745479Z",
     "shell.execute_reply.started": "2023-12-26T12:23:05.176425Z",
     "shell.execute_reply": "2023-12-26T12:23:08.744624Z"
    },
    "trusted": true,
    "ExecuteTime": {
     "end_time": "2023-12-26T21:41:47.848818600Z",
     "start_time": "2023-12-26T21:41:47.808057300Z"
    }
   },
   "execution_count": 31,
   "outputs": [
    {
     "data": {
      "text/plain": "SVC(C=1, gamma='auto', kernel='poly')",
      "text/html": "<style>#sk-container-id-1 {color: black;background-color: white;}#sk-container-id-1 pre{padding: 0;}#sk-container-id-1 div.sk-toggleable {background-color: white;}#sk-container-id-1 label.sk-toggleable__label {cursor: pointer;display: block;width: 100%;margin-bottom: 0;padding: 0.3em;box-sizing: border-box;text-align: center;}#sk-container-id-1 label.sk-toggleable__label-arrow:before {content: \"▸\";float: left;margin-right: 0.25em;color: #696969;}#sk-container-id-1 label.sk-toggleable__label-arrow:hover:before {color: black;}#sk-container-id-1 div.sk-estimator:hover label.sk-toggleable__label-arrow:before {color: black;}#sk-container-id-1 div.sk-toggleable__content {max-height: 0;max-width: 0;overflow: hidden;text-align: left;background-color: #f0f8ff;}#sk-container-id-1 div.sk-toggleable__content pre {margin: 0.2em;color: black;border-radius: 0.25em;background-color: #f0f8ff;}#sk-container-id-1 input.sk-toggleable__control:checked~div.sk-toggleable__content {max-height: 200px;max-width: 100%;overflow: auto;}#sk-container-id-1 input.sk-toggleable__control:checked~label.sk-toggleable__label-arrow:before {content: \"▾\";}#sk-container-id-1 div.sk-estimator input.sk-toggleable__control:checked~label.sk-toggleable__label {background-color: #d4ebff;}#sk-container-id-1 div.sk-label input.sk-toggleable__control:checked~label.sk-toggleable__label {background-color: #d4ebff;}#sk-container-id-1 input.sk-hidden--visually {border: 0;clip: rect(1px 1px 1px 1px);clip: rect(1px, 1px, 1px, 1px);height: 1px;margin: -1px;overflow: hidden;padding: 0;position: absolute;width: 1px;}#sk-container-id-1 div.sk-estimator {font-family: monospace;background-color: #f0f8ff;border: 1px dotted black;border-radius: 0.25em;box-sizing: border-box;margin-bottom: 0.5em;}#sk-container-id-1 div.sk-estimator:hover {background-color: #d4ebff;}#sk-container-id-1 div.sk-parallel-item::after {content: \"\";width: 100%;border-bottom: 1px solid gray;flex-grow: 1;}#sk-container-id-1 div.sk-label:hover label.sk-toggleable__label {background-color: #d4ebff;}#sk-container-id-1 div.sk-serial::before {content: \"\";position: absolute;border-left: 1px solid gray;box-sizing: border-box;top: 0;bottom: 0;left: 50%;z-index: 0;}#sk-container-id-1 div.sk-serial {display: flex;flex-direction: column;align-items: center;background-color: white;padding-right: 0.2em;padding-left: 0.2em;position: relative;}#sk-container-id-1 div.sk-item {position: relative;z-index: 1;}#sk-container-id-1 div.sk-parallel {display: flex;align-items: stretch;justify-content: center;background-color: white;position: relative;}#sk-container-id-1 div.sk-item::before, #sk-container-id-1 div.sk-parallel-item::before {content: \"\";position: absolute;border-left: 1px solid gray;box-sizing: border-box;top: 0;bottom: 0;left: 50%;z-index: -1;}#sk-container-id-1 div.sk-parallel-item {display: flex;flex-direction: column;z-index: 1;position: relative;background-color: white;}#sk-container-id-1 div.sk-parallel-item:first-child::after {align-self: flex-end;width: 50%;}#sk-container-id-1 div.sk-parallel-item:last-child::after {align-self: flex-start;width: 50%;}#sk-container-id-1 div.sk-parallel-item:only-child::after {width: 0;}#sk-container-id-1 div.sk-dashed-wrapped {border: 1px dashed gray;margin: 0 0.4em 0.5em 0.4em;box-sizing: border-box;padding-bottom: 0.4em;background-color: white;}#sk-container-id-1 div.sk-label label {font-family: monospace;font-weight: bold;display: inline-block;line-height: 1.2em;}#sk-container-id-1 div.sk-label-container {text-align: center;}#sk-container-id-1 div.sk-container {/* jupyter's `normalize.less` sets `[hidden] { display: none; }` but bootstrap.min.css set `[hidden] { display: none !important; }` so we also need the `!important` here to be able to override the default hidden behavior on the sphinx rendered scikit-learn.org. See: https://github.com/scikit-learn/scikit-learn/issues/21755 */display: inline-block !important;position: relative;}#sk-container-id-1 div.sk-text-repr-fallback {display: none;}</style><div id=\"sk-container-id-1\" class=\"sk-top-container\"><div class=\"sk-text-repr-fallback\"><pre>SVC(C=1, gamma=&#x27;auto&#x27;, kernel=&#x27;poly&#x27;)</pre><b>In a Jupyter environment, please rerun this cell to show the HTML representation or trust the notebook. <br />On GitHub, the HTML representation is unable to render, please try loading this page with nbviewer.org.</b></div><div class=\"sk-container\" hidden><div class=\"sk-item\"><div class=\"sk-estimator sk-toggleable\"><input class=\"sk-toggleable__control sk-hidden--visually\" id=\"sk-estimator-id-1\" type=\"checkbox\" checked><label for=\"sk-estimator-id-1\" class=\"sk-toggleable__label sk-toggleable__label-arrow\">SVC</label><div class=\"sk-toggleable__content\"><pre>SVC(C=1, gamma=&#x27;auto&#x27;, kernel=&#x27;poly&#x27;)</pre></div></div></div></div></div>"
     },
     "execution_count": 31,
     "metadata": {},
     "output_type": "execute_result"
    }
   ]
  },
  {
   "cell_type": "code",
   "outputs": [
    {
     "name": "stdout",
     "output_type": "stream",
     "text": [
      "Accuracy: 0.1\n"
     ]
    }
   ],
   "source": [
    "accuracy_svm = svm_model.score(test_data_flatten, y_test)\n",
    "print(\"Accuracy:\", accuracy_svm)"
   ],
   "metadata": {
    "collapsed": false,
    "ExecuteTime": {
     "end_time": "2023-12-26T21:41:47.908214800Z",
     "start_time": "2023-12-26T21:41:47.817259800Z"
    }
   },
   "execution_count": 32
  },
  {
   "cell_type": "code",
   "source": [
    "# Define the search space for hyperparameters\n",
    "search_space_svm = {\n",
    "    'C': Continuous(0.1, 10),\n",
    "    'gamma': Categorical(['scale', 'auto']),\n",
    "    'kernel': Categorical(['linear', 'poly', 'rbf', 'sigmoid']),\n",
    "    'degree': Integer(1, 6),\n",
    "    'coef0': Continuous(0, 1),\n",
    "    'shrinking': Categorical([True, False]),\n",
    "    'probability': Categorical([True, False]),\n",
    "    'tol': Continuous(1e-5, 1e-2),\n",
    "}"
   ],
   "metadata": {
    "execution": {
     "iopub.status.busy": "2023-12-26T12:26:38.478726Z",
     "iopub.execute_input": "2023-12-26T12:26:38.479116Z",
     "iopub.status.idle": "2023-12-26T12:26:38.484391Z",
     "shell.execute_reply.started": "2023-12-26T12:26:38.479076Z",
     "shell.execute_reply": "2023-12-26T12:26:38.483365Z"
    },
    "trusted": true,
    "ExecuteTime": {
     "end_time": "2023-12-26T21:41:47.947748400Z",
     "start_time": "2023-12-26T21:41:47.825278200Z"
    }
   },
   "execution_count": 33,
   "outputs": []
  },
  {
   "cell_type": "code",
   "source": [
    "# Use the genetic algorithm to search for the best hyperparameters\n",
    "genetic_algo_svm = GASearchCV(\n",
    "    estimator=svm_model,\n",
    "    param_grid=search_space_svm,\n",
    "    scoring='accuracy',\n",
    "    cv=2,\n",
    "    verbose=True,\n",
    "    generations=40,\n",
    "    n_jobs=-1\n",
    ")"
   ],
   "metadata": {
    "execution": {
     "iopub.status.busy": "2023-12-26T12:26:39.289131Z",
     "iopub.execute_input": "2023-12-26T12:26:39.289462Z",
     "iopub.status.idle": "2023-12-26T12:26:39.294621Z",
     "shell.execute_reply.started": "2023-12-26T12:26:39.289437Z",
     "shell.execute_reply": "2023-12-26T12:26:39.293435Z"
    },
    "trusted": true,
    "ExecuteTime": {
     "end_time": "2023-12-26T21:41:47.949262500Z",
     "start_time": "2023-12-26T21:41:47.834305600Z"
    }
   },
   "execution_count": 34,
   "outputs": []
  },
  {
   "cell_type": "code",
   "source": [
    "train_data_flatten.shape, y_train.shape"
   ],
   "metadata": {
    "execution": {
     "iopub.status.busy": "2023-12-26T12:26:39.771077Z",
     "iopub.execute_input": "2023-12-26T12:26:39.771427Z",
     "iopub.status.idle": "2023-12-26T12:26:39.777733Z",
     "shell.execute_reply.started": "2023-12-26T12:26:39.771400Z",
     "shell.execute_reply": "2023-12-26T12:26:39.776818Z"
    },
    "trusted": true,
    "ExecuteTime": {
     "end_time": "2023-12-26T21:41:47.978828500Z",
     "start_time": "2023-12-26T21:41:47.843310100Z"
    }
   },
   "execution_count": 35,
   "outputs": [
    {
     "data": {
      "text/plain": "((112, 180), (112,))"
     },
     "execution_count": 35,
     "metadata": {},
     "output_type": "execute_result"
    }
   ]
  },
  {
   "cell_type": "code",
   "source": [
    "genetic_algo_svm.fit(train_data_flatten, y_train)"
   ],
   "metadata": {
    "execution": {
     "iopub.status.busy": "2023-12-26T12:26:40.337046Z",
     "iopub.execute_input": "2023-12-26T12:26:40.338023Z"
    },
    "trusted": true,
    "ExecuteTime": {
     "end_time": "2023-12-26T21:42:13.124921900Z",
     "start_time": "2023-12-26T21:41:47.898760100Z"
    }
   },
   "execution_count": 36,
   "outputs": [
    {
     "name": "stdout",
     "output_type": "stream",
     "text": [
      "gen\tnevals\tfitness \tfitness_std\tfitness_max\tfitness_min\n",
      "0  \t50    \t0.144286\t0.0269258  \t0.205357   \t0.0714286  \n",
      "1  \t100   \t0.161786\t0.0185267  \t0.205357   \t0.133929   \n",
      "2  \t100   \t0.172679\t0.0188653  \t0.205357   \t0.142857   \n",
      "3  \t100   \t0.188214\t0.0175727  \t0.232143   \t0.151786   \n",
      "4  \t100   \t0.199643\t0.0163429  \t0.232143   \t0.151786   \n",
      "5  \t100   \t0.209464\t0.0129029  \t0.232143   \t0.1875     \n",
      "6  \t100   \t0.217857\t0.0139469  \t0.232143   \t0.196429   \n",
      "7  \t100   \t0.223571\t0.0126219  \t0.232143   \t0.196429   \n",
      "8  \t100   \t0.22875 \t0.00925992 \t0.232143   \t0.196429   \n",
      "9  \t100   \t0.23    \t0.00726678 \t0.232143   \t0.205357   \n",
      "10 \t100   \t0.229464\t0.011044   \t0.232143   \t0.178571   \n",
      "11 \t100   \t0.231429\t0.005      \t0.232143   \t0.196429   \n",
      "12 \t100   \t0.231786\t0.0025     \t0.232143   \t0.214286   \n",
      "13 \t100   \t0.229643\t0.0127576  \t0.232143   \t0.151786   \n",
      "14 \t100   \t0.232143\t2.77556e-17\t0.232143   \t0.232143   \n",
      "15 \t100   \t0.23125 \t0.00625    \t0.232143   \t0.1875     \n",
      "16 \t100   \t0.230357\t0.0061859  \t0.232143   \t0.205357   \n",
      "17 \t100   \t0.231429\t0.00349927 \t0.232143   \t0.214286   \n",
      "18 \t100   \t0.232143\t2.77556e-17\t0.232143   \t0.232143   \n",
      "19 \t100   \t0.232143\t2.77556e-17\t0.232143   \t0.232143   \n",
      "20 \t100   \t0.231607\t0.00375    \t0.232143   \t0.205357   \n",
      "21 \t100   \t0.232143\t2.77556e-17\t0.232143   \t0.232143   \n",
      "22 \t100   \t0.232143\t2.77556e-17\t0.232143   \t0.232143   \n",
      "23 \t100   \t0.22875 \t0.0116947  \t0.232143   \t0.178571   \n",
      "24 \t100   \t0.232143\t2.77556e-17\t0.232143   \t0.232143   \n",
      "25 \t100   \t0.231786\t0.0025     \t0.232143   \t0.214286   \n",
      "26 \t100   \t0.232143\t2.77556e-17\t0.232143   \t0.232143   \n",
      "27 \t100   \t0.232143\t2.77556e-17\t0.232143   \t0.232143   \n",
      "28 \t100   \t0.231429\t0.005      \t0.232143   \t0.196429   \n",
      "29 \t100   \t0.232143\t2.77556e-17\t0.232143   \t0.232143   \n",
      "30 \t100   \t0.232143\t2.77556e-17\t0.232143   \t0.232143   \n",
      "31 \t100   \t0.232143\t2.77556e-17\t0.232143   \t0.232143   \n",
      "32 \t100   \t0.231429\t0.005      \t0.232143   \t0.196429   \n",
      "33 \t100   \t0.229464\t0.0107514  \t0.232143   \t0.178571   \n",
      "34 \t100   \t0.231607\t0.00375    \t0.232143   \t0.205357   \n",
      "35 \t100   \t0.232143\t2.77556e-17\t0.232143   \t0.232143   \n",
      "36 \t100   \t0.232143\t2.77556e-17\t0.232143   \t0.232143   \n",
      "37 \t100   \t0.23125 \t0.00625    \t0.232143   \t0.1875     \n",
      "38 \t100   \t0.232143\t2.77556e-17\t0.232143   \t0.232143   \n",
      "39 \t100   \t0.231964\t0.00125    \t0.232143   \t0.223214   \n",
      "40 \t100   \t0.232143\t2.77556e-17\t0.232143   \t0.232143   \n"
     ]
    },
    {
     "data": {
      "text/plain": "GASearchCV(cv=2,\n           estimator=SVC(C=5.793920520543272, coef0=0.5246447499164322,\n                         degree=4, gamma='auto', kernel='sigmoid',\n                         probability=True, shrinking=False,\n                         tol=6.638660631993536e-05),\n           generations=40, n_jobs=-1,\n           param_grid={'C': <sklearn_genetic.space.space.Continuous object at 0x7ff2e4192dd0>,\n                       'coef0': <sklearn_genetic.space.space.Continuous object at 0x7ff2e4161f50>,\n                       '...\n                       'gamma': <sklearn_genetic.space.space.Categorical object at 0x7ff20f565250>,\n                       'kernel': <sklearn_genetic.space.space.Categorical object at 0x7ff2d4247d90>,\n                       'probability': <sklearn_genetic.space.space.Categorical object at 0x7ff20f4cc310>,\n                       'shrinking': <sklearn_genetic.space.space.Categorical object at 0x7ff2e413d250>,\n                       'tol': <sklearn_genetic.space.space.Continuous object at 0x7ff2e419a450>},\n           return_train_score=True, scoring='accuracy')",
      "text/html": "<style>#sk-container-id-2 {color: black;background-color: white;}#sk-container-id-2 pre{padding: 0;}#sk-container-id-2 div.sk-toggleable {background-color: white;}#sk-container-id-2 label.sk-toggleable__label {cursor: pointer;display: block;width: 100%;margin-bottom: 0;padding: 0.3em;box-sizing: border-box;text-align: center;}#sk-container-id-2 label.sk-toggleable__label-arrow:before {content: \"▸\";float: left;margin-right: 0.25em;color: #696969;}#sk-container-id-2 label.sk-toggleable__label-arrow:hover:before {color: black;}#sk-container-id-2 div.sk-estimator:hover label.sk-toggleable__label-arrow:before {color: black;}#sk-container-id-2 div.sk-toggleable__content {max-height: 0;max-width: 0;overflow: hidden;text-align: left;background-color: #f0f8ff;}#sk-container-id-2 div.sk-toggleable__content pre {margin: 0.2em;color: black;border-radius: 0.25em;background-color: #f0f8ff;}#sk-container-id-2 input.sk-toggleable__control:checked~div.sk-toggleable__content {max-height: 200px;max-width: 100%;overflow: auto;}#sk-container-id-2 input.sk-toggleable__control:checked~label.sk-toggleable__label-arrow:before {content: \"▾\";}#sk-container-id-2 div.sk-estimator input.sk-toggleable__control:checked~label.sk-toggleable__label {background-color: #d4ebff;}#sk-container-id-2 div.sk-label input.sk-toggleable__control:checked~label.sk-toggleable__label {background-color: #d4ebff;}#sk-container-id-2 input.sk-hidden--visually {border: 0;clip: rect(1px 1px 1px 1px);clip: rect(1px, 1px, 1px, 1px);height: 1px;margin: -1px;overflow: hidden;padding: 0;position: absolute;width: 1px;}#sk-container-id-2 div.sk-estimator {font-family: monospace;background-color: #f0f8ff;border: 1px dotted black;border-radius: 0.25em;box-sizing: border-box;margin-bottom: 0.5em;}#sk-container-id-2 div.sk-estimator:hover {background-color: #d4ebff;}#sk-container-id-2 div.sk-parallel-item::after {content: \"\";width: 100%;border-bottom: 1px solid gray;flex-grow: 1;}#sk-container-id-2 div.sk-label:hover label.sk-toggleable__label {background-color: #d4ebff;}#sk-container-id-2 div.sk-serial::before {content: \"\";position: absolute;border-left: 1px solid gray;box-sizing: border-box;top: 0;bottom: 0;left: 50%;z-index: 0;}#sk-container-id-2 div.sk-serial {display: flex;flex-direction: column;align-items: center;background-color: white;padding-right: 0.2em;padding-left: 0.2em;position: relative;}#sk-container-id-2 div.sk-item {position: relative;z-index: 1;}#sk-container-id-2 div.sk-parallel {display: flex;align-items: stretch;justify-content: center;background-color: white;position: relative;}#sk-container-id-2 div.sk-item::before, #sk-container-id-2 div.sk-parallel-item::before {content: \"\";position: absolute;border-left: 1px solid gray;box-sizing: border-box;top: 0;bottom: 0;left: 50%;z-index: -1;}#sk-container-id-2 div.sk-parallel-item {display: flex;flex-direction: column;z-index: 1;position: relative;background-color: white;}#sk-container-id-2 div.sk-parallel-item:first-child::after {align-self: flex-end;width: 50%;}#sk-container-id-2 div.sk-parallel-item:last-child::after {align-self: flex-start;width: 50%;}#sk-container-id-2 div.sk-parallel-item:only-child::after {width: 0;}#sk-container-id-2 div.sk-dashed-wrapped {border: 1px dashed gray;margin: 0 0.4em 0.5em 0.4em;box-sizing: border-box;padding-bottom: 0.4em;background-color: white;}#sk-container-id-2 div.sk-label label {font-family: monospace;font-weight: bold;display: inline-block;line-height: 1.2em;}#sk-container-id-2 div.sk-label-container {text-align: center;}#sk-container-id-2 div.sk-container {/* jupyter's `normalize.less` sets `[hidden] { display: none; }` but bootstrap.min.css set `[hidden] { display: none !important; }` so we also need the `!important` here to be able to override the default hidden behavior on the sphinx rendered scikit-learn.org. See: https://github.com/scikit-learn/scikit-learn/issues/21755 */display: inline-block !important;position: relative;}#sk-container-id-2 div.sk-text-repr-fallback {display: none;}</style><div id=\"sk-container-id-2\" class=\"sk-top-container\"><div class=\"sk-text-repr-fallback\"><pre>GASearchCV(cv=2,\n           estimator=SVC(C=5.793920520543272, coef0=0.5246447499164322,\n                         degree=4, gamma=&#x27;auto&#x27;, kernel=&#x27;sigmoid&#x27;,\n                         probability=True, shrinking=False,\n                         tol=6.638660631993536e-05),\n           generations=40, n_jobs=-1,\n           param_grid={&#x27;C&#x27;: &lt;sklearn_genetic.space.space.Continuous object at 0x7ff2e4192dd0&gt;,\n                       &#x27;coef0&#x27;: &lt;sklearn_genetic.space.space.Continuous object at 0x7ff2e4161f50&gt;,\n                       &#x27;...\n                       &#x27;gamma&#x27;: &lt;sklearn_genetic.space.space.Categorical object at 0x7ff20f565250&gt;,\n                       &#x27;kernel&#x27;: &lt;sklearn_genetic.space.space.Categorical object at 0x7ff2d4247d90&gt;,\n                       &#x27;probability&#x27;: &lt;sklearn_genetic.space.space.Categorical object at 0x7ff20f4cc310&gt;,\n                       &#x27;shrinking&#x27;: &lt;sklearn_genetic.space.space.Categorical object at 0x7ff2e413d250&gt;,\n                       &#x27;tol&#x27;: &lt;sklearn_genetic.space.space.Continuous object at 0x7ff2e419a450&gt;},\n           return_train_score=True, scoring=&#x27;accuracy&#x27;)</pre><b>In a Jupyter environment, please rerun this cell to show the HTML representation or trust the notebook. <br />On GitHub, the HTML representation is unable to render, please try loading this page with nbviewer.org.</b></div><div class=\"sk-container\" hidden><div class=\"sk-item sk-dashed-wrapped\"><div class=\"sk-label-container\"><div class=\"sk-label sk-toggleable\"><input class=\"sk-toggleable__control sk-hidden--visually\" id=\"sk-estimator-id-2\" type=\"checkbox\" ><label for=\"sk-estimator-id-2\" class=\"sk-toggleable__label sk-toggleable__label-arrow\">GASearchCV</label><div class=\"sk-toggleable__content\"><pre>GASearchCV(cv=2,\n           estimator=SVC(C=5.793920520543272, coef0=0.5246447499164322,\n                         degree=4, gamma=&#x27;auto&#x27;, kernel=&#x27;sigmoid&#x27;,\n                         probability=True, shrinking=False,\n                         tol=6.638660631993536e-05),\n           generations=40, n_jobs=-1,\n           param_grid={&#x27;C&#x27;: &lt;sklearn_genetic.space.space.Continuous object at 0x7ff2e4192dd0&gt;,\n                       &#x27;coef0&#x27;: &lt;sklearn_genetic.space.space.Continuous object at 0x7ff2e4161f50&gt;,\n                       &#x27;...\n                       &#x27;gamma&#x27;: &lt;sklearn_genetic.space.space.Categorical object at 0x7ff20f565250&gt;,\n                       &#x27;kernel&#x27;: &lt;sklearn_genetic.space.space.Categorical object at 0x7ff2d4247d90&gt;,\n                       &#x27;probability&#x27;: &lt;sklearn_genetic.space.space.Categorical object at 0x7ff20f4cc310&gt;,\n                       &#x27;shrinking&#x27;: &lt;sklearn_genetic.space.space.Categorical object at 0x7ff2e413d250&gt;,\n                       &#x27;tol&#x27;: &lt;sklearn_genetic.space.space.Continuous object at 0x7ff2e419a450&gt;},\n           return_train_score=True, scoring=&#x27;accuracy&#x27;)</pre></div></div></div><div class=\"sk-parallel\"><div class=\"sk-parallel-item\"><div class=\"sk-item\"><div class=\"sk-label-container\"><div class=\"sk-label sk-toggleable\"><input class=\"sk-toggleable__control sk-hidden--visually\" id=\"sk-estimator-id-3\" type=\"checkbox\" ><label for=\"sk-estimator-id-3\" class=\"sk-toggleable__label sk-toggleable__label-arrow\">estimator: SVC</label><div class=\"sk-toggleable__content\"><pre>SVC(C=5.793920520543272, coef0=0.5246447499164322, degree=4, gamma=&#x27;auto&#x27;,\n    kernel=&#x27;sigmoid&#x27;, probability=True, shrinking=False,\n    tol=6.638660631993536e-05)</pre></div></div></div><div class=\"sk-serial\"><div class=\"sk-item\"><div class=\"sk-estimator sk-toggleable\"><input class=\"sk-toggleable__control sk-hidden--visually\" id=\"sk-estimator-id-4\" type=\"checkbox\" ><label for=\"sk-estimator-id-4\" class=\"sk-toggleable__label sk-toggleable__label-arrow\">SVC</label><div class=\"sk-toggleable__content\"><pre>SVC(C=5.793920520543272, coef0=0.5246447499164322, degree=4, gamma=&#x27;auto&#x27;,\n    kernel=&#x27;sigmoid&#x27;, probability=True, shrinking=False,\n    tol=6.638660631993536e-05)</pre></div></div></div></div></div></div></div></div></div></div>"
     },
     "execution_count": 36,
     "metadata": {},
     "output_type": "execute_result"
    }
   ]
  },
  {
   "cell_type": "code",
   "source": [
    "best_model_svm = genetic_algo_svm.best_estimator_\n",
    "best_params_svm = genetic_algo_svm.best_params_"
   ],
   "metadata": {
    "trusted": true,
    "ExecuteTime": {
     "end_time": "2023-12-26T21:42:13.143015600Z",
     "start_time": "2023-12-26T21:42:13.125927200Z"
    }
   },
   "execution_count": 37,
   "outputs": []
  },
  {
   "cell_type": "code",
   "outputs": [
    {
     "data": {
      "text/plain": "{'C': 5.793920520543272,\n 'gamma': 'auto',\n 'kernel': 'sigmoid',\n 'degree': 4,\n 'coef0': 0.5246447499164322,\n 'shrinking': False,\n 'probability': True,\n 'tol': 6.638660631993536e-05}"
     },
     "execution_count": 38,
     "metadata": {},
     "output_type": "execute_result"
    }
   ],
   "source": [
    "best_params_svm"
   ],
   "metadata": {
    "collapsed": false,
    "ExecuteTime": {
     "end_time": "2023-12-26T21:42:13.144798100Z",
     "start_time": "2023-12-26T21:42:13.127926700Z"
    }
   },
   "execution_count": 38
  },
  {
   "cell_type": "code",
   "source": [
    "accuracy_svm = best_model_svm.score(test_data_flatten, y_test)\n",
    "print(\"Accuracy:\", accuracy_svm)"
   ],
   "metadata": {
    "execution": {
     "iopub.status.busy": "2023-12-26T12:24:46.124029Z",
     "iopub.status.idle": "2023-12-26T12:24:46.124411Z",
     "shell.execute_reply.started": "2023-12-26T12:24:46.124212Z",
     "shell.execute_reply": "2023-12-26T12:24:46.124229Z"
    },
    "trusted": true,
    "ExecuteTime": {
     "end_time": "2023-12-26T21:42:13.200879800Z",
     "start_time": "2023-12-26T21:42:13.141016Z"
    }
   },
   "execution_count": 39,
   "outputs": [
    {
     "name": "stdout",
     "output_type": "stream",
     "text": [
      "Accuracy: 0.15\n"
     ]
    }
   ]
  },
  {
   "cell_type": "markdown",
   "source": [
    "# XGBoost"
   ],
   "metadata": {
    "collapsed": false
   }
  },
  {
   "cell_type": "code",
   "outputs": [],
   "source": [
    "xgb_model = XGBClassifier(\n",
    "    objective='multi:softmax',\n",
    "    num_class=len(np.unique(y_train)),\n",
    "    max_depth=10,\n",
    "    learning_rate=0.1,\n",
    "    n_estimators=100,\n",
    "    subsample=0.8,\n",
    "    colsample_bytree=0.8,\n",
    "    reg_alpha=1e-5,\n",
    "    gamma=0.1,\n",
    "    random_state=42\n",
    ")"
   ],
   "metadata": {
    "collapsed": false,
    "ExecuteTime": {
     "end_time": "2023-12-26T21:42:13.227325800Z",
     "start_time": "2023-12-26T21:42:13.151817Z"
    }
   },
   "execution_count": 40
  },
  {
   "cell_type": "code",
   "outputs": [
    {
     "data": {
      "text/plain": "XGBClassifier(base_score=None, booster=None, callbacks=None,\n              colsample_bylevel=None, colsample_bynode=None,\n              colsample_bytree=0.8, device=None, early_stopping_rounds=None,\n              enable_categorical=False, eval_metric=None, feature_types=None,\n              gamma=0.1, grow_policy=None, importance_type=None,\n              interaction_constraints=None, learning_rate=0.1, max_bin=None,\n              max_cat_threshold=None, max_cat_to_onehot=None,\n              max_delta_step=None, max_depth=10, max_leaves=None,\n              min_child_weight=None, missing=nan, monotone_constraints=None,\n              multi_strategy=None, n_estimators=100, n_jobs=None, num_class=8,\n              num_parallel_tree=None, ...)",
      "text/html": "<style>#sk-container-id-3 {color: black;background-color: white;}#sk-container-id-3 pre{padding: 0;}#sk-container-id-3 div.sk-toggleable {background-color: white;}#sk-container-id-3 label.sk-toggleable__label {cursor: pointer;display: block;width: 100%;margin-bottom: 0;padding: 0.3em;box-sizing: border-box;text-align: center;}#sk-container-id-3 label.sk-toggleable__label-arrow:before {content: \"▸\";float: left;margin-right: 0.25em;color: #696969;}#sk-container-id-3 label.sk-toggleable__label-arrow:hover:before {color: black;}#sk-container-id-3 div.sk-estimator:hover label.sk-toggleable__label-arrow:before {color: black;}#sk-container-id-3 div.sk-toggleable__content {max-height: 0;max-width: 0;overflow: hidden;text-align: left;background-color: #f0f8ff;}#sk-container-id-3 div.sk-toggleable__content pre {margin: 0.2em;color: black;border-radius: 0.25em;background-color: #f0f8ff;}#sk-container-id-3 input.sk-toggleable__control:checked~div.sk-toggleable__content {max-height: 200px;max-width: 100%;overflow: auto;}#sk-container-id-3 input.sk-toggleable__control:checked~label.sk-toggleable__label-arrow:before {content: \"▾\";}#sk-container-id-3 div.sk-estimator input.sk-toggleable__control:checked~label.sk-toggleable__label {background-color: #d4ebff;}#sk-container-id-3 div.sk-label input.sk-toggleable__control:checked~label.sk-toggleable__label {background-color: #d4ebff;}#sk-container-id-3 input.sk-hidden--visually {border: 0;clip: rect(1px 1px 1px 1px);clip: rect(1px, 1px, 1px, 1px);height: 1px;margin: -1px;overflow: hidden;padding: 0;position: absolute;width: 1px;}#sk-container-id-3 div.sk-estimator {font-family: monospace;background-color: #f0f8ff;border: 1px dotted black;border-radius: 0.25em;box-sizing: border-box;margin-bottom: 0.5em;}#sk-container-id-3 div.sk-estimator:hover {background-color: #d4ebff;}#sk-container-id-3 div.sk-parallel-item::after {content: \"\";width: 100%;border-bottom: 1px solid gray;flex-grow: 1;}#sk-container-id-3 div.sk-label:hover label.sk-toggleable__label {background-color: #d4ebff;}#sk-container-id-3 div.sk-serial::before {content: \"\";position: absolute;border-left: 1px solid gray;box-sizing: border-box;top: 0;bottom: 0;left: 50%;z-index: 0;}#sk-container-id-3 div.sk-serial {display: flex;flex-direction: column;align-items: center;background-color: white;padding-right: 0.2em;padding-left: 0.2em;position: relative;}#sk-container-id-3 div.sk-item {position: relative;z-index: 1;}#sk-container-id-3 div.sk-parallel {display: flex;align-items: stretch;justify-content: center;background-color: white;position: relative;}#sk-container-id-3 div.sk-item::before, #sk-container-id-3 div.sk-parallel-item::before {content: \"\";position: absolute;border-left: 1px solid gray;box-sizing: border-box;top: 0;bottom: 0;left: 50%;z-index: -1;}#sk-container-id-3 div.sk-parallel-item {display: flex;flex-direction: column;z-index: 1;position: relative;background-color: white;}#sk-container-id-3 div.sk-parallel-item:first-child::after {align-self: flex-end;width: 50%;}#sk-container-id-3 div.sk-parallel-item:last-child::after {align-self: flex-start;width: 50%;}#sk-container-id-3 div.sk-parallel-item:only-child::after {width: 0;}#sk-container-id-3 div.sk-dashed-wrapped {border: 1px dashed gray;margin: 0 0.4em 0.5em 0.4em;box-sizing: border-box;padding-bottom: 0.4em;background-color: white;}#sk-container-id-3 div.sk-label label {font-family: monospace;font-weight: bold;display: inline-block;line-height: 1.2em;}#sk-container-id-3 div.sk-label-container {text-align: center;}#sk-container-id-3 div.sk-container {/* jupyter's `normalize.less` sets `[hidden] { display: none; }` but bootstrap.min.css set `[hidden] { display: none !important; }` so we also need the `!important` here to be able to override the default hidden behavior on the sphinx rendered scikit-learn.org. See: https://github.com/scikit-learn/scikit-learn/issues/21755 */display: inline-block !important;position: relative;}#sk-container-id-3 div.sk-text-repr-fallback {display: none;}</style><div id=\"sk-container-id-3\" class=\"sk-top-container\"><div class=\"sk-text-repr-fallback\"><pre>XGBClassifier(base_score=None, booster=None, callbacks=None,\n              colsample_bylevel=None, colsample_bynode=None,\n              colsample_bytree=0.8, device=None, early_stopping_rounds=None,\n              enable_categorical=False, eval_metric=None, feature_types=None,\n              gamma=0.1, grow_policy=None, importance_type=None,\n              interaction_constraints=None, learning_rate=0.1, max_bin=None,\n              max_cat_threshold=None, max_cat_to_onehot=None,\n              max_delta_step=None, max_depth=10, max_leaves=None,\n              min_child_weight=None, missing=nan, monotone_constraints=None,\n              multi_strategy=None, n_estimators=100, n_jobs=None, num_class=8,\n              num_parallel_tree=None, ...)</pre><b>In a Jupyter environment, please rerun this cell to show the HTML representation or trust the notebook. <br />On GitHub, the HTML representation is unable to render, please try loading this page with nbviewer.org.</b></div><div class=\"sk-container\" hidden><div class=\"sk-item\"><div class=\"sk-estimator sk-toggleable\"><input class=\"sk-toggleable__control sk-hidden--visually\" id=\"sk-estimator-id-5\" type=\"checkbox\" checked><label for=\"sk-estimator-id-5\" class=\"sk-toggleable__label sk-toggleable__label-arrow\">XGBClassifier</label><div class=\"sk-toggleable__content\"><pre>XGBClassifier(base_score=None, booster=None, callbacks=None,\n              colsample_bylevel=None, colsample_bynode=None,\n              colsample_bytree=0.8, device=None, early_stopping_rounds=None,\n              enable_categorical=False, eval_metric=None, feature_types=None,\n              gamma=0.1, grow_policy=None, importance_type=None,\n              interaction_constraints=None, learning_rate=0.1, max_bin=None,\n              max_cat_threshold=None, max_cat_to_onehot=None,\n              max_delta_step=None, max_depth=10, max_leaves=None,\n              min_child_weight=None, missing=nan, monotone_constraints=None,\n              multi_strategy=None, n_estimators=100, n_jobs=None, num_class=8,\n              num_parallel_tree=None, ...)</pre></div></div></div></div></div>"
     },
     "execution_count": 41,
     "metadata": {},
     "output_type": "execute_result"
    }
   ],
   "source": [
    "xgb_model.fit(train_data_flatten, y_train)"
   ],
   "metadata": {
    "collapsed": false,
    "ExecuteTime": {
     "end_time": "2023-12-26T21:42:13.499981400Z",
     "start_time": "2023-12-26T21:42:13.159866500Z"
    }
   },
   "execution_count": 41
  },
  {
   "cell_type": "code",
   "outputs": [
    {
     "name": "stdout",
     "output_type": "stream",
     "text": [
      "Accuracy: 0.05\n"
     ]
    }
   ],
   "source": [
    "accuracy_xgb = xgb_model.score(test_data_flatten, y_test)\n",
    "print(\"Accuracy:\", accuracy_xgb)"
   ],
   "metadata": {
    "collapsed": false,
    "ExecuteTime": {
     "end_time": "2023-12-26T21:42:13.860263Z",
     "start_time": "2023-12-26T21:42:13.485807Z"
    }
   },
   "execution_count": 42
  },
  {
   "cell_type": "code",
   "outputs": [],
   "source": [
    "# Define the search space for hyperparameters\n",
    "search_space_xgb = {\n",
    "    'max_depth': Integer(1, 10),\n",
    "    'learning_rate': Continuous(0.01, 1),\n",
    "    'n_estimators': Integer(10, 100),\n",
    "    'subsample': Continuous(0.1, 1),\n",
    "    'colsample_bytree': Continuous(0.1, 1),\n",
    "    'reg_alpha': Continuous(1e-5, 1e-2),\n",
    "    'gamma': Continuous(0, 1),\n",
    "}"
   ],
   "metadata": {
    "collapsed": false,
    "ExecuteTime": {
     "end_time": "2023-12-26T21:42:14.155933900Z",
     "start_time": "2023-12-26T21:42:13.513091100Z"
    }
   },
   "execution_count": 43
  },
  {
   "cell_type": "code",
   "outputs": [],
   "source": [
    "# Use the genetic algorithm to search for the best hyperparameters\n",
    "genetic_algo_xgb = GASearchCV(\n",
    "    estimator=xgb_model,\n",
    "    param_grid=search_space_xgb,\n",
    "    scoring='accuracy',\n",
    "    cv=10,\n",
    "    verbose=True,\n",
    "    generations=40,\n",
    "    n_jobs=-1\n",
    ")"
   ],
   "metadata": {
    "collapsed": false,
    "ExecuteTime": {
     "end_time": "2023-12-26T21:42:14.158451600Z",
     "start_time": "2023-12-26T21:42:13.731963100Z"
    }
   },
   "execution_count": 44
  },
  {
   "cell_type": "code",
   "outputs": [
    {
     "name": "stdout",
     "output_type": "stream",
     "text": [
      "gen\tnevals\tfitness \tfitness_std\tfitness_max\tfitness_min\n",
      "0  \t50    \t0.131136\t0.0298328  \t0.195455   \t0.0795455  \n",
      "1  \t100   \t0.151848\t0.020167   \t0.195455   \t0.0977273  \n",
      "2  \t100   \t0.162803\t0.0167129  \t0.196212   \t0.115909   \n",
      "3  \t100   \t0.169091\t0.0161141  \t0.203788   \t0.124242   \n",
      "4  \t100   \t0.174182\t0.0134805  \t0.206061   \t0.123485   \n",
      "5  \t100   \t0.182576\t0.0187034  \t0.240152   \t0.150758   \n",
      "6  \t100   \t0.181773\t0.0216245  \t0.240152   \t0.139394   \n",
      "7  \t100   \t0.187652\t0.0158927  \t0.240152   \t0.141667   \n",
      "8  \t100   \t0.194   \t0.0147926  \t0.222727   \t0.159091   \n",
      "9  \t100   \t0.198742\t0.0127125  \t0.222727   \t0.140909   \n",
      "10 \t100   \t0.205394\t0.00977436 \t0.230303   \t0.17803    \n",
      "11 \t100   \t0.210379\t0.0099727  \t0.230303   \t0.194697   \n",
      "12 \t100   \t0.209939\t0.0147754  \t0.230303   \t0.160606   \n",
      "13 \t100   \t0.214091\t0.012142   \t0.230303   \t0.176515   \n",
      "14 \t100   \t0.21597 \t0.0112007  \t0.230303   \t0.186364   \n",
      "15 \t100   \t0.214591\t0.0163059  \t0.230303   \t0.150758   \n",
      "16 \t100   \t0.216136\t0.0162984  \t0.230303   \t0.150758   \n",
      "17 \t100   \t0.218045\t0.0149053  \t0.230303   \t0.168939   \n",
      "18 \t100   \t0.220848\t0.0137589  \t0.230303   \t0.175758   \n",
      "19 \t100   \t0.222121\t0.0148554  \t0.230303   \t0.158333   \n",
      "20 \t100   \t0.226879\t0.00646073 \t0.230303   \t0.212121   \n",
      "21 \t100   \t0.226364\t0.0106934  \t0.238636   \t0.177273   \n",
      "22 \t100   \t0.228   \t0.00730887 \t0.230303   \t0.194697   \n",
      "23 \t100   \t0.228667\t0.0053103  \t0.238636   \t0.212121   \n",
      "24 \t100   \t0.229348\t0.00762832 \t0.238636   \t0.193939   \n",
      "25 \t100   \t0.229045\t0.0127809  \t0.238636   \t0.176515   \n",
      "26 \t100   \t0.233985\t0.00428284 \t0.24697    \t0.229545   \n",
      "27 \t100   \t0.233545\t0.0133213  \t0.24697    \t0.161364   \n",
      "28 \t100   \t0.233591\t0.0122105  \t0.24697    \t0.186364   \n",
      "29 \t100   \t0.233227\t0.0135663  \t0.24697    \t0.177273   \n",
      "30 \t100   \t0.236076\t0.00931281 \t0.24697    \t0.204545   \n",
      "31 \t100   \t0.239924\t0.00486562 \t0.24697    \t0.229545   \n",
      "32 \t100   \t0.240152\t0.00677427 \t0.24697    \t0.211364   \n",
      "33 \t100   \t0.23847 \t0.0132073  \t0.247727   \t0.177273   \n",
      "34 \t100   \t0.238439\t0.00874704 \t0.247727   \t0.20303    \n",
      "35 \t100   \t0.237106\t0.0174022  \t0.24697    \t0.132576   \n",
      "36 \t100   \t0.243076\t0.00904408 \t0.256061   \t0.212121   \n",
      "37 \t100   \t0.243833\t0.0102807  \t0.256061   \t0.195455   \n",
      "38 \t100   \t0.238833\t0.019791   \t0.256061   \t0.166667   \n",
      "39 \t100   \t0.243788\t0.0125666  \t0.256061   \t0.193182   \n",
      "40 \t100   \t0.246227\t0.0140758  \t0.256061   \t0.158333   \n"
     ]
    },
    {
     "data": {
      "text/plain": "GASearchCV(cv=10,\n           estimator=XGBClassifier(base_score=None, booster=None,\n                                   callbacks=None, colsample_bylevel=None,\n                                   colsample_bynode=None,\n                                   colsample_bytree=0.9253012137227039,\n                                   device=None, early_stopping_rounds=None,\n                                   enable_categorical=False, eval_metric=None,\n                                   feature_types=None, gamma=0.0939275647857335,\n                                   grow_policy=None, importance_type=None,\n                                   interaction_constrain...\n                       'learning_rate': <sklearn_genetic.space.space.Continuous object at 0x7ff22dfc8dd0>,\n                       'max_depth': <sklearn_genetic.space.space.Integer object at 0x7ff2e41edd10>,\n                       'n_estimators': <sklearn_genetic.space.space.Integer object at 0x7ff22d9fec50>,\n                       'reg_alpha': <sklearn_genetic.space.space.Continuous object at 0x7ff2e4175090>,\n                       'subsample': <sklearn_genetic.space.space.Continuous object at 0x7ff2e4199890>},\n           return_train_score=True, scoring='accuracy')",
      "text/html": "<style>#sk-container-id-4 {color: black;background-color: white;}#sk-container-id-4 pre{padding: 0;}#sk-container-id-4 div.sk-toggleable {background-color: white;}#sk-container-id-4 label.sk-toggleable__label {cursor: pointer;display: block;width: 100%;margin-bottom: 0;padding: 0.3em;box-sizing: border-box;text-align: center;}#sk-container-id-4 label.sk-toggleable__label-arrow:before {content: \"▸\";float: left;margin-right: 0.25em;color: #696969;}#sk-container-id-4 label.sk-toggleable__label-arrow:hover:before {color: black;}#sk-container-id-4 div.sk-estimator:hover label.sk-toggleable__label-arrow:before {color: black;}#sk-container-id-4 div.sk-toggleable__content {max-height: 0;max-width: 0;overflow: hidden;text-align: left;background-color: #f0f8ff;}#sk-container-id-4 div.sk-toggleable__content pre {margin: 0.2em;color: black;border-radius: 0.25em;background-color: #f0f8ff;}#sk-container-id-4 input.sk-toggleable__control:checked~div.sk-toggleable__content {max-height: 200px;max-width: 100%;overflow: auto;}#sk-container-id-4 input.sk-toggleable__control:checked~label.sk-toggleable__label-arrow:before {content: \"▾\";}#sk-container-id-4 div.sk-estimator input.sk-toggleable__control:checked~label.sk-toggleable__label {background-color: #d4ebff;}#sk-container-id-4 div.sk-label input.sk-toggleable__control:checked~label.sk-toggleable__label {background-color: #d4ebff;}#sk-container-id-4 input.sk-hidden--visually {border: 0;clip: rect(1px 1px 1px 1px);clip: rect(1px, 1px, 1px, 1px);height: 1px;margin: -1px;overflow: hidden;padding: 0;position: absolute;width: 1px;}#sk-container-id-4 div.sk-estimator {font-family: monospace;background-color: #f0f8ff;border: 1px dotted black;border-radius: 0.25em;box-sizing: border-box;margin-bottom: 0.5em;}#sk-container-id-4 div.sk-estimator:hover {background-color: #d4ebff;}#sk-container-id-4 div.sk-parallel-item::after {content: \"\";width: 100%;border-bottom: 1px solid gray;flex-grow: 1;}#sk-container-id-4 div.sk-label:hover label.sk-toggleable__label {background-color: #d4ebff;}#sk-container-id-4 div.sk-serial::before {content: \"\";position: absolute;border-left: 1px solid gray;box-sizing: border-box;top: 0;bottom: 0;left: 50%;z-index: 0;}#sk-container-id-4 div.sk-serial {display: flex;flex-direction: column;align-items: center;background-color: white;padding-right: 0.2em;padding-left: 0.2em;position: relative;}#sk-container-id-4 div.sk-item {position: relative;z-index: 1;}#sk-container-id-4 div.sk-parallel {display: flex;align-items: stretch;justify-content: center;background-color: white;position: relative;}#sk-container-id-4 div.sk-item::before, #sk-container-id-4 div.sk-parallel-item::before {content: \"\";position: absolute;border-left: 1px solid gray;box-sizing: border-box;top: 0;bottom: 0;left: 50%;z-index: -1;}#sk-container-id-4 div.sk-parallel-item {display: flex;flex-direction: column;z-index: 1;position: relative;background-color: white;}#sk-container-id-4 div.sk-parallel-item:first-child::after {align-self: flex-end;width: 50%;}#sk-container-id-4 div.sk-parallel-item:last-child::after {align-self: flex-start;width: 50%;}#sk-container-id-4 div.sk-parallel-item:only-child::after {width: 0;}#sk-container-id-4 div.sk-dashed-wrapped {border: 1px dashed gray;margin: 0 0.4em 0.5em 0.4em;box-sizing: border-box;padding-bottom: 0.4em;background-color: white;}#sk-container-id-4 div.sk-label label {font-family: monospace;font-weight: bold;display: inline-block;line-height: 1.2em;}#sk-container-id-4 div.sk-label-container {text-align: center;}#sk-container-id-4 div.sk-container {/* jupyter's `normalize.less` sets `[hidden] { display: none; }` but bootstrap.min.css set `[hidden] { display: none !important; }` so we also need the `!important` here to be able to override the default hidden behavior on the sphinx rendered scikit-learn.org. See: https://github.com/scikit-learn/scikit-learn/issues/21755 */display: inline-block !important;position: relative;}#sk-container-id-4 div.sk-text-repr-fallback {display: none;}</style><div id=\"sk-container-id-4\" class=\"sk-top-container\"><div class=\"sk-text-repr-fallback\"><pre>GASearchCV(cv=10,\n           estimator=XGBClassifier(base_score=None, booster=None,\n                                   callbacks=None, colsample_bylevel=None,\n                                   colsample_bynode=None,\n                                   colsample_bytree=0.9253012137227039,\n                                   device=None, early_stopping_rounds=None,\n                                   enable_categorical=False, eval_metric=None,\n                                   feature_types=None, gamma=0.0939275647857335,\n                                   grow_policy=None, importance_type=None,\n                                   interaction_constrain...\n                       &#x27;learning_rate&#x27;: &lt;sklearn_genetic.space.space.Continuous object at 0x7ff22dfc8dd0&gt;,\n                       &#x27;max_depth&#x27;: &lt;sklearn_genetic.space.space.Integer object at 0x7ff2e41edd10&gt;,\n                       &#x27;n_estimators&#x27;: &lt;sklearn_genetic.space.space.Integer object at 0x7ff22d9fec50&gt;,\n                       &#x27;reg_alpha&#x27;: &lt;sklearn_genetic.space.space.Continuous object at 0x7ff2e4175090&gt;,\n                       &#x27;subsample&#x27;: &lt;sklearn_genetic.space.space.Continuous object at 0x7ff2e4199890&gt;},\n           return_train_score=True, scoring=&#x27;accuracy&#x27;)</pre><b>In a Jupyter environment, please rerun this cell to show the HTML representation or trust the notebook. <br />On GitHub, the HTML representation is unable to render, please try loading this page with nbviewer.org.</b></div><div class=\"sk-container\" hidden><div class=\"sk-item sk-dashed-wrapped\"><div class=\"sk-label-container\"><div class=\"sk-label sk-toggleable\"><input class=\"sk-toggleable__control sk-hidden--visually\" id=\"sk-estimator-id-6\" type=\"checkbox\" ><label for=\"sk-estimator-id-6\" class=\"sk-toggleable__label sk-toggleable__label-arrow\">GASearchCV</label><div class=\"sk-toggleable__content\"><pre>GASearchCV(cv=10,\n           estimator=XGBClassifier(base_score=None, booster=None,\n                                   callbacks=None, colsample_bylevel=None,\n                                   colsample_bynode=None,\n                                   colsample_bytree=0.9253012137227039,\n                                   device=None, early_stopping_rounds=None,\n                                   enable_categorical=False, eval_metric=None,\n                                   feature_types=None, gamma=0.0939275647857335,\n                                   grow_policy=None, importance_type=None,\n                                   interaction_constrain...\n                       &#x27;learning_rate&#x27;: &lt;sklearn_genetic.space.space.Continuous object at 0x7ff22dfc8dd0&gt;,\n                       &#x27;max_depth&#x27;: &lt;sklearn_genetic.space.space.Integer object at 0x7ff2e41edd10&gt;,\n                       &#x27;n_estimators&#x27;: &lt;sklearn_genetic.space.space.Integer object at 0x7ff22d9fec50&gt;,\n                       &#x27;reg_alpha&#x27;: &lt;sklearn_genetic.space.space.Continuous object at 0x7ff2e4175090&gt;,\n                       &#x27;subsample&#x27;: &lt;sklearn_genetic.space.space.Continuous object at 0x7ff2e4199890&gt;},\n           return_train_score=True, scoring=&#x27;accuracy&#x27;)</pre></div></div></div><div class=\"sk-parallel\"><div class=\"sk-parallel-item\"><div class=\"sk-item\"><div class=\"sk-label-container\"><div class=\"sk-label sk-toggleable\"><input class=\"sk-toggleable__control sk-hidden--visually\" id=\"sk-estimator-id-7\" type=\"checkbox\" ><label for=\"sk-estimator-id-7\" class=\"sk-toggleable__label sk-toggleable__label-arrow\">estimator: XGBClassifier</label><div class=\"sk-toggleable__content\"><pre>XGBClassifier(base_score=None, booster=None, callbacks=None,\n              colsample_bylevel=None, colsample_bynode=None,\n              colsample_bytree=0.9253012137227039, device=None,\n              early_stopping_rounds=None, enable_categorical=False,\n              eval_metric=None, feature_types=None, gamma=0.0939275647857335,\n              grow_policy=None, importance_type=None,\n              interaction_constraints=None, learning_rate=0.447118977728237,\n              max_bin=None, max_cat_threshold=None, max_cat_to_onehot=None,\n              max_delta_step=None, max_depth=7, max_leaves=None,\n              min_child_weight=None, missing=nan, monotone_constraints=None,\n              multi_strategy=None, n_estimators=14, n_jobs=None, num_class=8,\n              num_parallel_tree=None, ...)</pre></div></div></div><div class=\"sk-serial\"><div class=\"sk-item\"><div class=\"sk-estimator sk-toggleable\"><input class=\"sk-toggleable__control sk-hidden--visually\" id=\"sk-estimator-id-8\" type=\"checkbox\" ><label for=\"sk-estimator-id-8\" class=\"sk-toggleable__label sk-toggleable__label-arrow\">XGBClassifier</label><div class=\"sk-toggleable__content\"><pre>XGBClassifier(base_score=None, booster=None, callbacks=None,\n              colsample_bylevel=None, colsample_bynode=None,\n              colsample_bytree=0.9253012137227039, device=None,\n              early_stopping_rounds=None, enable_categorical=False,\n              eval_metric=None, feature_types=None, gamma=0.0939275647857335,\n              grow_policy=None, importance_type=None,\n              interaction_constraints=None, learning_rate=0.447118977728237,\n              max_bin=None, max_cat_threshold=None, max_cat_to_onehot=None,\n              max_delta_step=None, max_depth=7, max_leaves=None,\n              min_child_weight=None, missing=nan, monotone_constraints=None,\n              multi_strategy=None, n_estimators=14, n_jobs=None, num_class=8,\n              num_parallel_tree=None, ...)</pre></div></div></div></div></div></div></div></div></div></div>"
     },
     "execution_count": 45,
     "metadata": {},
     "output_type": "execute_result"
    }
   ],
   "source": [
    "genetic_algo_xgb.fit(train_data_flatten, y_train)"
   ],
   "metadata": {
    "collapsed": false,
    "ExecuteTime": {
     "end_time": "2023-12-26T21:47:54.465594200Z",
     "start_time": "2023-12-26T21:42:13.731963100Z"
    }
   },
   "execution_count": 45
  },
  {
   "cell_type": "code",
   "outputs": [],
   "source": [
    "best_model_xgb = genetic_algo_xgb.best_estimator_\n",
    "best_params_xgb = genetic_algo_xgb.best_params_"
   ],
   "metadata": {
    "collapsed": false,
    "ExecuteTime": {
     "end_time": "2023-12-26T21:47:54.469108500Z",
     "start_time": "2023-12-26T21:47:54.463586800Z"
    }
   },
   "execution_count": 46
  },
  {
   "cell_type": "code",
   "outputs": [
    {
     "data": {
      "text/plain": "{'max_depth': 7,\n 'learning_rate': 0.447118977728237,\n 'n_estimators': 14,\n 'subsample': 0.9907399136014624,\n 'colsample_bytree': 0.9253012137227039,\n 'reg_alpha': 0.005898077418318591,\n 'gamma': 0.0939275647857335}"
     },
     "execution_count": 47,
     "metadata": {},
     "output_type": "execute_result"
    }
   ],
   "source": [
    "best_params_xgb"
   ],
   "metadata": {
    "collapsed": false,
    "ExecuteTime": {
     "end_time": "2023-12-26T21:47:54.511907100Z",
     "start_time": "2023-12-26T21:47:54.465594200Z"
    }
   },
   "execution_count": 47
  },
  {
   "cell_type": "code",
   "outputs": [
    {
     "name": "stdout",
     "output_type": "stream",
     "text": [
      "Accuracy: 0.05\n"
     ]
    }
   ],
   "source": [
    "accuracy_xgb = best_model_xgb.score(test_data_flatten, y_test)\n",
    "print(\"Accuracy:\", accuracy_xgb)"
   ],
   "metadata": {
    "collapsed": false,
    "ExecuteTime": {
     "end_time": "2023-12-26T21:47:54.541634300Z",
     "start_time": "2023-12-26T21:47:54.485719100Z"
    }
   },
   "execution_count": 48
  },
  {
   "cell_type": "code",
   "outputs": [],
   "source": [
    "class AntColonyOptimization:\n",
    "    def __init__(self, num_ants, max_iter=10, Model=XGBClassifier()):\n",
    "        self.model = Model\n",
    "        self.best_selected_features = None\n",
    "        self.best_fitness = None\n",
    "        self.final_report = None\n",
    "        self.final_f1 = None\n",
    "        self.final_recall = None\n",
    "        self.final_precision = None\n",
    "        self.final_accuracy = None\n",
    "        self.final_confusion_mat = None\n",
    "        self.num_ants = num_ants\n",
    "        self.max_iter = max_iter\n",
    "\n",
    "    @staticmethod\n",
    "    def _initialize_pheromones(num_features):\n",
    "        return np.ones(num_features)\n",
    "\n",
    "    def _select_features(self, pheromones):\n",
    "        probabilities = pheromones / np.sum(pheromones)\n",
    "        selected_features = np.random.choice(len(pheromones), size=self.num_ants, p=probabilities)\n",
    "        return selected_features\n",
    "\n",
    "    def _fitness(self, selected_features, X_train, Y_train, X_test, Y_test):\n",
    "        if len(selected_features) == 0:\n",
    "            return 0  # Penalize if no features are selected\n",
    "        self.model.fit(X_train[:, selected_features], Y_train)\n",
    "        y_predict = self.model.predict(X_test[:, selected_features])\n",
    "        Accuracy = accuracy_score(Y_test, y_predict)\n",
    "        precision = precision_score(Y_test, y_predict, average='weighted')\n",
    "        recall = recall_score(Y_test, y_predict, average='weighted')\n",
    "        f1 = f1_score(Y_test, y_predict, average='weighted')\n",
    "        report = classification_report(Y_test, y_predict)\n",
    "        confusion_mat = confusion_matrix(Y_test, y_predict)\n",
    "        return Accuracy, precision, recall, f1, report, confusion_mat\n",
    "\n",
    "    def run(self, X_train, Y_train, X_test, Y_test):\n",
    "        num_features = X_train.shape[1]\n",
    "        pheromones = self._initialize_pheromones(num_features)\n",
    "        self.best_fitness = 0\n",
    "\n",
    "        for iteration in range(self.max_iter):\n",
    "            # Initialize ant colony\n",
    "            selected_features = self._select_features(pheromones)\n",
    "\n",
    "            # Evaluate fitness\n",
    "            fitness_value = self._fitness(selected_features, X_train, Y_train, X_test, Y_test)\n",
    "\n",
    "            # Update pheromones based on fitness values\n",
    "            pheromones[selected_features] += fitness_value[0]  # Update based on accuracy (you can choose other metrics)\n",
    "\n",
    "            print(f\"Iteration: {iteration + 1},\\tBest Fitness: {self.best_fitness:.4f}\")\n",
    "\n",
    "            # Update the best solution if a better one is found\n",
    "            if fitness_value[0] > self.best_fitness:  # Update based on accuracy (you can choose other metrics)\n",
    "                self.best_fitness = fitness_value[0]\n",
    "                self.best_selected_features = selected_features\n",
    "\n",
    "        # print(\"Best Selected Features:\", self.best_selected_features)\n",
    "        print(\"\\nBest Fitness (Accuracy):\", self.best_fitness)\n",
    "\n",
    "        # Use the best-selected features for prediction on the test set\n",
    "\n",
    "        self.model.fit(X_train[:, self.best_selected_features], Y_train)\n",
    "        y_predict = self.model.predict(X_test[:, self.best_selected_features])\n",
    "\n",
    "        # Calculate metrics for the final model\n",
    "        self.final_accuracy = accuracy_score(Y_test, y_predict)\n",
    "        self.final_precision = precision_score(Y_test, y_predict, average='weighted')\n",
    "        self.final_recall = recall_score(Y_test, y_predict, average='weighted')\n",
    "        self.final_f1 = f1_score(Y_test, y_predict, average='weighted')\n",
    "        self.final_report = classification_report(Y_test, y_predict)\n",
    "        self.final_confusion_mat = confusion_matrix(Y_test, y_predict)\n",
    "\n",
    "        return self.best_selected_features\n",
    "\n",
    "    def results(self):\n",
    "        # Plot the confusion matrix using Seaborn\n",
    "        print('The Confusion Matrix is: ')\n",
    "        plt.figure(figsize=(8, 6))\n",
    "        sns.heatmap(self.final_confusion_mat, annot=True, fmt='d', cmap='Blues', xticklabels=np.unique(y_test),\n",
    "                    yticklabels=np.unique(y_test))\n",
    "        plt.title('Confusion Matrix')\n",
    "        plt.xlabel('Predicted')\n",
    "        plt.ylabel('Actual')\n",
    "        plt.show()\n",
    "\n",
    "        # Print the classification report\n",
    "        print('The Classification Report is: ')\n",
    "        print(self.final_report)\n",
    "\n",
    "        # Print the accuracy, precision, recall, and f1_score\n",
    "        print(f'Accuracy: {self.final_accuracy: .4f}')\n",
    "        print(f'Best Fitness: {self.best_fitness: .4f}')\n",
    "        print(f'Precision: {self.final_precision: .4f}')\n",
    "        print(f'Recall: {self.final_recall: .4f}')\n",
    "        print(f'F1-Score: {self.final_f1: .4f}')\n",
    "\n",
    "        # Plot the search space\n",
    "        plot_search_space(self.model.search_space_)"
   ],
   "metadata": {
    "collapsed": false,
    "ExecuteTime": {
     "end_time": "2023-12-26T21:47:54.594586200Z",
     "start_time": "2023-12-26T21:47:54.523981900Z"
    }
   },
   "execution_count": 49
  },
  {
   "cell_type": "code",
   "outputs": [
    {
     "name": "stdout",
     "output_type": "stream",
     "text": [
      "Iteration: 1,\tBest Fitness: 0.0000\n",
      "Iteration: 2,\tBest Fitness: 0.0500\n",
      "Iteration: 3,\tBest Fitness: 0.0500\n",
      "Iteration: 4,\tBest Fitness: 0.0500\n",
      "Iteration: 5,\tBest Fitness: 0.0500\n",
      "Iteration: 6,\tBest Fitness: 0.0500\n",
      "Iteration: 7,\tBest Fitness: 0.0750\n",
      "Iteration: 8,\tBest Fitness: 0.0750\n",
      "Iteration: 9,\tBest Fitness: 0.0750\n",
      "Iteration: 10,\tBest Fitness: 0.1000\n",
      "Iteration: 11,\tBest Fitness: 0.1000\n",
      "Iteration: 12,\tBest Fitness: 0.1000\n",
      "Iteration: 13,\tBest Fitness: 0.1000\n",
      "Iteration: 14,\tBest Fitness: 0.1000\n",
      "Iteration: 15,\tBest Fitness: 0.1000\n",
      "Iteration: 16,\tBest Fitness: 0.1000\n",
      "Iteration: 17,\tBest Fitness: 0.1000\n",
      "Iteration: 18,\tBest Fitness: 0.1000\n",
      "Iteration: 19,\tBest Fitness: 0.1000\n",
      "Iteration: 20,\tBest Fitness: 0.1000\n",
      "Iteration: 21,\tBest Fitness: 0.1000\n",
      "Iteration: 22,\tBest Fitness: 0.1000\n",
      "Iteration: 23,\tBest Fitness: 0.1000\n",
      "Iteration: 24,\tBest Fitness: 0.1000\n",
      "Iteration: 25,\tBest Fitness: 0.1000\n",
      "Iteration: 26,\tBest Fitness: 0.1000\n",
      "Iteration: 27,\tBest Fitness: 0.1000\n",
      "Iteration: 28,\tBest Fitness: 0.1000\n",
      "Iteration: 29,\tBest Fitness: 0.1000\n",
      "Iteration: 30,\tBest Fitness: 0.1000\n",
      "Iteration: 31,\tBest Fitness: 0.1000\n",
      "Iteration: 32,\tBest Fitness: 0.1000\n",
      "Iteration: 33,\tBest Fitness: 0.1000\n",
      "Iteration: 34,\tBest Fitness: 0.1000\n",
      "Iteration: 35,\tBest Fitness: 0.1000\n",
      "Iteration: 36,\tBest Fitness: 0.1000\n",
      "Iteration: 37,\tBest Fitness: 0.1250\n",
      "Iteration: 38,\tBest Fitness: 0.1250\n",
      "Iteration: 39,\tBest Fitness: 0.1250\n",
      "Iteration: 40,\tBest Fitness: 0.1250\n",
      "Iteration: 41,\tBest Fitness: 0.1250\n",
      "Iteration: 42,\tBest Fitness: 0.1250\n",
      "Iteration: 43,\tBest Fitness: 0.1250\n",
      "Iteration: 44,\tBest Fitness: 0.1250\n",
      "Iteration: 45,\tBest Fitness: 0.1250\n",
      "Iteration: 46,\tBest Fitness: 0.1250\n",
      "Iteration: 47,\tBest Fitness: 0.1250\n",
      "Iteration: 48,\tBest Fitness: 0.1250\n",
      "Iteration: 49,\tBest Fitness: 0.1250\n",
      "Iteration: 50,\tBest Fitness: 0.1250\n",
      "Iteration: 51,\tBest Fitness: 0.1250\n",
      "Iteration: 52,\tBest Fitness: 0.1250\n",
      "Iteration: 53,\tBest Fitness: 0.1250\n",
      "Iteration: 54,\tBest Fitness: 0.1250\n",
      "Iteration: 55,\tBest Fitness: 0.1250\n",
      "Iteration: 56,\tBest Fitness: 0.1250\n",
      "Iteration: 57,\tBest Fitness: 0.1250\n",
      "Iteration: 58,\tBest Fitness: 0.1250\n",
      "Iteration: 59,\tBest Fitness: 0.1250\n",
      "Iteration: 60,\tBest Fitness: 0.1250\n",
      "Iteration: 61,\tBest Fitness: 0.1250\n",
      "Iteration: 62,\tBest Fitness: 0.1250\n",
      "Iteration: 63,\tBest Fitness: 0.1250\n",
      "Iteration: 64,\tBest Fitness: 0.1250\n",
      "Iteration: 65,\tBest Fitness: 0.1250\n",
      "Iteration: 66,\tBest Fitness: 0.1250\n",
      "Iteration: 67,\tBest Fitness: 0.1250\n",
      "Iteration: 68,\tBest Fitness: 0.1250\n",
      "Iteration: 69,\tBest Fitness: 0.1250\n",
      "Iteration: 70,\tBest Fitness: 0.1250\n",
      "Iteration: 71,\tBest Fitness: 0.1250\n",
      "Iteration: 72,\tBest Fitness: 0.1250\n",
      "Iteration: 73,\tBest Fitness: 0.1250\n",
      "Iteration: 74,\tBest Fitness: 0.1250\n",
      "Iteration: 75,\tBest Fitness: 0.1250\n",
      "Iteration: 76,\tBest Fitness: 0.1250\n",
      "Iteration: 77,\tBest Fitness: 0.1250\n",
      "Iteration: 78,\tBest Fitness: 0.1250\n",
      "Iteration: 79,\tBest Fitness: 0.1250\n",
      "Iteration: 80,\tBest Fitness: 0.1250\n",
      "Iteration: 81,\tBest Fitness: 0.1250\n",
      "Iteration: 82,\tBest Fitness: 0.1250\n",
      "Iteration: 83,\tBest Fitness: 0.1250\n",
      "Iteration: 84,\tBest Fitness: 0.1250\n",
      "Iteration: 85,\tBest Fitness: 0.1250\n",
      "Iteration: 86,\tBest Fitness: 0.1250\n",
      "Iteration: 87,\tBest Fitness: 0.1250\n",
      "Iteration: 88,\tBest Fitness: 0.1250\n",
      "Iteration: 89,\tBest Fitness: 0.1250\n",
      "Iteration: 90,\tBest Fitness: 0.1250\n",
      "Iteration: 91,\tBest Fitness: 0.1250\n",
      "Iteration: 92,\tBest Fitness: 0.1250\n",
      "Iteration: 93,\tBest Fitness: 0.1250\n",
      "Iteration: 94,\tBest Fitness: 0.1250\n",
      "Iteration: 95,\tBest Fitness: 0.1250\n",
      "Iteration: 96,\tBest Fitness: 0.1250\n",
      "Iteration: 97,\tBest Fitness: 0.1250\n",
      "Iteration: 98,\tBest Fitness: 0.1250\n",
      "Iteration: 99,\tBest Fitness: 0.1250\n",
      "Iteration: 100,\tBest Fitness: 0.1250\n",
      "Iteration: 101,\tBest Fitness: 0.1250\n",
      "Iteration: 102,\tBest Fitness: 0.1250\n",
      "Iteration: 103,\tBest Fitness: 0.1250\n",
      "Iteration: 104,\tBest Fitness: 0.1250\n",
      "Iteration: 105,\tBest Fitness: 0.1250\n",
      "Iteration: 106,\tBest Fitness: 0.1250\n",
      "Iteration: 107,\tBest Fitness: 0.1250\n",
      "Iteration: 108,\tBest Fitness: 0.1250\n",
      "Iteration: 109,\tBest Fitness: 0.1250\n",
      "Iteration: 110,\tBest Fitness: 0.1250\n",
      "Iteration: 111,\tBest Fitness: 0.1250\n",
      "Iteration: 112,\tBest Fitness: 0.1250\n",
      "Iteration: 113,\tBest Fitness: 0.1250\n",
      "Iteration: 114,\tBest Fitness: 0.1250\n",
      "Iteration: 115,\tBest Fitness: 0.1250\n",
      "Iteration: 116,\tBest Fitness: 0.1250\n",
      "Iteration: 117,\tBest Fitness: 0.1250\n",
      "Iteration: 118,\tBest Fitness: 0.1250\n",
      "Iteration: 119,\tBest Fitness: 0.1250\n",
      "Iteration: 120,\tBest Fitness: 0.1250\n",
      "Iteration: 121,\tBest Fitness: 0.1250\n",
      "Iteration: 122,\tBest Fitness: 0.1250\n",
      "Iteration: 123,\tBest Fitness: 0.1250\n",
      "Iteration: 124,\tBest Fitness: 0.1250\n",
      "Iteration: 125,\tBest Fitness: 0.1250\n",
      "Iteration: 126,\tBest Fitness: 0.1250\n",
      "Iteration: 127,\tBest Fitness: 0.1250\n",
      "Iteration: 128,\tBest Fitness: 0.1250\n",
      "Iteration: 129,\tBest Fitness: 0.1250\n",
      "Iteration: 130,\tBest Fitness: 0.1250\n",
      "Iteration: 131,\tBest Fitness: 0.1250\n",
      "Iteration: 132,\tBest Fitness: 0.1250\n",
      "Iteration: 133,\tBest Fitness: 0.1250\n",
      "Iteration: 134,\tBest Fitness: 0.1250\n",
      "Iteration: 135,\tBest Fitness: 0.1250\n",
      "Iteration: 136,\tBest Fitness: 0.1250\n",
      "Iteration: 137,\tBest Fitness: 0.1250\n",
      "Iteration: 138,\tBest Fitness: 0.1250\n",
      "Iteration: 139,\tBest Fitness: 0.1250\n",
      "Iteration: 140,\tBest Fitness: 0.1250\n",
      "Iteration: 141,\tBest Fitness: 0.1250\n",
      "Iteration: 142,\tBest Fitness: 0.1250\n",
      "Iteration: 143,\tBest Fitness: 0.1250\n",
      "Iteration: 144,\tBest Fitness: 0.1250\n",
      "Iteration: 145,\tBest Fitness: 0.1250\n",
      "Iteration: 146,\tBest Fitness: 0.1250\n",
      "Iteration: 147,\tBest Fitness: 0.1250\n",
      "Iteration: 148,\tBest Fitness: 0.1250\n",
      "Iteration: 149,\tBest Fitness: 0.1250\n",
      "Iteration: 150,\tBest Fitness: 0.1250\n",
      "Iteration: 151,\tBest Fitness: 0.1250\n",
      "Iteration: 152,\tBest Fitness: 0.1250\n",
      "Iteration: 153,\tBest Fitness: 0.1250\n",
      "Iteration: 154,\tBest Fitness: 0.1250\n",
      "Iteration: 155,\tBest Fitness: 0.1250\n",
      "Iteration: 156,\tBest Fitness: 0.1250\n",
      "Iteration: 157,\tBest Fitness: 0.1250\n",
      "Iteration: 158,\tBest Fitness: 0.1250\n",
      "Iteration: 159,\tBest Fitness: 0.1250\n",
      "Iteration: 160,\tBest Fitness: 0.1250\n",
      "Iteration: 161,\tBest Fitness: 0.1250\n",
      "Iteration: 162,\tBest Fitness: 0.1250\n",
      "Iteration: 163,\tBest Fitness: 0.1250\n",
      "Iteration: 164,\tBest Fitness: 0.1250\n",
      "Iteration: 165,\tBest Fitness: 0.1250\n",
      "Iteration: 166,\tBest Fitness: 0.1250\n",
      "Iteration: 167,\tBest Fitness: 0.1250\n",
      "Iteration: 168,\tBest Fitness: 0.1250\n",
      "Iteration: 169,\tBest Fitness: 0.1250\n",
      "Iteration: 170,\tBest Fitness: 0.1250\n",
      "Iteration: 171,\tBest Fitness: 0.1250\n",
      "Iteration: 172,\tBest Fitness: 0.1250\n",
      "Iteration: 173,\tBest Fitness: 0.1250\n",
      "Iteration: 174,\tBest Fitness: 0.1250\n",
      "Iteration: 175,\tBest Fitness: 0.1250\n",
      "Iteration: 176,\tBest Fitness: 0.1250\n",
      "Iteration: 177,\tBest Fitness: 0.1250\n",
      "Iteration: 178,\tBest Fitness: 0.1250\n",
      "Iteration: 179,\tBest Fitness: 0.1250\n",
      "Iteration: 180,\tBest Fitness: 0.1250\n",
      "Iteration: 181,\tBest Fitness: 0.1250\n",
      "Iteration: 182,\tBest Fitness: 0.1250\n",
      "Iteration: 183,\tBest Fitness: 0.1250\n",
      "Iteration: 184,\tBest Fitness: 0.1250\n",
      "Iteration: 185,\tBest Fitness: 0.1250\n",
      "Iteration: 186,\tBest Fitness: 0.1250\n",
      "Iteration: 187,\tBest Fitness: 0.1250\n",
      "Iteration: 188,\tBest Fitness: 0.1250\n",
      "Iteration: 189,\tBest Fitness: 0.1250\n",
      "Iteration: 190,\tBest Fitness: 0.1250\n",
      "Iteration: 191,\tBest Fitness: 0.1250\n",
      "Iteration: 192,\tBest Fitness: 0.1250\n",
      "Iteration: 193,\tBest Fitness: 0.1250\n",
      "Iteration: 194,\tBest Fitness: 0.1250\n",
      "Iteration: 195,\tBest Fitness: 0.1250\n",
      "Iteration: 196,\tBest Fitness: 0.1250\n",
      "Iteration: 197,\tBest Fitness: 0.1250\n",
      "Iteration: 198,\tBest Fitness: 0.1250\n",
      "Iteration: 199,\tBest Fitness: 0.1250\n",
      "Iteration: 200,\tBest Fitness: 0.1250\n",
      "Iteration: 201,\tBest Fitness: 0.1250\n",
      "Iteration: 202,\tBest Fitness: 0.1250\n",
      "Iteration: 203,\tBest Fitness: 0.1250\n",
      "Iteration: 204,\tBest Fitness: 0.1250\n",
      "Iteration: 205,\tBest Fitness: 0.1250\n",
      "Iteration: 206,\tBest Fitness: 0.1250\n",
      "Iteration: 207,\tBest Fitness: 0.1250\n",
      "Iteration: 208,\tBest Fitness: 0.1250\n",
      "Iteration: 209,\tBest Fitness: 0.1250\n",
      "Iteration: 210,\tBest Fitness: 0.1250\n",
      "Iteration: 211,\tBest Fitness: 0.1250\n",
      "Iteration: 212,\tBest Fitness: 0.1250\n",
      "Iteration: 213,\tBest Fitness: 0.1250\n",
      "Iteration: 214,\tBest Fitness: 0.1250\n",
      "Iteration: 215,\tBest Fitness: 0.1250\n",
      "Iteration: 216,\tBest Fitness: 0.1250\n",
      "Iteration: 217,\tBest Fitness: 0.1250\n",
      "Iteration: 218,\tBest Fitness: 0.1250\n",
      "Iteration: 219,\tBest Fitness: 0.1250\n",
      "Iteration: 220,\tBest Fitness: 0.1250\n",
      "Iteration: 221,\tBest Fitness: 0.1250\n",
      "Iteration: 222,\tBest Fitness: 0.1250\n",
      "Iteration: 223,\tBest Fitness: 0.1500\n",
      "Iteration: 224,\tBest Fitness: 0.1500\n",
      "Iteration: 225,\tBest Fitness: 0.1500\n",
      "Iteration: 226,\tBest Fitness: 0.1500\n",
      "Iteration: 227,\tBest Fitness: 0.1500\n",
      "Iteration: 228,\tBest Fitness: 0.1500\n",
      "Iteration: 229,\tBest Fitness: 0.1500\n",
      "Iteration: 230,\tBest Fitness: 0.1500\n",
      "Iteration: 231,\tBest Fitness: 0.1500\n",
      "Iteration: 232,\tBest Fitness: 0.1500\n",
      "Iteration: 233,\tBest Fitness: 0.1500\n",
      "Iteration: 234,\tBest Fitness: 0.1500\n",
      "Iteration: 235,\tBest Fitness: 0.1500\n",
      "Iteration: 236,\tBest Fitness: 0.1500\n",
      "Iteration: 237,\tBest Fitness: 0.1500\n",
      "Iteration: 238,\tBest Fitness: 0.1500\n",
      "Iteration: 239,\tBest Fitness: 0.1500\n",
      "Iteration: 240,\tBest Fitness: 0.1500\n",
      "Iteration: 241,\tBest Fitness: 0.1500\n",
      "Iteration: 242,\tBest Fitness: 0.1500\n",
      "Iteration: 243,\tBest Fitness: 0.1500\n",
      "Iteration: 244,\tBest Fitness: 0.1500\n",
      "Iteration: 245,\tBest Fitness: 0.1500\n",
      "Iteration: 246,\tBest Fitness: 0.1500\n",
      "Iteration: 247,\tBest Fitness: 0.1500\n",
      "Iteration: 248,\tBest Fitness: 0.1500\n",
      "Iteration: 249,\tBest Fitness: 0.1500\n",
      "Iteration: 250,\tBest Fitness: 0.1500\n",
      "Iteration: 251,\tBest Fitness: 0.1500\n",
      "Iteration: 252,\tBest Fitness: 0.1500\n",
      "Iteration: 253,\tBest Fitness: 0.1500\n",
      "Iteration: 254,\tBest Fitness: 0.1500\n",
      "Iteration: 255,\tBest Fitness: 0.1500\n",
      "Iteration: 256,\tBest Fitness: 0.1500\n",
      "Iteration: 257,\tBest Fitness: 0.1500\n",
      "Iteration: 258,\tBest Fitness: 0.1500\n",
      "Iteration: 259,\tBest Fitness: 0.1500\n",
      "Iteration: 260,\tBest Fitness: 0.1500\n",
      "Iteration: 261,\tBest Fitness: 0.1500\n",
      "Iteration: 262,\tBest Fitness: 0.1500\n",
      "Iteration: 263,\tBest Fitness: 0.1500\n",
      "Iteration: 264,\tBest Fitness: 0.1500\n",
      "Iteration: 265,\tBest Fitness: 0.1500\n",
      "Iteration: 266,\tBest Fitness: 0.1500\n",
      "Iteration: 267,\tBest Fitness: 0.1500\n",
      "Iteration: 268,\tBest Fitness: 0.1500\n",
      "Iteration: 269,\tBest Fitness: 0.1500\n",
      "Iteration: 270,\tBest Fitness: 0.1500\n",
      "Iteration: 271,\tBest Fitness: 0.1500\n",
      "Iteration: 272,\tBest Fitness: 0.1500\n",
      "Iteration: 273,\tBest Fitness: 0.1500\n",
      "Iteration: 274,\tBest Fitness: 0.1500\n",
      "Iteration: 275,\tBest Fitness: 0.1500\n",
      "Iteration: 276,\tBest Fitness: 0.1500\n",
      "Iteration: 277,\tBest Fitness: 0.1500\n",
      "Iteration: 278,\tBest Fitness: 0.1500\n",
      "Iteration: 279,\tBest Fitness: 0.1500\n",
      "Iteration: 280,\tBest Fitness: 0.1500\n",
      "Iteration: 281,\tBest Fitness: 0.1500\n",
      "Iteration: 282,\tBest Fitness: 0.1500\n",
      "Iteration: 283,\tBest Fitness: 0.1500\n",
      "Iteration: 284,\tBest Fitness: 0.1500\n",
      "Iteration: 285,\tBest Fitness: 0.1500\n",
      "Iteration: 286,\tBest Fitness: 0.1500\n",
      "Iteration: 287,\tBest Fitness: 0.1500\n",
      "Iteration: 288,\tBest Fitness: 0.1500\n",
      "Iteration: 289,\tBest Fitness: 0.1500\n",
      "Iteration: 290,\tBest Fitness: 0.1500\n",
      "Iteration: 291,\tBest Fitness: 0.1500\n",
      "Iteration: 292,\tBest Fitness: 0.1500\n",
      "Iteration: 293,\tBest Fitness: 0.1500\n",
      "Iteration: 294,\tBest Fitness: 0.1500\n",
      "Iteration: 295,\tBest Fitness: 0.1500\n",
      "Iteration: 296,\tBest Fitness: 0.1500\n",
      "Iteration: 297,\tBest Fitness: 0.1500\n",
      "Iteration: 298,\tBest Fitness: 0.1500\n",
      "Iteration: 299,\tBest Fitness: 0.1500\n",
      "Iteration: 300,\tBest Fitness: 0.1500\n",
      "Iteration: 301,\tBest Fitness: 0.1500\n",
      "Iteration: 302,\tBest Fitness: 0.1500\n",
      "Iteration: 303,\tBest Fitness: 0.1500\n",
      "Iteration: 304,\tBest Fitness: 0.1500\n",
      "Iteration: 305,\tBest Fitness: 0.1500\n",
      "Iteration: 306,\tBest Fitness: 0.1500\n",
      "Iteration: 307,\tBest Fitness: 0.1500\n",
      "Iteration: 308,\tBest Fitness: 0.1500\n",
      "Iteration: 309,\tBest Fitness: 0.1500\n",
      "Iteration: 310,\tBest Fitness: 0.1500\n",
      "Iteration: 311,\tBest Fitness: 0.1500\n",
      "Iteration: 312,\tBest Fitness: 0.1500\n",
      "Iteration: 313,\tBest Fitness: 0.1500\n",
      "Iteration: 314,\tBest Fitness: 0.1500\n",
      "Iteration: 315,\tBest Fitness: 0.1500\n",
      "Iteration: 316,\tBest Fitness: 0.1500\n",
      "Iteration: 317,\tBest Fitness: 0.1500\n",
      "Iteration: 318,\tBest Fitness: 0.1500\n",
      "Iteration: 319,\tBest Fitness: 0.1500\n",
      "Iteration: 320,\tBest Fitness: 0.1500\n",
      "Iteration: 321,\tBest Fitness: 0.1500\n",
      "Iteration: 322,\tBest Fitness: 0.1500\n",
      "Iteration: 323,\tBest Fitness: 0.1500\n",
      "Iteration: 324,\tBest Fitness: 0.1500\n",
      "Iteration: 325,\tBest Fitness: 0.1500\n",
      "Iteration: 326,\tBest Fitness: 0.1500\n",
      "Iteration: 327,\tBest Fitness: 0.1500\n",
      "Iteration: 328,\tBest Fitness: 0.1500\n",
      "Iteration: 329,\tBest Fitness: 0.1500\n",
      "Iteration: 330,\tBest Fitness: 0.1500\n",
      "Iteration: 331,\tBest Fitness: 0.1500\n",
      "Iteration: 332,\tBest Fitness: 0.1500\n",
      "Iteration: 333,\tBest Fitness: 0.1500\n",
      "Iteration: 334,\tBest Fitness: 0.1500\n",
      "Iteration: 335,\tBest Fitness: 0.1500\n",
      "Iteration: 336,\tBest Fitness: 0.1500\n",
      "Iteration: 337,\tBest Fitness: 0.1500\n",
      "Iteration: 338,\tBest Fitness: 0.1500\n",
      "Iteration: 339,\tBest Fitness: 0.1500\n",
      "Iteration: 340,\tBest Fitness: 0.1500\n",
      "Iteration: 341,\tBest Fitness: 0.1500\n",
      "Iteration: 342,\tBest Fitness: 0.1500\n",
      "Iteration: 343,\tBest Fitness: 0.1500\n",
      "Iteration: 344,\tBest Fitness: 0.1500\n",
      "Iteration: 345,\tBest Fitness: 0.1500\n",
      "Iteration: 346,\tBest Fitness: 0.1500\n",
      "Iteration: 347,\tBest Fitness: 0.1500\n",
      "Iteration: 348,\tBest Fitness: 0.1500\n",
      "Iteration: 349,\tBest Fitness: 0.1500\n",
      "Iteration: 350,\tBest Fitness: 0.1500\n",
      "Iteration: 351,\tBest Fitness: 0.1500\n",
      "Iteration: 352,\tBest Fitness: 0.1500\n",
      "Iteration: 353,\tBest Fitness: 0.1500\n",
      "Iteration: 354,\tBest Fitness: 0.1500\n",
      "Iteration: 355,\tBest Fitness: 0.1500\n",
      "Iteration: 356,\tBest Fitness: 0.1500\n",
      "Iteration: 357,\tBest Fitness: 0.1500\n",
      "Iteration: 358,\tBest Fitness: 0.1500\n",
      "Iteration: 359,\tBest Fitness: 0.1500\n",
      "Iteration: 360,\tBest Fitness: 0.1500\n",
      "Iteration: 361,\tBest Fitness: 0.1500\n",
      "Iteration: 362,\tBest Fitness: 0.1500\n",
      "Iteration: 363,\tBest Fitness: 0.1500\n",
      "Iteration: 364,\tBest Fitness: 0.1500\n",
      "Iteration: 365,\tBest Fitness: 0.1500\n",
      "Iteration: 366,\tBest Fitness: 0.1500\n",
      "Iteration: 367,\tBest Fitness: 0.1500\n",
      "Iteration: 368,\tBest Fitness: 0.1500\n",
      "Iteration: 369,\tBest Fitness: 0.1500\n",
      "Iteration: 370,\tBest Fitness: 0.1500\n",
      "Iteration: 371,\tBest Fitness: 0.1500\n",
      "Iteration: 372,\tBest Fitness: 0.1500\n",
      "Iteration: 373,\tBest Fitness: 0.1500\n",
      "Iteration: 374,\tBest Fitness: 0.1500\n",
      "Iteration: 375,\tBest Fitness: 0.1500\n",
      "Iteration: 376,\tBest Fitness: 0.1500\n",
      "Iteration: 377,\tBest Fitness: 0.1500\n",
      "Iteration: 378,\tBest Fitness: 0.1500\n",
      "Iteration: 379,\tBest Fitness: 0.1500\n",
      "Iteration: 380,\tBest Fitness: 0.1500\n",
      "Iteration: 381,\tBest Fitness: 0.1500\n",
      "Iteration: 382,\tBest Fitness: 0.1500\n",
      "Iteration: 383,\tBest Fitness: 0.1500\n",
      "Iteration: 384,\tBest Fitness: 0.1500\n",
      "Iteration: 385,\tBest Fitness: 0.1500\n",
      "Iteration: 386,\tBest Fitness: 0.1500\n",
      "Iteration: 387,\tBest Fitness: 0.1500\n",
      "Iteration: 388,\tBest Fitness: 0.1500\n",
      "Iteration: 389,\tBest Fitness: 0.1500\n",
      "Iteration: 390,\tBest Fitness: 0.1500\n",
      "Iteration: 391,\tBest Fitness: 0.1500\n",
      "Iteration: 392,\tBest Fitness: 0.1500\n",
      "Iteration: 393,\tBest Fitness: 0.1500\n",
      "Iteration: 394,\tBest Fitness: 0.1500\n",
      "Iteration: 395,\tBest Fitness: 0.1500\n",
      "Iteration: 396,\tBest Fitness: 0.1500\n",
      "Iteration: 397,\tBest Fitness: 0.1500\n",
      "Iteration: 398,\tBest Fitness: 0.1500\n",
      "Iteration: 399,\tBest Fitness: 0.1500\n",
      "Iteration: 400,\tBest Fitness: 0.1500\n",
      "Iteration: 401,\tBest Fitness: 0.1500\n",
      "Iteration: 402,\tBest Fitness: 0.1500\n",
      "Iteration: 403,\tBest Fitness: 0.1500\n",
      "Iteration: 404,\tBest Fitness: 0.1500\n",
      "Iteration: 405,\tBest Fitness: 0.1500\n",
      "Iteration: 406,\tBest Fitness: 0.1500\n",
      "Iteration: 407,\tBest Fitness: 0.1500\n",
      "Iteration: 408,\tBest Fitness: 0.1500\n",
      "Iteration: 409,\tBest Fitness: 0.1500\n",
      "Iteration: 410,\tBest Fitness: 0.1500\n",
      "Iteration: 411,\tBest Fitness: 0.1500\n",
      "Iteration: 412,\tBest Fitness: 0.1500\n",
      "Iteration: 413,\tBest Fitness: 0.1500\n",
      "Iteration: 414,\tBest Fitness: 0.1500\n",
      "Iteration: 415,\tBest Fitness: 0.1500\n",
      "Iteration: 416,\tBest Fitness: 0.1500\n",
      "Iteration: 417,\tBest Fitness: 0.1500\n",
      "Iteration: 418,\tBest Fitness: 0.1500\n",
      "Iteration: 419,\tBest Fitness: 0.1500\n",
      "Iteration: 420,\tBest Fitness: 0.1500\n",
      "Iteration: 421,\tBest Fitness: 0.1500\n",
      "Iteration: 422,\tBest Fitness: 0.1500\n",
      "Iteration: 423,\tBest Fitness: 0.1500\n",
      "Iteration: 424,\tBest Fitness: 0.1500\n",
      "Iteration: 425,\tBest Fitness: 0.1500\n",
      "Iteration: 426,\tBest Fitness: 0.1500\n",
      "Iteration: 427,\tBest Fitness: 0.1500\n",
      "Iteration: 428,\tBest Fitness: 0.1500\n",
      "Iteration: 429,\tBest Fitness: 0.1500\n",
      "Iteration: 430,\tBest Fitness: 0.1500\n",
      "Iteration: 431,\tBest Fitness: 0.1500\n",
      "Iteration: 432,\tBest Fitness: 0.1500\n",
      "Iteration: 433,\tBest Fitness: 0.1500\n",
      "Iteration: 434,\tBest Fitness: 0.1500\n",
      "Iteration: 435,\tBest Fitness: 0.1500\n",
      "Iteration: 436,\tBest Fitness: 0.1500\n",
      "Iteration: 437,\tBest Fitness: 0.1500\n",
      "Iteration: 438,\tBest Fitness: 0.1500\n",
      "Iteration: 439,\tBest Fitness: 0.1500\n",
      "Iteration: 440,\tBest Fitness: 0.1500\n",
      "Iteration: 441,\tBest Fitness: 0.1500\n",
      "Iteration: 442,\tBest Fitness: 0.1500\n",
      "Iteration: 443,\tBest Fitness: 0.1500\n",
      "Iteration: 444,\tBest Fitness: 0.1500\n",
      "Iteration: 445,\tBest Fitness: 0.1500\n",
      "Iteration: 446,\tBest Fitness: 0.1500\n",
      "Iteration: 447,\tBest Fitness: 0.1500\n",
      "Iteration: 448,\tBest Fitness: 0.1500\n",
      "Iteration: 449,\tBest Fitness: 0.1500\n",
      "Iteration: 450,\tBest Fitness: 0.1500\n",
      "Iteration: 451,\tBest Fitness: 0.1500\n",
      "Iteration: 452,\tBest Fitness: 0.1500\n",
      "Iteration: 453,\tBest Fitness: 0.1500\n",
      "Iteration: 454,\tBest Fitness: 0.1500\n",
      "Iteration: 455,\tBest Fitness: 0.1500\n",
      "Iteration: 456,\tBest Fitness: 0.1500\n",
      "Iteration: 457,\tBest Fitness: 0.1500\n",
      "Iteration: 458,\tBest Fitness: 0.1500\n",
      "Iteration: 459,\tBest Fitness: 0.1500\n",
      "Iteration: 460,\tBest Fitness: 0.1500\n",
      "Iteration: 461,\tBest Fitness: 0.1500\n",
      "Iteration: 462,\tBest Fitness: 0.1500\n",
      "Iteration: 463,\tBest Fitness: 0.1500\n",
      "Iteration: 464,\tBest Fitness: 0.1500\n",
      "Iteration: 465,\tBest Fitness: 0.1500\n",
      "Iteration: 466,\tBest Fitness: 0.1500\n",
      "Iteration: 467,\tBest Fitness: 0.1500\n",
      "Iteration: 468,\tBest Fitness: 0.1500\n",
      "Iteration: 469,\tBest Fitness: 0.1500\n",
      "Iteration: 470,\tBest Fitness: 0.1500\n",
      "Iteration: 471,\tBest Fitness: 0.1500\n",
      "Iteration: 472,\tBest Fitness: 0.1500\n",
      "Iteration: 473,\tBest Fitness: 0.1500\n",
      "Iteration: 474,\tBest Fitness: 0.1500\n",
      "Iteration: 475,\tBest Fitness: 0.1500\n",
      "Iteration: 476,\tBest Fitness: 0.1500\n",
      "Iteration: 477,\tBest Fitness: 0.1500\n",
      "Iteration: 478,\tBest Fitness: 0.1500\n",
      "Iteration: 479,\tBest Fitness: 0.1500\n",
      "Iteration: 480,\tBest Fitness: 0.1500\n",
      "Iteration: 481,\tBest Fitness: 0.1500\n",
      "Iteration: 482,\tBest Fitness: 0.1500\n",
      "Iteration: 483,\tBest Fitness: 0.1500\n",
      "Iteration: 484,\tBest Fitness: 0.1500\n",
      "Iteration: 485,\tBest Fitness: 0.1500\n",
      "Iteration: 486,\tBest Fitness: 0.1500\n",
      "Iteration: 487,\tBest Fitness: 0.1500\n",
      "Iteration: 488,\tBest Fitness: 0.1500\n",
      "Iteration: 489,\tBest Fitness: 0.1500\n",
      "Iteration: 490,\tBest Fitness: 0.1500\n",
      "Iteration: 491,\tBest Fitness: 0.1500\n",
      "Iteration: 492,\tBest Fitness: 0.1500\n",
      "Iteration: 493,\tBest Fitness: 0.1500\n",
      "Iteration: 494,\tBest Fitness: 0.1500\n",
      "Iteration: 495,\tBest Fitness: 0.1500\n",
      "Iteration: 496,\tBest Fitness: 0.1500\n",
      "Iteration: 497,\tBest Fitness: 0.1500\n",
      "Iteration: 498,\tBest Fitness: 0.1500\n",
      "Iteration: 499,\tBest Fitness: 0.1500\n",
      "Iteration: 500,\tBest Fitness: 0.1500\n",
      "Iteration: 501,\tBest Fitness: 0.1500\n",
      "Iteration: 502,\tBest Fitness: 0.1500\n",
      "Iteration: 503,\tBest Fitness: 0.1500\n",
      "Iteration: 504,\tBest Fitness: 0.1500\n",
      "Iteration: 505,\tBest Fitness: 0.1500\n",
      "Iteration: 506,\tBest Fitness: 0.1500\n",
      "Iteration: 507,\tBest Fitness: 0.1500\n",
      "Iteration: 508,\tBest Fitness: 0.1500\n",
      "Iteration: 509,\tBest Fitness: 0.1500\n",
      "Iteration: 510,\tBest Fitness: 0.1500\n",
      "Iteration: 511,\tBest Fitness: 0.1500\n",
      "Iteration: 512,\tBest Fitness: 0.1500\n",
      "Iteration: 513,\tBest Fitness: 0.1500\n",
      "Iteration: 514,\tBest Fitness: 0.1500\n",
      "Iteration: 515,\tBest Fitness: 0.1500\n",
      "Iteration: 516,\tBest Fitness: 0.1500\n",
      "Iteration: 517,\tBest Fitness: 0.1500\n",
      "Iteration: 518,\tBest Fitness: 0.1500\n",
      "Iteration: 519,\tBest Fitness: 0.1500\n",
      "Iteration: 520,\tBest Fitness: 0.1500\n",
      "Iteration: 521,\tBest Fitness: 0.1500\n",
      "Iteration: 522,\tBest Fitness: 0.1500\n",
      "Iteration: 523,\tBest Fitness: 0.1500\n",
      "Iteration: 524,\tBest Fitness: 0.1500\n",
      "Iteration: 525,\tBest Fitness: 0.1500\n",
      "Iteration: 526,\tBest Fitness: 0.1500\n",
      "Iteration: 527,\tBest Fitness: 0.1500\n",
      "Iteration: 528,\tBest Fitness: 0.1500\n",
      "Iteration: 529,\tBest Fitness: 0.1500\n",
      "Iteration: 530,\tBest Fitness: 0.1500\n",
      "Iteration: 531,\tBest Fitness: 0.1500\n",
      "Iteration: 532,\tBest Fitness: 0.1500\n",
      "Iteration: 533,\tBest Fitness: 0.1500\n",
      "Iteration: 534,\tBest Fitness: 0.1500\n",
      "Iteration: 535,\tBest Fitness: 0.1500\n",
      "Iteration: 536,\tBest Fitness: 0.1500\n",
      "Iteration: 537,\tBest Fitness: 0.1500\n",
      "Iteration: 538,\tBest Fitness: 0.1500\n",
      "Iteration: 539,\tBest Fitness: 0.1500\n",
      "Iteration: 540,\tBest Fitness: 0.1500\n",
      "Iteration: 541,\tBest Fitness: 0.1500\n",
      "Iteration: 542,\tBest Fitness: 0.1500\n",
      "Iteration: 543,\tBest Fitness: 0.1500\n",
      "Iteration: 544,\tBest Fitness: 0.1500\n",
      "Iteration: 545,\tBest Fitness: 0.1500\n",
      "Iteration: 546,\tBest Fitness: 0.1500\n",
      "Iteration: 547,\tBest Fitness: 0.1500\n",
      "Iteration: 548,\tBest Fitness: 0.1500\n",
      "Iteration: 549,\tBest Fitness: 0.1500\n",
      "Iteration: 550,\tBest Fitness: 0.1500\n",
      "Iteration: 551,\tBest Fitness: 0.1500\n",
      "Iteration: 552,\tBest Fitness: 0.1500\n",
      "Iteration: 553,\tBest Fitness: 0.1500\n",
      "Iteration: 554,\tBest Fitness: 0.1500\n",
      "Iteration: 555,\tBest Fitness: 0.1500\n",
      "Iteration: 556,\tBest Fitness: 0.1500\n",
      "Iteration: 557,\tBest Fitness: 0.1500\n",
      "Iteration: 558,\tBest Fitness: 0.1500\n",
      "Iteration: 559,\tBest Fitness: 0.1500\n",
      "Iteration: 560,\tBest Fitness: 0.1500\n",
      "Iteration: 561,\tBest Fitness: 0.1500\n",
      "Iteration: 562,\tBest Fitness: 0.1500\n",
      "Iteration: 563,\tBest Fitness: 0.1500\n",
      "Iteration: 564,\tBest Fitness: 0.1500\n",
      "Iteration: 565,\tBest Fitness: 0.1500\n",
      "Iteration: 566,\tBest Fitness: 0.1500\n",
      "Iteration: 567,\tBest Fitness: 0.1500\n",
      "Iteration: 568,\tBest Fitness: 0.1500\n",
      "Iteration: 569,\tBest Fitness: 0.1500\n",
      "Iteration: 570,\tBest Fitness: 0.1500\n",
      "Iteration: 571,\tBest Fitness: 0.1500\n",
      "Iteration: 572,\tBest Fitness: 0.1500\n",
      "Iteration: 573,\tBest Fitness: 0.1500\n",
      "Iteration: 574,\tBest Fitness: 0.1500\n",
      "Iteration: 575,\tBest Fitness: 0.1500\n",
      "Iteration: 576,\tBest Fitness: 0.1500\n",
      "Iteration: 577,\tBest Fitness: 0.1500\n",
      "Iteration: 578,\tBest Fitness: 0.1500\n",
      "Iteration: 579,\tBest Fitness: 0.1500\n",
      "Iteration: 580,\tBest Fitness: 0.1500\n",
      "Iteration: 581,\tBest Fitness: 0.1500\n",
      "Iteration: 582,\tBest Fitness: 0.1500\n",
      "Iteration: 583,\tBest Fitness: 0.1500\n",
      "Iteration: 584,\tBest Fitness: 0.1500\n",
      "Iteration: 585,\tBest Fitness: 0.1500\n",
      "Iteration: 586,\tBest Fitness: 0.1500\n",
      "Iteration: 587,\tBest Fitness: 0.1500\n",
      "Iteration: 588,\tBest Fitness: 0.1500\n",
      "Iteration: 589,\tBest Fitness: 0.1500\n",
      "Iteration: 590,\tBest Fitness: 0.1500\n",
      "Iteration: 591,\tBest Fitness: 0.1500\n",
      "Iteration: 592,\tBest Fitness: 0.1500\n",
      "Iteration: 593,\tBest Fitness: 0.1500\n",
      "Iteration: 594,\tBest Fitness: 0.1500\n",
      "Iteration: 595,\tBest Fitness: 0.1500\n",
      "Iteration: 596,\tBest Fitness: 0.1500\n",
      "Iteration: 597,\tBest Fitness: 0.1500\n",
      "Iteration: 598,\tBest Fitness: 0.1500\n",
      "Iteration: 599,\tBest Fitness: 0.1500\n",
      "Iteration: 600,\tBest Fitness: 0.1500\n",
      "Iteration: 601,\tBest Fitness: 0.1500\n",
      "Iteration: 602,\tBest Fitness: 0.1500\n",
      "Iteration: 603,\tBest Fitness: 0.1500\n",
      "Iteration: 604,\tBest Fitness: 0.1500\n",
      "Iteration: 605,\tBest Fitness: 0.1500\n",
      "Iteration: 606,\tBest Fitness: 0.1500\n",
      "Iteration: 607,\tBest Fitness: 0.1500\n",
      "Iteration: 608,\tBest Fitness: 0.1500\n",
      "Iteration: 609,\tBest Fitness: 0.1500\n",
      "Iteration: 610,\tBest Fitness: 0.1500\n",
      "Iteration: 611,\tBest Fitness: 0.1500\n",
      "Iteration: 612,\tBest Fitness: 0.1500\n",
      "Iteration: 613,\tBest Fitness: 0.1500\n",
      "Iteration: 614,\tBest Fitness: 0.1500\n",
      "Iteration: 615,\tBest Fitness: 0.1500\n",
      "Iteration: 616,\tBest Fitness: 0.1500\n",
      "Iteration: 617,\tBest Fitness: 0.1500\n",
      "Iteration: 618,\tBest Fitness: 0.1500\n",
      "Iteration: 619,\tBest Fitness: 0.1500\n",
      "Iteration: 620,\tBest Fitness: 0.1500\n",
      "Iteration: 621,\tBest Fitness: 0.1500\n",
      "Iteration: 622,\tBest Fitness: 0.1500\n",
      "Iteration: 623,\tBest Fitness: 0.1500\n",
      "Iteration: 624,\tBest Fitness: 0.1500\n",
      "Iteration: 625,\tBest Fitness: 0.1500\n",
      "Iteration: 626,\tBest Fitness: 0.1500\n",
      "Iteration: 627,\tBest Fitness: 0.1500\n",
      "Iteration: 628,\tBest Fitness: 0.1500\n",
      "Iteration: 629,\tBest Fitness: 0.1500\n",
      "Iteration: 630,\tBest Fitness: 0.1500\n",
      "Iteration: 631,\tBest Fitness: 0.1500\n",
      "Iteration: 632,\tBest Fitness: 0.1500\n",
      "Iteration: 633,\tBest Fitness: 0.1500\n",
      "Iteration: 634,\tBest Fitness: 0.1500\n",
      "Iteration: 635,\tBest Fitness: 0.1500\n",
      "Iteration: 636,\tBest Fitness: 0.1500\n",
      "Iteration: 637,\tBest Fitness: 0.1500\n",
      "Iteration: 638,\tBest Fitness: 0.1500\n",
      "Iteration: 639,\tBest Fitness: 0.1500\n",
      "Iteration: 640,\tBest Fitness: 0.1500\n",
      "Iteration: 641,\tBest Fitness: 0.1500\n",
      "Iteration: 642,\tBest Fitness: 0.1500\n",
      "Iteration: 643,\tBest Fitness: 0.1500\n",
      "Iteration: 644,\tBest Fitness: 0.1500\n",
      "Iteration: 645,\tBest Fitness: 0.1500\n",
      "Iteration: 646,\tBest Fitness: 0.1500\n",
      "Iteration: 647,\tBest Fitness: 0.1500\n",
      "Iteration: 648,\tBest Fitness: 0.1500\n",
      "Iteration: 649,\tBest Fitness: 0.1500\n",
      "Iteration: 650,\tBest Fitness: 0.1500\n",
      "Iteration: 651,\tBest Fitness: 0.1500\n",
      "Iteration: 652,\tBest Fitness: 0.1500\n",
      "Iteration: 653,\tBest Fitness: 0.1500\n",
      "Iteration: 654,\tBest Fitness: 0.1500\n",
      "Iteration: 655,\tBest Fitness: 0.1500\n",
      "Iteration: 656,\tBest Fitness: 0.1500\n",
      "Iteration: 657,\tBest Fitness: 0.1500\n",
      "Iteration: 658,\tBest Fitness: 0.1500\n",
      "Iteration: 659,\tBest Fitness: 0.1500\n",
      "Iteration: 660,\tBest Fitness: 0.1500\n",
      "Iteration: 661,\tBest Fitness: 0.1500\n",
      "Iteration: 662,\tBest Fitness: 0.1500\n",
      "Iteration: 663,\tBest Fitness: 0.1500\n",
      "Iteration: 664,\tBest Fitness: 0.1500\n",
      "Iteration: 665,\tBest Fitness: 0.1500\n",
      "Iteration: 666,\tBest Fitness: 0.1500\n",
      "Iteration: 667,\tBest Fitness: 0.1500\n",
      "Iteration: 668,\tBest Fitness: 0.1500\n",
      "Iteration: 669,\tBest Fitness: 0.1500\n",
      "Iteration: 670,\tBest Fitness: 0.1500\n",
      "Iteration: 671,\tBest Fitness: 0.1500\n",
      "Iteration: 672,\tBest Fitness: 0.1500\n",
      "Iteration: 673,\tBest Fitness: 0.1500\n",
      "Iteration: 674,\tBest Fitness: 0.1500\n",
      "Iteration: 675,\tBest Fitness: 0.1500\n",
      "Iteration: 676,\tBest Fitness: 0.1500\n",
      "Iteration: 677,\tBest Fitness: 0.1500\n",
      "Iteration: 678,\tBest Fitness: 0.1500\n",
      "Iteration: 679,\tBest Fitness: 0.1500\n",
      "Iteration: 680,\tBest Fitness: 0.1500\n",
      "Iteration: 681,\tBest Fitness: 0.1500\n",
      "Iteration: 682,\tBest Fitness: 0.1500\n",
      "Iteration: 683,\tBest Fitness: 0.1500\n",
      "Iteration: 684,\tBest Fitness: 0.1500\n",
      "Iteration: 685,\tBest Fitness: 0.1500\n",
      "Iteration: 686,\tBest Fitness: 0.1500\n",
      "Iteration: 687,\tBest Fitness: 0.1500\n",
      "Iteration: 688,\tBest Fitness: 0.1500\n",
      "Iteration: 689,\tBest Fitness: 0.1500\n",
      "Iteration: 690,\tBest Fitness: 0.1500\n",
      "Iteration: 691,\tBest Fitness: 0.1500\n",
      "Iteration: 692,\tBest Fitness: 0.1500\n",
      "Iteration: 693,\tBest Fitness: 0.1500\n",
      "Iteration: 694,\tBest Fitness: 0.1500\n",
      "Iteration: 695,\tBest Fitness: 0.1500\n",
      "Iteration: 696,\tBest Fitness: 0.1500\n",
      "Iteration: 697,\tBest Fitness: 0.1500\n",
      "Iteration: 698,\tBest Fitness: 0.1500\n",
      "Iteration: 699,\tBest Fitness: 0.1500\n",
      "Iteration: 700,\tBest Fitness: 0.1500\n",
      "Iteration: 701,\tBest Fitness: 0.1500\n",
      "Iteration: 702,\tBest Fitness: 0.1500\n",
      "Iteration: 703,\tBest Fitness: 0.1500\n",
      "Iteration: 704,\tBest Fitness: 0.1500\n",
      "Iteration: 705,\tBest Fitness: 0.1500\n",
      "Iteration: 706,\tBest Fitness: 0.1500\n",
      "Iteration: 707,\tBest Fitness: 0.1500\n",
      "Iteration: 708,\tBest Fitness: 0.1500\n",
      "Iteration: 709,\tBest Fitness: 0.1500\n",
      "Iteration: 710,\tBest Fitness: 0.1500\n",
      "Iteration: 711,\tBest Fitness: 0.1500\n",
      "Iteration: 712,\tBest Fitness: 0.1500\n",
      "Iteration: 713,\tBest Fitness: 0.1500\n",
      "Iteration: 714,\tBest Fitness: 0.1500\n",
      "Iteration: 715,\tBest Fitness: 0.1500\n",
      "Iteration: 716,\tBest Fitness: 0.1500\n",
      "Iteration: 717,\tBest Fitness: 0.1500\n",
      "Iteration: 718,\tBest Fitness: 0.1500\n",
      "Iteration: 719,\tBest Fitness: 0.1500\n",
      "Iteration: 720,\tBest Fitness: 0.1500\n",
      "Iteration: 721,\tBest Fitness: 0.1500\n",
      "Iteration: 722,\tBest Fitness: 0.1500\n",
      "Iteration: 723,\tBest Fitness: 0.1500\n",
      "Iteration: 724,\tBest Fitness: 0.1500\n",
      "Iteration: 725,\tBest Fitness: 0.1500\n",
      "Iteration: 726,\tBest Fitness: 0.1500\n",
      "Iteration: 727,\tBest Fitness: 0.1500\n",
      "Iteration: 728,\tBest Fitness: 0.1500\n",
      "Iteration: 729,\tBest Fitness: 0.1500\n",
      "Iteration: 730,\tBest Fitness: 0.1500\n",
      "Iteration: 731,\tBest Fitness: 0.1500\n",
      "Iteration: 732,\tBest Fitness: 0.1500\n",
      "Iteration: 733,\tBest Fitness: 0.1500\n",
      "Iteration: 734,\tBest Fitness: 0.1500\n",
      "Iteration: 735,\tBest Fitness: 0.1500\n",
      "Iteration: 736,\tBest Fitness: 0.1500\n",
      "Iteration: 737,\tBest Fitness: 0.1500\n",
      "Iteration: 738,\tBest Fitness: 0.1500\n",
      "Iteration: 739,\tBest Fitness: 0.1500\n",
      "Iteration: 740,\tBest Fitness: 0.1500\n",
      "Iteration: 741,\tBest Fitness: 0.1500\n",
      "Iteration: 742,\tBest Fitness: 0.1500\n",
      "Iteration: 743,\tBest Fitness: 0.1500\n",
      "Iteration: 744,\tBest Fitness: 0.1500\n",
      "Iteration: 745,\tBest Fitness: 0.1500\n",
      "Iteration: 746,\tBest Fitness: 0.1500\n",
      "Iteration: 747,\tBest Fitness: 0.1500\n",
      "Iteration: 748,\tBest Fitness: 0.1500\n",
      "Iteration: 749,\tBest Fitness: 0.1500\n",
      "Iteration: 750,\tBest Fitness: 0.1500\n",
      "Iteration: 751,\tBest Fitness: 0.1500\n",
      "Iteration: 752,\tBest Fitness: 0.1500\n",
      "Iteration: 753,\tBest Fitness: 0.1500\n",
      "Iteration: 754,\tBest Fitness: 0.1500\n",
      "Iteration: 755,\tBest Fitness: 0.1500\n",
      "Iteration: 756,\tBest Fitness: 0.1500\n",
      "Iteration: 757,\tBest Fitness: 0.1500\n",
      "Iteration: 758,\tBest Fitness: 0.1500\n",
      "Iteration: 759,\tBest Fitness: 0.1500\n",
      "Iteration: 760,\tBest Fitness: 0.1500\n",
      "Iteration: 761,\tBest Fitness: 0.1500\n",
      "Iteration: 762,\tBest Fitness: 0.1500\n",
      "Iteration: 763,\tBest Fitness: 0.1500\n",
      "Iteration: 764,\tBest Fitness: 0.1500\n",
      "Iteration: 765,\tBest Fitness: 0.1500\n",
      "Iteration: 766,\tBest Fitness: 0.1500\n",
      "Iteration: 767,\tBest Fitness: 0.1500\n",
      "Iteration: 768,\tBest Fitness: 0.1500\n",
      "Iteration: 769,\tBest Fitness: 0.1500\n",
      "Iteration: 770,\tBest Fitness: 0.1500\n",
      "Iteration: 771,\tBest Fitness: 0.1500\n",
      "Iteration: 772,\tBest Fitness: 0.1500\n",
      "Iteration: 773,\tBest Fitness: 0.1500\n",
      "Iteration: 774,\tBest Fitness: 0.1500\n",
      "Iteration: 775,\tBest Fitness: 0.1500\n",
      "Iteration: 776,\tBest Fitness: 0.1500\n",
      "Iteration: 777,\tBest Fitness: 0.1500\n",
      "Iteration: 778,\tBest Fitness: 0.1500\n",
      "Iteration: 779,\tBest Fitness: 0.1500\n",
      "Iteration: 780,\tBest Fitness: 0.1500\n",
      "Iteration: 781,\tBest Fitness: 0.1500\n",
      "Iteration: 782,\tBest Fitness: 0.1500\n",
      "Iteration: 783,\tBest Fitness: 0.1500\n",
      "Iteration: 784,\tBest Fitness: 0.1500\n",
      "Iteration: 785,\tBest Fitness: 0.1500\n",
      "Iteration: 786,\tBest Fitness: 0.1500\n",
      "Iteration: 787,\tBest Fitness: 0.1500\n",
      "Iteration: 788,\tBest Fitness: 0.1500\n",
      "Iteration: 789,\tBest Fitness: 0.1500\n",
      "Iteration: 790,\tBest Fitness: 0.1500\n",
      "Iteration: 791,\tBest Fitness: 0.1500\n",
      "Iteration: 792,\tBest Fitness: 0.1500\n",
      "Iteration: 793,\tBest Fitness: 0.1500\n",
      "Iteration: 794,\tBest Fitness: 0.1500\n",
      "Iteration: 795,\tBest Fitness: 0.1500\n",
      "Iteration: 796,\tBest Fitness: 0.1500\n",
      "Iteration: 797,\tBest Fitness: 0.1500\n",
      "Iteration: 798,\tBest Fitness: 0.1500\n",
      "Iteration: 799,\tBest Fitness: 0.1500\n",
      "Iteration: 800,\tBest Fitness: 0.1500\n",
      "Iteration: 801,\tBest Fitness: 0.1500\n",
      "Iteration: 802,\tBest Fitness: 0.1500\n",
      "Iteration: 803,\tBest Fitness: 0.1500\n",
      "Iteration: 804,\tBest Fitness: 0.1500\n",
      "Iteration: 805,\tBest Fitness: 0.1500\n",
      "Iteration: 806,\tBest Fitness: 0.1500\n",
      "Iteration: 807,\tBest Fitness: 0.1500\n",
      "Iteration: 808,\tBest Fitness: 0.1500\n",
      "Iteration: 809,\tBest Fitness: 0.1500\n",
      "Iteration: 810,\tBest Fitness: 0.1500\n",
      "Iteration: 811,\tBest Fitness: 0.1500\n",
      "Iteration: 812,\tBest Fitness: 0.1500\n",
      "Iteration: 813,\tBest Fitness: 0.1500\n",
      "Iteration: 814,\tBest Fitness: 0.1500\n",
      "Iteration: 815,\tBest Fitness: 0.1500\n",
      "Iteration: 816,\tBest Fitness: 0.1500\n",
      "Iteration: 817,\tBest Fitness: 0.1500\n",
      "Iteration: 818,\tBest Fitness: 0.1500\n",
      "Iteration: 819,\tBest Fitness: 0.1500\n",
      "Iteration: 820,\tBest Fitness: 0.1500\n",
      "Iteration: 821,\tBest Fitness: 0.1500\n",
      "Iteration: 822,\tBest Fitness: 0.1500\n",
      "Iteration: 823,\tBest Fitness: 0.1500\n",
      "Iteration: 824,\tBest Fitness: 0.1500\n",
      "Iteration: 825,\tBest Fitness: 0.1500\n",
      "Iteration: 826,\tBest Fitness: 0.1500\n",
      "Iteration: 827,\tBest Fitness: 0.1500\n",
      "Iteration: 828,\tBest Fitness: 0.1500\n",
      "Iteration: 829,\tBest Fitness: 0.1500\n",
      "Iteration: 830,\tBest Fitness: 0.1500\n",
      "Iteration: 831,\tBest Fitness: 0.1500\n",
      "Iteration: 832,\tBest Fitness: 0.1500\n",
      "Iteration: 833,\tBest Fitness: 0.1500\n",
      "Iteration: 834,\tBest Fitness: 0.1500\n",
      "Iteration: 835,\tBest Fitness: 0.1500\n",
      "Iteration: 836,\tBest Fitness: 0.1500\n",
      "Iteration: 837,\tBest Fitness: 0.1500\n",
      "Iteration: 838,\tBest Fitness: 0.1500\n",
      "Iteration: 839,\tBest Fitness: 0.1500\n",
      "Iteration: 840,\tBest Fitness: 0.1500\n",
      "Iteration: 841,\tBest Fitness: 0.1500\n",
      "Iteration: 842,\tBest Fitness: 0.1500\n",
      "Iteration: 843,\tBest Fitness: 0.1500\n",
      "Iteration: 844,\tBest Fitness: 0.1500\n",
      "Iteration: 845,\tBest Fitness: 0.1500\n",
      "Iteration: 846,\tBest Fitness: 0.1500\n",
      "Iteration: 847,\tBest Fitness: 0.1500\n",
      "Iteration: 848,\tBest Fitness: 0.1500\n",
      "Iteration: 849,\tBest Fitness: 0.1500\n",
      "Iteration: 850,\tBest Fitness: 0.1500\n",
      "Iteration: 851,\tBest Fitness: 0.1500\n",
      "Iteration: 852,\tBest Fitness: 0.1500\n",
      "Iteration: 853,\tBest Fitness: 0.1500\n",
      "Iteration: 854,\tBest Fitness: 0.1500\n",
      "Iteration: 855,\tBest Fitness: 0.1500\n",
      "Iteration: 856,\tBest Fitness: 0.1500\n",
      "Iteration: 857,\tBest Fitness: 0.1500\n",
      "Iteration: 858,\tBest Fitness: 0.1500\n",
      "Iteration: 859,\tBest Fitness: 0.1500\n",
      "Iteration: 860,\tBest Fitness: 0.1500\n",
      "Iteration: 861,\tBest Fitness: 0.1500\n",
      "Iteration: 862,\tBest Fitness: 0.1500\n",
      "Iteration: 863,\tBest Fitness: 0.1500\n",
      "Iteration: 864,\tBest Fitness: 0.1500\n",
      "Iteration: 865,\tBest Fitness: 0.1500\n",
      "Iteration: 866,\tBest Fitness: 0.1500\n",
      "Iteration: 867,\tBest Fitness: 0.1500\n",
      "Iteration: 868,\tBest Fitness: 0.1500\n",
      "Iteration: 869,\tBest Fitness: 0.1500\n",
      "Iteration: 870,\tBest Fitness: 0.1500\n",
      "Iteration: 871,\tBest Fitness: 0.1500\n",
      "Iteration: 872,\tBest Fitness: 0.1500\n",
      "Iteration: 873,\tBest Fitness: 0.1500\n",
      "Iteration: 874,\tBest Fitness: 0.1500\n",
      "Iteration: 875,\tBest Fitness: 0.1500\n",
      "Iteration: 876,\tBest Fitness: 0.1500\n",
      "Iteration: 877,\tBest Fitness: 0.1500\n",
      "Iteration: 878,\tBest Fitness: 0.1500\n",
      "Iteration: 879,\tBest Fitness: 0.1500\n",
      "Iteration: 880,\tBest Fitness: 0.1500\n",
      "Iteration: 881,\tBest Fitness: 0.1500\n",
      "Iteration: 882,\tBest Fitness: 0.1500\n",
      "Iteration: 883,\tBest Fitness: 0.1500\n",
      "Iteration: 884,\tBest Fitness: 0.1500\n",
      "Iteration: 885,\tBest Fitness: 0.1500\n",
      "Iteration: 886,\tBest Fitness: 0.1500\n",
      "Iteration: 887,\tBest Fitness: 0.1500\n",
      "Iteration: 888,\tBest Fitness: 0.1500\n",
      "Iteration: 889,\tBest Fitness: 0.1500\n",
      "Iteration: 890,\tBest Fitness: 0.1500\n",
      "Iteration: 891,\tBest Fitness: 0.1500\n",
      "Iteration: 892,\tBest Fitness: 0.1500\n",
      "Iteration: 893,\tBest Fitness: 0.1500\n",
      "Iteration: 894,\tBest Fitness: 0.1500\n",
      "Iteration: 895,\tBest Fitness: 0.1500\n",
      "Iteration: 896,\tBest Fitness: 0.1500\n",
      "Iteration: 897,\tBest Fitness: 0.1500\n",
      "Iteration: 898,\tBest Fitness: 0.1500\n",
      "Iteration: 899,\tBest Fitness: 0.1500\n",
      "Iteration: 900,\tBest Fitness: 0.1500\n",
      "Iteration: 901,\tBest Fitness: 0.1500\n",
      "Iteration: 902,\tBest Fitness: 0.1500\n",
      "Iteration: 903,\tBest Fitness: 0.1500\n",
      "Iteration: 904,\tBest Fitness: 0.1500\n",
      "Iteration: 905,\tBest Fitness: 0.1500\n",
      "Iteration: 906,\tBest Fitness: 0.1500\n",
      "Iteration: 907,\tBest Fitness: 0.1500\n",
      "Iteration: 908,\tBest Fitness: 0.1500\n",
      "Iteration: 909,\tBest Fitness: 0.1500\n",
      "Iteration: 910,\tBest Fitness: 0.1500\n",
      "Iteration: 911,\tBest Fitness: 0.1500\n",
      "Iteration: 912,\tBest Fitness: 0.1500\n",
      "Iteration: 913,\tBest Fitness: 0.1500\n",
      "Iteration: 914,\tBest Fitness: 0.1500\n",
      "Iteration: 915,\tBest Fitness: 0.1500\n",
      "Iteration: 916,\tBest Fitness: 0.1500\n",
      "Iteration: 917,\tBest Fitness: 0.1500\n",
      "Iteration: 918,\tBest Fitness: 0.1500\n",
      "Iteration: 919,\tBest Fitness: 0.1500\n",
      "Iteration: 920,\tBest Fitness: 0.1500\n",
      "Iteration: 921,\tBest Fitness: 0.1500\n",
      "Iteration: 922,\tBest Fitness: 0.1500\n",
      "Iteration: 923,\tBest Fitness: 0.1500\n",
      "Iteration: 924,\tBest Fitness: 0.1500\n",
      "Iteration: 925,\tBest Fitness: 0.1500\n",
      "Iteration: 926,\tBest Fitness: 0.1500\n",
      "Iteration: 927,\tBest Fitness: 0.1500\n",
      "Iteration: 928,\tBest Fitness: 0.1500\n",
      "Iteration: 929,\tBest Fitness: 0.1500\n",
      "Iteration: 930,\tBest Fitness: 0.1500\n",
      "Iteration: 931,\tBest Fitness: 0.1500\n",
      "Iteration: 932,\tBest Fitness: 0.1500\n",
      "Iteration: 933,\tBest Fitness: 0.1500\n",
      "Iteration: 934,\tBest Fitness: 0.1500\n",
      "Iteration: 935,\tBest Fitness: 0.1500\n",
      "Iteration: 936,\tBest Fitness: 0.1500\n",
      "Iteration: 937,\tBest Fitness: 0.1500\n",
      "Iteration: 938,\tBest Fitness: 0.1500\n",
      "Iteration: 939,\tBest Fitness: 0.1500\n",
      "Iteration: 940,\tBest Fitness: 0.1500\n",
      "Iteration: 941,\tBest Fitness: 0.1500\n",
      "Iteration: 942,\tBest Fitness: 0.1500\n",
      "Iteration: 943,\tBest Fitness: 0.1500\n",
      "Iteration: 944,\tBest Fitness: 0.1500\n",
      "Iteration: 945,\tBest Fitness: 0.1500\n",
      "Iteration: 946,\tBest Fitness: 0.1500\n",
      "Iteration: 947,\tBest Fitness: 0.1500\n",
      "Iteration: 948,\tBest Fitness: 0.1500\n",
      "Iteration: 949,\tBest Fitness: 0.1500\n",
      "Iteration: 950,\tBest Fitness: 0.1500\n",
      "Iteration: 951,\tBest Fitness: 0.1500\n",
      "Iteration: 952,\tBest Fitness: 0.1500\n",
      "Iteration: 953,\tBest Fitness: 0.1500\n",
      "Iteration: 954,\tBest Fitness: 0.1500\n",
      "Iteration: 955,\tBest Fitness: 0.1500\n",
      "Iteration: 956,\tBest Fitness: 0.1500\n",
      "Iteration: 957,\tBest Fitness: 0.1500\n",
      "Iteration: 958,\tBest Fitness: 0.1500\n",
      "Iteration: 959,\tBest Fitness: 0.1500\n",
      "Iteration: 960,\tBest Fitness: 0.1500\n",
      "Iteration: 961,\tBest Fitness: 0.1500\n",
      "Iteration: 962,\tBest Fitness: 0.1500\n",
      "Iteration: 963,\tBest Fitness: 0.1500\n",
      "Iteration: 964,\tBest Fitness: 0.1500\n",
      "Iteration: 965,\tBest Fitness: 0.1500\n",
      "Iteration: 966,\tBest Fitness: 0.1500\n",
      "Iteration: 967,\tBest Fitness: 0.1500\n",
      "Iteration: 968,\tBest Fitness: 0.1500\n",
      "Iteration: 969,\tBest Fitness: 0.1500\n",
      "Iteration: 970,\tBest Fitness: 0.1500\n",
      "Iteration: 971,\tBest Fitness: 0.1500\n",
      "Iteration: 972,\tBest Fitness: 0.1500\n",
      "Iteration: 973,\tBest Fitness: 0.1500\n",
      "Iteration: 974,\tBest Fitness: 0.1500\n",
      "Iteration: 975,\tBest Fitness: 0.1500\n",
      "Iteration: 976,\tBest Fitness: 0.1500\n",
      "Iteration: 977,\tBest Fitness: 0.1500\n",
      "Iteration: 978,\tBest Fitness: 0.1500\n",
      "Iteration: 979,\tBest Fitness: 0.1500\n",
      "Iteration: 980,\tBest Fitness: 0.1500\n",
      "Iteration: 981,\tBest Fitness: 0.1500\n",
      "Iteration: 982,\tBest Fitness: 0.1500\n",
      "Iteration: 983,\tBest Fitness: 0.1500\n",
      "Iteration: 984,\tBest Fitness: 0.1500\n",
      "Iteration: 985,\tBest Fitness: 0.1500\n",
      "Iteration: 986,\tBest Fitness: 0.1500\n",
      "Iteration: 987,\tBest Fitness: 0.1500\n",
      "Iteration: 988,\tBest Fitness: 0.1500\n",
      "Iteration: 989,\tBest Fitness: 0.1500\n",
      "Iteration: 990,\tBest Fitness: 0.1500\n",
      "Iteration: 991,\tBest Fitness: 0.1500\n",
      "Iteration: 992,\tBest Fitness: 0.1500\n",
      "Iteration: 993,\tBest Fitness: 0.1500\n",
      "Iteration: 994,\tBest Fitness: 0.1500\n",
      "Iteration: 995,\tBest Fitness: 0.1500\n",
      "Iteration: 996,\tBest Fitness: 0.1500\n",
      "Iteration: 997,\tBest Fitness: 0.1500\n",
      "Iteration: 998,\tBest Fitness: 0.1500\n",
      "Iteration: 999,\tBest Fitness: 0.1500\n",
      "Iteration: 1000,\tBest Fitness: 0.1500\n",
      "Iteration: 1001,\tBest Fitness: 0.1500\n",
      "Iteration: 1002,\tBest Fitness: 0.1500\n",
      "Iteration: 1003,\tBest Fitness: 0.1500\n",
      "Iteration: 1004,\tBest Fitness: 0.1500\n",
      "Iteration: 1005,\tBest Fitness: 0.1500\n",
      "Iteration: 1006,\tBest Fitness: 0.1500\n",
      "Iteration: 1007,\tBest Fitness: 0.1500\n",
      "Iteration: 1008,\tBest Fitness: 0.1500\n",
      "Iteration: 1009,\tBest Fitness: 0.1500\n",
      "Iteration: 1010,\tBest Fitness: 0.1500\n",
      "Iteration: 1011,\tBest Fitness: 0.1500\n",
      "Iteration: 1012,\tBest Fitness: 0.1500\n",
      "Iteration: 1013,\tBest Fitness: 0.1500\n",
      "Iteration: 1014,\tBest Fitness: 0.1500\n",
      "Iteration: 1015,\tBest Fitness: 0.1500\n",
      "Iteration: 1016,\tBest Fitness: 0.1500\n",
      "Iteration: 1017,\tBest Fitness: 0.1500\n",
      "Iteration: 1018,\tBest Fitness: 0.1500\n",
      "Iteration: 1019,\tBest Fitness: 0.1500\n",
      "Iteration: 1020,\tBest Fitness: 0.1500\n",
      "Iteration: 1021,\tBest Fitness: 0.1500\n",
      "Iteration: 1022,\tBest Fitness: 0.1500\n",
      "Iteration: 1023,\tBest Fitness: 0.1500\n",
      "Iteration: 1024,\tBest Fitness: 0.1500\n",
      "Iteration: 1025,\tBest Fitness: 0.1500\n",
      "Iteration: 1026,\tBest Fitness: 0.1500\n",
      "Iteration: 1027,\tBest Fitness: 0.1500\n",
      "Iteration: 1028,\tBest Fitness: 0.1500\n",
      "Iteration: 1029,\tBest Fitness: 0.1500\n",
      "Iteration: 1030,\tBest Fitness: 0.1500\n",
      "Iteration: 1031,\tBest Fitness: 0.1500\n",
      "Iteration: 1032,\tBest Fitness: 0.1500\n",
      "Iteration: 1033,\tBest Fitness: 0.1500\n",
      "Iteration: 1034,\tBest Fitness: 0.1500\n",
      "Iteration: 1035,\tBest Fitness: 0.1500\n",
      "Iteration: 1036,\tBest Fitness: 0.1500\n",
      "Iteration: 1037,\tBest Fitness: 0.1500\n",
      "Iteration: 1038,\tBest Fitness: 0.1500\n",
      "Iteration: 1039,\tBest Fitness: 0.1500\n",
      "Iteration: 1040,\tBest Fitness: 0.1500\n",
      "Iteration: 1041,\tBest Fitness: 0.1500\n",
      "Iteration: 1042,\tBest Fitness: 0.1500\n",
      "Iteration: 1043,\tBest Fitness: 0.1500\n",
      "Iteration: 1044,\tBest Fitness: 0.1500\n",
      "Iteration: 1045,\tBest Fitness: 0.1500\n",
      "Iteration: 1046,\tBest Fitness: 0.1500\n",
      "Iteration: 1047,\tBest Fitness: 0.1500\n",
      "Iteration: 1048,\tBest Fitness: 0.1500\n",
      "Iteration: 1049,\tBest Fitness: 0.1500\n",
      "Iteration: 1050,\tBest Fitness: 0.1500\n",
      "Iteration: 1051,\tBest Fitness: 0.1500\n",
      "Iteration: 1052,\tBest Fitness: 0.1500\n",
      "Iteration: 1053,\tBest Fitness: 0.1500\n",
      "Iteration: 1054,\tBest Fitness: 0.1500\n",
      "Iteration: 1055,\tBest Fitness: 0.1500\n",
      "Iteration: 1056,\tBest Fitness: 0.1500\n",
      "Iteration: 1057,\tBest Fitness: 0.1500\n",
      "Iteration: 1058,\tBest Fitness: 0.1500\n",
      "Iteration: 1059,\tBest Fitness: 0.1500\n",
      "Iteration: 1060,\tBest Fitness: 0.1500\n",
      "Iteration: 1061,\tBest Fitness: 0.1500\n",
      "Iteration: 1062,\tBest Fitness: 0.1500\n",
      "Iteration: 1063,\tBest Fitness: 0.1500\n",
      "Iteration: 1064,\tBest Fitness: 0.1500\n",
      "Iteration: 1065,\tBest Fitness: 0.1500\n",
      "Iteration: 1066,\tBest Fitness: 0.1500\n",
      "Iteration: 1067,\tBest Fitness: 0.1500\n",
      "Iteration: 1068,\tBest Fitness: 0.1500\n",
      "Iteration: 1069,\tBest Fitness: 0.1500\n",
      "Iteration: 1070,\tBest Fitness: 0.1500\n",
      "Iteration: 1071,\tBest Fitness: 0.1500\n",
      "Iteration: 1072,\tBest Fitness: 0.1500\n",
      "Iteration: 1073,\tBest Fitness: 0.1500\n",
      "Iteration: 1074,\tBest Fitness: 0.1500\n",
      "Iteration: 1075,\tBest Fitness: 0.1500\n",
      "Iteration: 1076,\tBest Fitness: 0.1500\n",
      "Iteration: 1077,\tBest Fitness: 0.1500\n",
      "Iteration: 1078,\tBest Fitness: 0.1500\n",
      "Iteration: 1079,\tBest Fitness: 0.1500\n",
      "Iteration: 1080,\tBest Fitness: 0.1500\n",
      "Iteration: 1081,\tBest Fitness: 0.1500\n",
      "Iteration: 1082,\tBest Fitness: 0.1500\n",
      "Iteration: 1083,\tBest Fitness: 0.1500\n",
      "Iteration: 1084,\tBest Fitness: 0.1500\n",
      "Iteration: 1085,\tBest Fitness: 0.1500\n",
      "Iteration: 1086,\tBest Fitness: 0.1500\n",
      "Iteration: 1087,\tBest Fitness: 0.1500\n",
      "Iteration: 1088,\tBest Fitness: 0.1500\n",
      "Iteration: 1089,\tBest Fitness: 0.1500\n",
      "Iteration: 1090,\tBest Fitness: 0.1500\n",
      "Iteration: 1091,\tBest Fitness: 0.1500\n",
      "Iteration: 1092,\tBest Fitness: 0.1500\n",
      "Iteration: 1093,\tBest Fitness: 0.1500\n",
      "Iteration: 1094,\tBest Fitness: 0.1500\n",
      "Iteration: 1095,\tBest Fitness: 0.1500\n",
      "Iteration: 1096,\tBest Fitness: 0.1500\n",
      "Iteration: 1097,\tBest Fitness: 0.1500\n",
      "Iteration: 1098,\tBest Fitness: 0.1500\n",
      "Iteration: 1099,\tBest Fitness: 0.1500\n",
      "Iteration: 1100,\tBest Fitness: 0.1500\n",
      "Iteration: 1101,\tBest Fitness: 0.1500\n",
      "Iteration: 1102,\tBest Fitness: 0.1500\n",
      "Iteration: 1103,\tBest Fitness: 0.1500\n",
      "Iteration: 1104,\tBest Fitness: 0.1500\n",
      "Iteration: 1105,\tBest Fitness: 0.1500\n",
      "Iteration: 1106,\tBest Fitness: 0.1500\n",
      "Iteration: 1107,\tBest Fitness: 0.1500\n",
      "Iteration: 1108,\tBest Fitness: 0.1500\n",
      "Iteration: 1109,\tBest Fitness: 0.1500\n",
      "Iteration: 1110,\tBest Fitness: 0.1500\n",
      "Iteration: 1111,\tBest Fitness: 0.1500\n",
      "Iteration: 1112,\tBest Fitness: 0.1500\n",
      "Iteration: 1113,\tBest Fitness: 0.1500\n",
      "Iteration: 1114,\tBest Fitness: 0.1500\n",
      "Iteration: 1115,\tBest Fitness: 0.1500\n",
      "Iteration: 1116,\tBest Fitness: 0.1500\n",
      "Iteration: 1117,\tBest Fitness: 0.1500\n",
      "Iteration: 1118,\tBest Fitness: 0.1500\n",
      "Iteration: 1119,\tBest Fitness: 0.1500\n",
      "Iteration: 1120,\tBest Fitness: 0.1500\n",
      "Iteration: 1121,\tBest Fitness: 0.1500\n",
      "Iteration: 1122,\tBest Fitness: 0.1500\n",
      "Iteration: 1123,\tBest Fitness: 0.1500\n",
      "Iteration: 1124,\tBest Fitness: 0.1500\n",
      "Iteration: 1125,\tBest Fitness: 0.1500\n",
      "Iteration: 1126,\tBest Fitness: 0.1500\n",
      "Iteration: 1127,\tBest Fitness: 0.1500\n",
      "Iteration: 1128,\tBest Fitness: 0.1500\n",
      "Iteration: 1129,\tBest Fitness: 0.1500\n",
      "Iteration: 1130,\tBest Fitness: 0.1500\n",
      "Iteration: 1131,\tBest Fitness: 0.1500\n",
      "Iteration: 1132,\tBest Fitness: 0.1500\n",
      "Iteration: 1133,\tBest Fitness: 0.1500\n",
      "Iteration: 1134,\tBest Fitness: 0.1500\n",
      "Iteration: 1135,\tBest Fitness: 0.1500\n",
      "Iteration: 1136,\tBest Fitness: 0.1500\n",
      "Iteration: 1137,\tBest Fitness: 0.1500\n",
      "Iteration: 1138,\tBest Fitness: 0.1500\n",
      "Iteration: 1139,\tBest Fitness: 0.1500\n",
      "Iteration: 1140,\tBest Fitness: 0.1500\n",
      "Iteration: 1141,\tBest Fitness: 0.1500\n",
      "Iteration: 1142,\tBest Fitness: 0.1500\n",
      "Iteration: 1143,\tBest Fitness: 0.1500\n",
      "Iteration: 1144,\tBest Fitness: 0.1500\n",
      "Iteration: 1145,\tBest Fitness: 0.1500\n",
      "Iteration: 1146,\tBest Fitness: 0.1500\n",
      "Iteration: 1147,\tBest Fitness: 0.1500\n",
      "Iteration: 1148,\tBest Fitness: 0.1500\n",
      "Iteration: 1149,\tBest Fitness: 0.1500\n",
      "Iteration: 1150,\tBest Fitness: 0.1500\n",
      "Iteration: 1151,\tBest Fitness: 0.1500\n",
      "Iteration: 1152,\tBest Fitness: 0.1500\n",
      "Iteration: 1153,\tBest Fitness: 0.1500\n",
      "Iteration: 1154,\tBest Fitness: 0.1500\n",
      "Iteration: 1155,\tBest Fitness: 0.1500\n",
      "Iteration: 1156,\tBest Fitness: 0.1500\n",
      "Iteration: 1157,\tBest Fitness: 0.1500\n",
      "Iteration: 1158,\tBest Fitness: 0.1500\n",
      "Iteration: 1159,\tBest Fitness: 0.1500\n",
      "Iteration: 1160,\tBest Fitness: 0.1500\n",
      "Iteration: 1161,\tBest Fitness: 0.1500\n",
      "Iteration: 1162,\tBest Fitness: 0.1500\n",
      "Iteration: 1163,\tBest Fitness: 0.1500\n",
      "Iteration: 1164,\tBest Fitness: 0.1500\n",
      "Iteration: 1165,\tBest Fitness: 0.1500\n",
      "Iteration: 1166,\tBest Fitness: 0.1500\n",
      "Iteration: 1167,\tBest Fitness: 0.1500\n",
      "Iteration: 1168,\tBest Fitness: 0.1500\n",
      "Iteration: 1169,\tBest Fitness: 0.1500\n",
      "Iteration: 1170,\tBest Fitness: 0.1500\n",
      "Iteration: 1171,\tBest Fitness: 0.1500\n",
      "Iteration: 1172,\tBest Fitness: 0.1500\n",
      "Iteration: 1173,\tBest Fitness: 0.1500\n",
      "Iteration: 1174,\tBest Fitness: 0.1500\n",
      "Iteration: 1175,\tBest Fitness: 0.1500\n",
      "Iteration: 1176,\tBest Fitness: 0.1500\n",
      "Iteration: 1177,\tBest Fitness: 0.1500\n",
      "Iteration: 1178,\tBest Fitness: 0.1500\n",
      "Iteration: 1179,\tBest Fitness: 0.1500\n",
      "Iteration: 1180,\tBest Fitness: 0.1500\n",
      "Iteration: 1181,\tBest Fitness: 0.1500\n",
      "Iteration: 1182,\tBest Fitness: 0.1500\n",
      "Iteration: 1183,\tBest Fitness: 0.1500\n",
      "Iteration: 1184,\tBest Fitness: 0.1500\n",
      "Iteration: 1185,\tBest Fitness: 0.1500\n",
      "Iteration: 1186,\tBest Fitness: 0.1500\n",
      "Iteration: 1187,\tBest Fitness: 0.1500\n",
      "Iteration: 1188,\tBest Fitness: 0.1500\n",
      "Iteration: 1189,\tBest Fitness: 0.1500\n",
      "Iteration: 1190,\tBest Fitness: 0.1500\n",
      "Iteration: 1191,\tBest Fitness: 0.1500\n",
      "Iteration: 1192,\tBest Fitness: 0.1500\n",
      "Iteration: 1193,\tBest Fitness: 0.1500\n",
      "Iteration: 1194,\tBest Fitness: 0.1500\n",
      "Iteration: 1195,\tBest Fitness: 0.1500\n",
      "Iteration: 1196,\tBest Fitness: 0.1500\n",
      "Iteration: 1197,\tBest Fitness: 0.1500\n",
      "Iteration: 1198,\tBest Fitness: 0.1500\n",
      "Iteration: 1199,\tBest Fitness: 0.1500\n",
      "Iteration: 1200,\tBest Fitness: 0.1500\n",
      "Iteration: 1201,\tBest Fitness: 0.1500\n",
      "Iteration: 1202,\tBest Fitness: 0.1500\n",
      "Iteration: 1203,\tBest Fitness: 0.1500\n",
      "Iteration: 1204,\tBest Fitness: 0.1500\n",
      "Iteration: 1205,\tBest Fitness: 0.1500\n",
      "Iteration: 1206,\tBest Fitness: 0.1500\n",
      "Iteration: 1207,\tBest Fitness: 0.1500\n",
      "Iteration: 1208,\tBest Fitness: 0.1500\n",
      "Iteration: 1209,\tBest Fitness: 0.1500\n",
      "Iteration: 1210,\tBest Fitness: 0.1500\n",
      "Iteration: 1211,\tBest Fitness: 0.1500\n",
      "Iteration: 1212,\tBest Fitness: 0.1500\n",
      "Iteration: 1213,\tBest Fitness: 0.1500\n",
      "Iteration: 1214,\tBest Fitness: 0.1500\n",
      "Iteration: 1215,\tBest Fitness: 0.1500\n",
      "Iteration: 1216,\tBest Fitness: 0.1500\n",
      "Iteration: 1217,\tBest Fitness: 0.1500\n",
      "Iteration: 1218,\tBest Fitness: 0.1500\n",
      "Iteration: 1219,\tBest Fitness: 0.1500\n",
      "Iteration: 1220,\tBest Fitness: 0.1500\n",
      "Iteration: 1221,\tBest Fitness: 0.1500\n",
      "Iteration: 1222,\tBest Fitness: 0.1500\n",
      "Iteration: 1223,\tBest Fitness: 0.1500\n",
      "Iteration: 1224,\tBest Fitness: 0.1500\n",
      "Iteration: 1225,\tBest Fitness: 0.1500\n",
      "Iteration: 1226,\tBest Fitness: 0.1500\n",
      "Iteration: 1227,\tBest Fitness: 0.1500\n",
      "Iteration: 1228,\tBest Fitness: 0.1500\n",
      "Iteration: 1229,\tBest Fitness: 0.1500\n",
      "Iteration: 1230,\tBest Fitness: 0.1500\n",
      "Iteration: 1231,\tBest Fitness: 0.1500\n",
      "Iteration: 1232,\tBest Fitness: 0.1500\n",
      "Iteration: 1233,\tBest Fitness: 0.1500\n",
      "Iteration: 1234,\tBest Fitness: 0.1500\n",
      "Iteration: 1235,\tBest Fitness: 0.1500\n",
      "Iteration: 1236,\tBest Fitness: 0.1500\n",
      "Iteration: 1237,\tBest Fitness: 0.1500\n",
      "Iteration: 1238,\tBest Fitness: 0.1500\n",
      "Iteration: 1239,\tBest Fitness: 0.1500\n",
      "Iteration: 1240,\tBest Fitness: 0.1500\n",
      "Iteration: 1241,\tBest Fitness: 0.1500\n",
      "Iteration: 1242,\tBest Fitness: 0.1500\n",
      "Iteration: 1243,\tBest Fitness: 0.1500\n",
      "Iteration: 1244,\tBest Fitness: 0.1500\n",
      "Iteration: 1245,\tBest Fitness: 0.1500\n",
      "Iteration: 1246,\tBest Fitness: 0.1500\n",
      "Iteration: 1247,\tBest Fitness: 0.1500\n",
      "Iteration: 1248,\tBest Fitness: 0.1500\n",
      "Iteration: 1249,\tBest Fitness: 0.1500\n",
      "Iteration: 1250,\tBest Fitness: 0.1500\n",
      "Iteration: 1251,\tBest Fitness: 0.1500\n",
      "Iteration: 1252,\tBest Fitness: 0.1500\n",
      "Iteration: 1253,\tBest Fitness: 0.1500\n",
      "Iteration: 1254,\tBest Fitness: 0.1500\n",
      "Iteration: 1255,\tBest Fitness: 0.1500\n",
      "Iteration: 1256,\tBest Fitness: 0.1500\n",
      "Iteration: 1257,\tBest Fitness: 0.1500\n",
      "Iteration: 1258,\tBest Fitness: 0.1500\n",
      "Iteration: 1259,\tBest Fitness: 0.1500\n",
      "Iteration: 1260,\tBest Fitness: 0.1500\n",
      "Iteration: 1261,\tBest Fitness: 0.1500\n",
      "Iteration: 1262,\tBest Fitness: 0.1500\n",
      "Iteration: 1263,\tBest Fitness: 0.1500\n",
      "Iteration: 1264,\tBest Fitness: 0.1500\n",
      "Iteration: 1265,\tBest Fitness: 0.1500\n",
      "Iteration: 1266,\tBest Fitness: 0.1500\n",
      "Iteration: 1267,\tBest Fitness: 0.1500\n",
      "Iteration: 1268,\tBest Fitness: 0.1500\n",
      "Iteration: 1269,\tBest Fitness: 0.1500\n",
      "Iteration: 1270,\tBest Fitness: 0.1500\n",
      "Iteration: 1271,\tBest Fitness: 0.1500\n",
      "Iteration: 1272,\tBest Fitness: 0.1500\n",
      "Iteration: 1273,\tBest Fitness: 0.1500\n",
      "Iteration: 1274,\tBest Fitness: 0.1500\n",
      "Iteration: 1275,\tBest Fitness: 0.1500\n",
      "Iteration: 1276,\tBest Fitness: 0.1500\n",
      "Iteration: 1277,\tBest Fitness: 0.1500\n",
      "Iteration: 1278,\tBest Fitness: 0.1500\n",
      "Iteration: 1279,\tBest Fitness: 0.1500\n",
      "Iteration: 1280,\tBest Fitness: 0.1500\n",
      "Iteration: 1281,\tBest Fitness: 0.1500\n",
      "Iteration: 1282,\tBest Fitness: 0.1500\n",
      "Iteration: 1283,\tBest Fitness: 0.1500\n",
      "Iteration: 1284,\tBest Fitness: 0.1500\n",
      "Iteration: 1285,\tBest Fitness: 0.1500\n",
      "Iteration: 1286,\tBest Fitness: 0.1500\n",
      "Iteration: 1287,\tBest Fitness: 0.1500\n",
      "Iteration: 1288,\tBest Fitness: 0.1500\n",
      "Iteration: 1289,\tBest Fitness: 0.1500\n",
      "Iteration: 1290,\tBest Fitness: 0.1500\n",
      "Iteration: 1291,\tBest Fitness: 0.1500\n",
      "Iteration: 1292,\tBest Fitness: 0.1500\n",
      "Iteration: 1293,\tBest Fitness: 0.1500\n",
      "Iteration: 1294,\tBest Fitness: 0.1500\n",
      "Iteration: 1295,\tBest Fitness: 0.1500\n",
      "Iteration: 1296,\tBest Fitness: 0.1500\n",
      "Iteration: 1297,\tBest Fitness: 0.1500\n",
      "Iteration: 1298,\tBest Fitness: 0.1500\n",
      "Iteration: 1299,\tBest Fitness: 0.1500\n",
      "Iteration: 1300,\tBest Fitness: 0.1500\n",
      "Iteration: 1301,\tBest Fitness: 0.1500\n",
      "Iteration: 1302,\tBest Fitness: 0.1500\n",
      "Iteration: 1303,\tBest Fitness: 0.1500\n",
      "Iteration: 1304,\tBest Fitness: 0.1500\n",
      "Iteration: 1305,\tBest Fitness: 0.1500\n",
      "Iteration: 1306,\tBest Fitness: 0.1500\n",
      "Iteration: 1307,\tBest Fitness: 0.1500\n",
      "Iteration: 1308,\tBest Fitness: 0.1500\n",
      "Iteration: 1309,\tBest Fitness: 0.1500\n",
      "Iteration: 1310,\tBest Fitness: 0.1500\n",
      "Iteration: 1311,\tBest Fitness: 0.1500\n",
      "Iteration: 1312,\tBest Fitness: 0.1500\n",
      "Iteration: 1313,\tBest Fitness: 0.1500\n",
      "Iteration: 1314,\tBest Fitness: 0.1500\n",
      "Iteration: 1315,\tBest Fitness: 0.1500\n",
      "Iteration: 1316,\tBest Fitness: 0.1500\n",
      "Iteration: 1317,\tBest Fitness: 0.1500\n",
      "Iteration: 1318,\tBest Fitness: 0.1500\n",
      "Iteration: 1319,\tBest Fitness: 0.1500\n",
      "Iteration: 1320,\tBest Fitness: 0.1500\n",
      "Iteration: 1321,\tBest Fitness: 0.1500\n",
      "Iteration: 1322,\tBest Fitness: 0.1500\n",
      "Iteration: 1323,\tBest Fitness: 0.1500\n",
      "Iteration: 1324,\tBest Fitness: 0.1500\n",
      "Iteration: 1325,\tBest Fitness: 0.1500\n",
      "Iteration: 1326,\tBest Fitness: 0.1500\n",
      "Iteration: 1327,\tBest Fitness: 0.1500\n",
      "Iteration: 1328,\tBest Fitness: 0.1500\n",
      "Iteration: 1329,\tBest Fitness: 0.1500\n",
      "Iteration: 1330,\tBest Fitness: 0.1500\n",
      "Iteration: 1331,\tBest Fitness: 0.1500\n",
      "Iteration: 1332,\tBest Fitness: 0.1500\n",
      "Iteration: 1333,\tBest Fitness: 0.1500\n",
      "Iteration: 1334,\tBest Fitness: 0.1500\n",
      "Iteration: 1335,\tBest Fitness: 0.1500\n",
      "Iteration: 1336,\tBest Fitness: 0.1500\n",
      "Iteration: 1337,\tBest Fitness: 0.1500\n",
      "Iteration: 1338,\tBest Fitness: 0.1500\n",
      "Iteration: 1339,\tBest Fitness: 0.1500\n",
      "Iteration: 1340,\tBest Fitness: 0.1500\n",
      "Iteration: 1341,\tBest Fitness: 0.1500\n",
      "Iteration: 1342,\tBest Fitness: 0.1500\n",
      "Iteration: 1343,\tBest Fitness: 0.1500\n",
      "Iteration: 1344,\tBest Fitness: 0.1500\n",
      "Iteration: 1345,\tBest Fitness: 0.1500\n",
      "Iteration: 1346,\tBest Fitness: 0.1500\n",
      "Iteration: 1347,\tBest Fitness: 0.1500\n",
      "Iteration: 1348,\tBest Fitness: 0.1500\n",
      "Iteration: 1349,\tBest Fitness: 0.1500\n",
      "Iteration: 1350,\tBest Fitness: 0.1500\n",
      "Iteration: 1351,\tBest Fitness: 0.1500\n",
      "Iteration: 1352,\tBest Fitness: 0.1500\n",
      "Iteration: 1353,\tBest Fitness: 0.1500\n",
      "Iteration: 1354,\tBest Fitness: 0.1500\n",
      "Iteration: 1355,\tBest Fitness: 0.1500\n",
      "Iteration: 1356,\tBest Fitness: 0.1500\n",
      "Iteration: 1357,\tBest Fitness: 0.1500\n",
      "Iteration: 1358,\tBest Fitness: 0.1500\n",
      "Iteration: 1359,\tBest Fitness: 0.1500\n",
      "Iteration: 1360,\tBest Fitness: 0.1500\n",
      "Iteration: 1361,\tBest Fitness: 0.1500\n",
      "Iteration: 1362,\tBest Fitness: 0.1500\n",
      "Iteration: 1363,\tBest Fitness: 0.1500\n",
      "Iteration: 1364,\tBest Fitness: 0.1500\n",
      "Iteration: 1365,\tBest Fitness: 0.1500\n",
      "Iteration: 1366,\tBest Fitness: 0.1500\n",
      "Iteration: 1367,\tBest Fitness: 0.1500\n",
      "Iteration: 1368,\tBest Fitness: 0.1500\n",
      "Iteration: 1369,\tBest Fitness: 0.1500\n",
      "Iteration: 1370,\tBest Fitness: 0.1500\n",
      "Iteration: 1371,\tBest Fitness: 0.1500\n",
      "Iteration: 1372,\tBest Fitness: 0.1500\n",
      "Iteration: 1373,\tBest Fitness: 0.1500\n",
      "Iteration: 1374,\tBest Fitness: 0.1500\n",
      "Iteration: 1375,\tBest Fitness: 0.1500\n",
      "Iteration: 1376,\tBest Fitness: 0.1500\n",
      "Iteration: 1377,\tBest Fitness: 0.1500\n",
      "Iteration: 1378,\tBest Fitness: 0.1500\n",
      "Iteration: 1379,\tBest Fitness: 0.1500\n",
      "Iteration: 1380,\tBest Fitness: 0.1500\n",
      "Iteration: 1381,\tBest Fitness: 0.1500\n",
      "Iteration: 1382,\tBest Fitness: 0.1500\n",
      "Iteration: 1383,\tBest Fitness: 0.1500\n",
      "Iteration: 1384,\tBest Fitness: 0.1500\n",
      "Iteration: 1385,\tBest Fitness: 0.1500\n",
      "Iteration: 1386,\tBest Fitness: 0.1500\n",
      "Iteration: 1387,\tBest Fitness: 0.1500\n",
      "Iteration: 1388,\tBest Fitness: 0.1500\n",
      "Iteration: 1389,\tBest Fitness: 0.1500\n",
      "Iteration: 1390,\tBest Fitness: 0.1500\n",
      "Iteration: 1391,\tBest Fitness: 0.1500\n",
      "Iteration: 1392,\tBest Fitness: 0.1500\n",
      "Iteration: 1393,\tBest Fitness: 0.1500\n",
      "Iteration: 1394,\tBest Fitness: 0.1500\n",
      "Iteration: 1395,\tBest Fitness: 0.1500\n",
      "Iteration: 1396,\tBest Fitness: 0.1500\n",
      "Iteration: 1397,\tBest Fitness: 0.1500\n",
      "Iteration: 1398,\tBest Fitness: 0.1500\n",
      "Iteration: 1399,\tBest Fitness: 0.1500\n",
      "Iteration: 1400,\tBest Fitness: 0.1500\n",
      "Iteration: 1401,\tBest Fitness: 0.1500\n",
      "Iteration: 1402,\tBest Fitness: 0.1500\n",
      "Iteration: 1403,\tBest Fitness: 0.1500\n",
      "Iteration: 1404,\tBest Fitness: 0.1500\n",
      "Iteration: 1405,\tBest Fitness: 0.1500\n",
      "Iteration: 1406,\tBest Fitness: 0.1500\n",
      "Iteration: 1407,\tBest Fitness: 0.1500\n",
      "Iteration: 1408,\tBest Fitness: 0.1500\n",
      "Iteration: 1409,\tBest Fitness: 0.1500\n",
      "Iteration: 1410,\tBest Fitness: 0.1500\n",
      "Iteration: 1411,\tBest Fitness: 0.1500\n",
      "Iteration: 1412,\tBest Fitness: 0.1500\n",
      "Iteration: 1413,\tBest Fitness: 0.1500\n",
      "Iteration: 1414,\tBest Fitness: 0.1500\n",
      "Iteration: 1415,\tBest Fitness: 0.1500\n",
      "Iteration: 1416,\tBest Fitness: 0.1500\n",
      "Iteration: 1417,\tBest Fitness: 0.1500\n",
      "Iteration: 1418,\tBest Fitness: 0.1500\n",
      "Iteration: 1419,\tBest Fitness: 0.1500\n",
      "Iteration: 1420,\tBest Fitness: 0.1500\n",
      "Iteration: 1421,\tBest Fitness: 0.1500\n",
      "Iteration: 1422,\tBest Fitness: 0.1500\n",
      "Iteration: 1423,\tBest Fitness: 0.1500\n",
      "Iteration: 1424,\tBest Fitness: 0.1500\n",
      "Iteration: 1425,\tBest Fitness: 0.1500\n",
      "Iteration: 1426,\tBest Fitness: 0.1500\n",
      "Iteration: 1427,\tBest Fitness: 0.1500\n",
      "Iteration: 1428,\tBest Fitness: 0.1500\n",
      "Iteration: 1429,\tBest Fitness: 0.1500\n",
      "Iteration: 1430,\tBest Fitness: 0.1500\n",
      "Iteration: 1431,\tBest Fitness: 0.1500\n",
      "Iteration: 1432,\tBest Fitness: 0.1500\n",
      "Iteration: 1433,\tBest Fitness: 0.1500\n",
      "Iteration: 1434,\tBest Fitness: 0.1500\n",
      "Iteration: 1435,\tBest Fitness: 0.1500\n",
      "Iteration: 1436,\tBest Fitness: 0.1500\n",
      "Iteration: 1437,\tBest Fitness: 0.1500\n",
      "Iteration: 1438,\tBest Fitness: 0.1500\n",
      "Iteration: 1439,\tBest Fitness: 0.1500\n",
      "Iteration: 1440,\tBest Fitness: 0.1500\n",
      "Iteration: 1441,\tBest Fitness: 0.1500\n",
      "Iteration: 1442,\tBest Fitness: 0.1500\n",
      "Iteration: 1443,\tBest Fitness: 0.1500\n",
      "Iteration: 1444,\tBest Fitness: 0.1500\n",
      "Iteration: 1445,\tBest Fitness: 0.1500\n",
      "Iteration: 1446,\tBest Fitness: 0.1500\n",
      "Iteration: 1447,\tBest Fitness: 0.1500\n",
      "Iteration: 1448,\tBest Fitness: 0.1500\n",
      "Iteration: 1449,\tBest Fitness: 0.1500\n",
      "Iteration: 1450,\tBest Fitness: 0.1500\n",
      "Iteration: 1451,\tBest Fitness: 0.1500\n",
      "Iteration: 1452,\tBest Fitness: 0.1500\n",
      "Iteration: 1453,\tBest Fitness: 0.1500\n",
      "Iteration: 1454,\tBest Fitness: 0.1500\n",
      "Iteration: 1455,\tBest Fitness: 0.1500\n",
      "Iteration: 1456,\tBest Fitness: 0.1500\n",
      "Iteration: 1457,\tBest Fitness: 0.1500\n",
      "Iteration: 1458,\tBest Fitness: 0.1500\n",
      "Iteration: 1459,\tBest Fitness: 0.1500\n",
      "Iteration: 1460,\tBest Fitness: 0.1500\n",
      "Iteration: 1461,\tBest Fitness: 0.1500\n",
      "Iteration: 1462,\tBest Fitness: 0.1500\n",
      "Iteration: 1463,\tBest Fitness: 0.1500\n",
      "Iteration: 1464,\tBest Fitness: 0.1500\n",
      "Iteration: 1465,\tBest Fitness: 0.1500\n",
      "Iteration: 1466,\tBest Fitness: 0.1500\n",
      "Iteration: 1467,\tBest Fitness: 0.1500\n",
      "Iteration: 1468,\tBest Fitness: 0.1500\n",
      "Iteration: 1469,\tBest Fitness: 0.1500\n",
      "Iteration: 1470,\tBest Fitness: 0.1500\n",
      "Iteration: 1471,\tBest Fitness: 0.1500\n",
      "Iteration: 1472,\tBest Fitness: 0.1500\n",
      "Iteration: 1473,\tBest Fitness: 0.1500\n",
      "Iteration: 1474,\tBest Fitness: 0.1500\n",
      "Iteration: 1475,\tBest Fitness: 0.1500\n",
      "Iteration: 1476,\tBest Fitness: 0.1500\n",
      "Iteration: 1477,\tBest Fitness: 0.1500\n",
      "Iteration: 1478,\tBest Fitness: 0.1500\n",
      "Iteration: 1479,\tBest Fitness: 0.1500\n",
      "Iteration: 1480,\tBest Fitness: 0.1500\n",
      "Iteration: 1481,\tBest Fitness: 0.1500\n",
      "Iteration: 1482,\tBest Fitness: 0.1500\n",
      "Iteration: 1483,\tBest Fitness: 0.1500\n",
      "Iteration: 1484,\tBest Fitness: 0.1500\n",
      "Iteration: 1485,\tBest Fitness: 0.1500\n",
      "Iteration: 1486,\tBest Fitness: 0.1500\n",
      "Iteration: 1487,\tBest Fitness: 0.1500\n",
      "Iteration: 1488,\tBest Fitness: 0.1500\n",
      "Iteration: 1489,\tBest Fitness: 0.1500\n",
      "Iteration: 1490,\tBest Fitness: 0.1500\n",
      "Iteration: 1491,\tBest Fitness: 0.1500\n",
      "Iteration: 1492,\tBest Fitness: 0.1500\n",
      "Iteration: 1493,\tBest Fitness: 0.1500\n",
      "Iteration: 1494,\tBest Fitness: 0.1500\n",
      "Iteration: 1495,\tBest Fitness: 0.1500\n",
      "Iteration: 1496,\tBest Fitness: 0.1500\n",
      "Iteration: 1497,\tBest Fitness: 0.1500\n",
      "Iteration: 1498,\tBest Fitness: 0.1500\n",
      "Iteration: 1499,\tBest Fitness: 0.1500\n",
      "Iteration: 1500,\tBest Fitness: 0.1500\n",
      "\n",
      "Best Fitness (Accuracy): 0.15\n"
     ]
    }
   ],
   "source": [
    "aco_optimizer_xgb = AntColonyOptimization(num_ants=500, max_iter=1500, Model=xgb_model)\n",
    "selected_features_aco = aco_optimizer_xgb.run(train_data_flatten, y_train, test_data_flatten, y_test)"
   ],
   "metadata": {
    "collapsed": false,
    "ExecuteTime": {
     "end_time": "2023-12-26T21:50:26.932529400Z",
     "start_time": "2023-12-26T21:47:54.556761500Z"
    }
   },
   "execution_count": 50
  },
  {
   "cell_type": "code",
   "outputs": [
    {
     "data": {
      "text/plain": "array([ 11,  89, 142, 152,  82,   3, 135,  47, 160,  24,   4,  37, 161,\n        13,  41, 134,  98,   7, 111,  22, 141, 100, 115, 157,  91,  92,\n        61,  55,  26,  50,  29,  50, 112, 126, 106,  33,  32, 144,  95,\n       126, 154, 140, 120,  57, 129,   3,  82, 151, 141, 147, 118, 172,\n       159,  71,  19, 175,  79, 143,  13,  97, 165, 100,  33,  11,  77,\n        15, 148, 174, 109, 118, 162, 147, 103, 104, 164,  92, 100, 104,\n        77,  49,  55, 178, 122,  66, 157, 127, 151, 132, 106,  71,  21,\n       144, 110, 120,  12, 170, 166,  11, 148,  87, 109, 153,  27,  91,\n         4, 114,  79, 144,  81,  31, 162, 160,  61, 101,  16,  21,  72,\n       149, 151,  45,   7, 175, 173,   7,   4,  10,   6,   7,  76,  82,\n        38, 177,  10,  79, 176,  99, 122,  21, 156,  84, 168, 150, 105,\n       130,  50,  42,  22, 166,  83,  54, 124,  38,  48,  58, 140, 160,\n        74,  17,  80, 106,  59, 145, 104, 129, 144,   1,  41,  20,  51,\n       170,  98,  81,  10,  64,  44, 111, 104, 158,  81,  33, 122,  35,\n        95,  33,  26, 148,  50, 163, 122, 110,  89,  41, 174,  36,  80,\n        71,  89, 104,  37, 116,  14,  35,  24, 136, 160, 172, 166,  77,\n        88,  28, 103, 126,  25,  43, 132,  98,  67, 116,  14, 179, 129,\n        64,  36, 176,   9,  79,  15, 132,  85,  27, 105, 168,  59, 141,\n        96, 174, 119,  27, 105, 172,  81, 102, 117, 152,  92,  98,  56,\n        56, 146, 105, 161,  30, 102,  73, 113, 146, 107, 167, 131,  82,\n         8, 134, 122,  84,  38, 137, 116, 105,  24,   1,  66,  42, 157,\n       112,  70,  51,   7,  12,  47,  79,  38, 153,  78, 104, 144,  40,\n       148,  30,  96, 134,  53,  74,  69, 101,  56,  32,   3,  99,  80,\n        22,  50,  40, 114, 165,  63, 172, 110,  17,  23, 164,  54, 159,\n       138, 127,  59, 174, 136,  44,  35,  34,  94, 111,  87,  39,  67,\n       168,  21,  87,   8,  32, 125,   9, 122, 106,  36,  24,  36, 132,\n        13,  60,  36,  30,  42, 121, 150, 133,  47, 162, 156, 155, 145,\n        16, 154,  10, 103,  23, 118,  31, 145,  34, 103,  60, 125,  71,\n       143, 112,  93, 105, 125, 107, 122, 121,  67,  54,  19,  44,  23,\n       149, 103, 158,  63,  12,   1,  28,  80, 151,  90, 141, 173, 167,\n       133,   4, 110,  49,  57,  71,  42, 113,  22, 128, 178,  26,  10,\n       150,  66,   5, 156, 138,  42,  92, 137, 153,  81,  69,  57, 143,\n       134,  65,  37,  61, 150, 130,  15,  97, 176,  87,  62,  29, 138,\n        80, 126, 157,  14, 152, 165, 173, 143,   9,  79,  32,  16, 104,\n        79, 179, 124,  96,  57, 112, 175, 130,  88,  14, 114,  34,  77,\n       126, 128, 173,  57, 145,  13,  25, 165,  21, 122,  52,   7, 159,\n        63, 157, 149, 110,  90,  92,  14, 121,  11,  25, 158,  90,   6,\n        72, 164,   5,  32,  42, 152,  23, 125,   9, 152,  19, 163,  79,\n        96, 112, 100, 102,  72,  82])"
     },
     "execution_count": 51,
     "metadata": {},
     "output_type": "execute_result"
    }
   ],
   "source": [
    "selected_features_aco"
   ],
   "metadata": {
    "collapsed": false,
    "ExecuteTime": {
     "end_time": "2023-12-26T21:50:26.956217900Z",
     "start_time": "2023-12-26T21:50:26.932529400Z"
    }
   },
   "execution_count": 51
  },
  {
   "cell_type": "code",
   "outputs": [
    {
     "name": "stdout",
     "output_type": "stream",
     "text": [
      "The Confusion Matrix is: \n"
     ]
    },
    {
     "data": {
      "text/plain": "<Figure size 800x600 with 2 Axes>",
      "image/png": "[encoded data removed]"
     },
     "metadata": {},
     "output_type": "display_data"
    },
    {
     "name": "stdout",
     "output_type": "stream",
     "text": [
      "The Classification Report is: \n",
      "              precision    recall  f1-score   support\n",
      "\n",
      "           0       0.00      0.00      0.00         5\n",
      "           1       1.00      0.20      0.33         5\n",
      "           2       0.00      0.00      0.00         5\n",
      "           3       0.33      0.20      0.25         5\n",
      "           4       0.00      0.00      0.00         5\n",
      "           5       0.40      0.40      0.40         5\n",
      "           6       0.25      0.20      0.22         5\n",
      "           7       0.12      0.20      0.15         5\n",
      "\n",
      "    accuracy                           0.15        40\n",
      "   macro avg       0.26      0.15      0.17        40\n",
      "weighted avg       0.26      0.15      0.17        40\n",
      "\n",
      "Accuracy:  0.1500\n",
      "Best Fitness:  0.1500\n",
      "Precision:  0.2635\n",
      "Recall:  0.1500\n",
      "F1-Score:  0.1699\n"
     ]
    },
    {
     "ename": "AttributeError",
     "evalue": "'XGBClassifier' object has no attribute 'search_space_'",
     "output_type": "error",
     "traceback": [
      "\u001B[0;31m---------------------------------------------------------------------------\u001B[0m",
      "\u001B[0;31mAttributeError\u001B[0m                            Traceback (most recent call last)",
      "Cell \u001B[0;32mIn[52], line 1\u001B[0m\n\u001B[0;32m----> 1\u001B[0m aco_optimizer_xgb\u001B[38;5;241m.\u001B[39mresults()\n",
      "Cell \u001B[0;32mIn[49], line 99\u001B[0m, in \u001B[0;36mAntColonyOptimization.results\u001B[0;34m(self)\u001B[0m\n\u001B[1;32m     96\u001B[0m \u001B[38;5;28mprint\u001B[39m(\u001B[38;5;124mf\u001B[39m\u001B[38;5;124m'\u001B[39m\u001B[38;5;124mF1-Score: \u001B[39m\u001B[38;5;132;01m{\u001B[39;00m\u001B[38;5;28mself\u001B[39m\u001B[38;5;241m.\u001B[39mfinal_f1\u001B[38;5;132;01m:\u001B[39;00m\u001B[38;5;124m .4f\u001B[39m\u001B[38;5;132;01m}\u001B[39;00m\u001B[38;5;124m'\u001B[39m)\n\u001B[1;32m     98\u001B[0m \u001B[38;5;66;03m# Plot the search space\u001B[39;00m\n\u001B[0;32m---> 99\u001B[0m plot_search_space(\u001B[38;5;28mself\u001B[39m\u001B[38;5;241m.\u001B[39mmodel\u001B[38;5;241m.\u001B[39msearch_space_)\n",
      "\u001B[0;31mAttributeError\u001B[0m: 'XGBClassifier' object has no attribute 'search_space_'"
     ]
    }
   ],
   "source": [
    "aco_optimizer_xgb.results()"
   ],
   "metadata": {
    "collapsed": false,
    "ExecuteTime": {
     "end_time": "2023-12-26T21:50:27.248045300Z",
     "start_time": "2023-12-26T21:50:26.941102500Z"
    }
   },
   "execution_count": 52
  },
  {
   "cell_type": "code",
   "outputs": [],
   "source": [
    "aco_optimizer_svm = AntColonyOptimization(num_ants=500, max_iter=1500, Model=svm_model)\n",
    "selected_features_aco = aco_optimizer_svm.run(train_data_flatten, y_train, test_data_flatten, y_test)"
   ],
   "metadata": {
    "collapsed": false,
    "ExecuteTime": {
     "start_time": "2023-12-26T21:50:27.203483700Z"
    }
   }
  },
  {
   "cell_type": "code",
   "outputs": [],
   "source": [
    "selected_features_aco"
   ],
   "metadata": {
    "collapsed": false,
    "ExecuteTime": {
     "start_time": "2023-12-26T21:50:27.203483700Z"
    }
   }
  },
  {
   "cell_type": "code",
   "outputs": [],
   "source": [
    "aco_optimizer_svm.results()"
   ],
   "metadata": {
    "collapsed": false,
    "ExecuteTime": {
     "start_time": "2023-12-26T21:50:27.204484200Z"
    }
   }
  }
 ]
}
